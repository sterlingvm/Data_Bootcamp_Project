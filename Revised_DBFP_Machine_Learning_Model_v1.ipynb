{
  "cells": [
    {
      "cell_type": "markdown",
      "metadata": {
        "id": "n0BawjXPWALv"
      },
      "source": [
        "# COVID-19 & Health Predictor \n",
        "\n",
        "#### - Data Bootcamp Final Project\n",
        "##### - Cordell, Gibbs, Miller, Ross"
      ]
    },
    {
      "cell_type": "code",
      "execution_count": null,
      "metadata": {
        "id": "Qaez9x3gVrkn"
      },
      "outputs": [],
      "source": []
    },
    {
      "cell_type": "markdown",
      "metadata": {
        "id": "13nJrKwfWdyc"
      },
      "source": [
        "# Purpose: \n",
        "### Analyze COVID-19 Positivity or Negativity Based on Correlation to Nutrition"
      ]
    },
    {
      "cell_type": "code",
      "execution_count": null,
      "metadata": {
        "id": "pbLtuBdSWctT"
      },
      "outputs": [],
      "source": []
    },
    {
      "cell_type": "markdown",
      "metadata": {
        "id": "fEaTRIaOW8s7"
      },
      "source": [
        "# Model: Linear Regression Model"
      ]
    },
    {
      "cell_type": "code",
      "execution_count": 1,
      "metadata": {
        "id": "v3RBpJM9WdDy"
      },
      "outputs": [],
      "source": [
        "from sklearn.linear_model import LinearRegression"
      ]
    },
    {
      "cell_type": "markdown",
      "metadata": {
        "id": "WctJgqOdXBQd"
      },
      "source": [
        "## Library & Dependency Installation"
      ]
    },
    {
      "cell_type": "code",
      "execution_count": 2,
      "metadata": {
        "id": "Z7EH209DXAFP"
      },
      "outputs": [],
      "source": [
        "# Scikit-Learn Libraries/Dependencies\n",
        "from sklearn.model_selection import train_test_split\n",
        "from sklearn.preprocessing import StandardScaler\n",
        "from sklearn.metrics import confusion_matrix, accuracy_score, classification_report"
      ]
    },
    {
      "cell_type": "code",
      "execution_count": 3,
      "metadata": {
        "id": "0En9AGs1XAfS"
      },
      "outputs": [],
      "source": [
        "# Data Frame & Data Manipulation Libraries/Dependencies\n",
        "import pandas as pd"
      ]
    },
    {
      "cell_type": "markdown",
      "metadata": {
        "id": "TNb_ymioYq8e"
      },
      "source": [
        "## Loading the Data"
      ]
    },
    {
      "cell_type": "markdown",
      "metadata": {
        "id": "B5MelqPsavcu"
      },
      "source": [
        "#### Physical Path Import"
      ]
    },
    {
      "cell_type": "code",
      "execution_count": 4,
      "metadata": {
        "id": "E1J3PcgpYqUq"
      },
      "outputs": [],
      "source": [
        "# Create File Path\n",
        "file_path = \"https://raw.githubusercontent.com/sterlingvm/Data_Bootcamp_Project/projectrepo/final_joined_data.csv\"\n",
        "\n",
        "# Build the Dataframe\n",
        "dataframe = pd.read_csv(file_path)"
      ]
    },
    {
      "cell_type": "code",
      "execution_count": 5,
      "metadata": {
        "id": "Aim8nwEdYoFE"
      },
      "outputs": [
        {
          "data": {
            "text/html": [
              "<div>\n",
              "<style scoped>\n",
              "    .dataframe tbody tr th:only-of-type {\n",
              "        vertical-align: middle;\n",
              "    }\n",
              "\n",
              "    .dataframe tbody tr th {\n",
              "        vertical-align: top;\n",
              "    }\n",
              "\n",
              "    .dataframe thead th {\n",
              "        text-align: right;\n",
              "    }\n",
              "</style>\n",
              "<table border=\"1\" class=\"dataframe\">\n",
              "  <thead>\n",
              "    <tr style=\"text-align: right;\">\n",
              "      <th></th>\n",
              "      <th>COUNTRY</th>\n",
              "      <th>WHO Region</th>\n",
              "      <th>Cases - cumulative total</th>\n",
              "      <th>Cases - cumulative total per 100000 population</th>\n",
              "      <th>Cases - newly reported in last 7 days</th>\n",
              "      <th>Cases - newly reported in last 7 days per 100000 population</th>\n",
              "      <th>Cases - newly reported in last 24 hours</th>\n",
              "      <th>Deaths - cumulative total</th>\n",
              "      <th>Deaths - cumulative total per 100000 population</th>\n",
              "      <th>Deaths - newly reported in last 7 days</th>\n",
              "      <th>...</th>\n",
              "      <th>Fruits - Excluding Wine</th>\n",
              "      <th>Meat</th>\n",
              "      <th>Milk - Excluding Butter</th>\n",
              "      <th>Sugar &amp; Sweeteners</th>\n",
              "      <th>Treenuts</th>\n",
              "      <th>Vegetable Oils</th>\n",
              "      <th>Vegetables</th>\n",
              "      <th>Vegetal Products</th>\n",
              "      <th>Obesity</th>\n",
              "      <th>Undernourished</th>\n",
              "    </tr>\n",
              "  </thead>\n",
              "  <tbody>\n",
              "    <tr>\n",
              "      <th>0</th>\n",
              "      <td>Albania</td>\n",
              "      <td>Europe</td>\n",
              "      <td>275416</td>\n",
              "      <td>9570.366</td>\n",
              "      <td>225</td>\n",
              "      <td>7.818</td>\n",
              "      <td>44</td>\n",
              "      <td>3497</td>\n",
              "      <td>121.516</td>\n",
              "      <td>1</td>\n",
              "      <td>...</td>\n",
              "      <td>6.7861</td>\n",
              "      <td>1.8845</td>\n",
              "      <td>15.7213</td>\n",
              "      <td>1.5367</td>\n",
              "      <td>0.1515</td>\n",
              "      <td>0.3261</td>\n",
              "      <td>11.7753</td>\n",
              "      <td>31.2304</td>\n",
              "      <td>22.3</td>\n",
              "      <td>6.2</td>\n",
              "    </tr>\n",
              "    <tr>\n",
              "      <th>1</th>\n",
              "      <td>Algeria</td>\n",
              "      <td>Africa</td>\n",
              "      <td>265800</td>\n",
              "      <td>606.143</td>\n",
              "      <td>18</td>\n",
              "      <td>0.041</td>\n",
              "      <td>0</td>\n",
              "      <td>6875</td>\n",
              "      <td>15.678</td>\n",
              "      <td>0</td>\n",
              "      <td>...</td>\n",
              "      <td>6.3801</td>\n",
              "      <td>1.1305</td>\n",
              "      <td>7.6189</td>\n",
              "      <td>1.8342</td>\n",
              "      <td>0.1152</td>\n",
              "      <td>1.0310</td>\n",
              "      <td>11.6484</td>\n",
              "      <td>40.3651</td>\n",
              "      <td>26.6</td>\n",
              "      <td>3.9</td>\n",
              "    </tr>\n",
              "    <tr>\n",
              "      <th>2</th>\n",
              "      <td>Angola</td>\n",
              "      <td>Africa</td>\n",
              "      <td>99287</td>\n",
              "      <td>302.094</td>\n",
              "      <td>0</td>\n",
              "      <td>0.000</td>\n",
              "      <td>0</td>\n",
              "      <td>1900</td>\n",
              "      <td>5.781</td>\n",
              "      <td>0</td>\n",
              "      <td>...</td>\n",
              "      <td>6.0005</td>\n",
              "      <td>2.0571</td>\n",
              "      <td>0.8311</td>\n",
              "      <td>1.8495</td>\n",
              "      <td>0.0061</td>\n",
              "      <td>0.6463</td>\n",
              "      <td>2.3041</td>\n",
              "      <td>45.0722</td>\n",
              "      <td>6.8</td>\n",
              "      <td>25.0</td>\n",
              "    </tr>\n",
              "    <tr>\n",
              "      <th>3</th>\n",
              "      <td>Argentina</td>\n",
              "      <td>Americas</td>\n",
              "      <td>9101319</td>\n",
              "      <td>20137.544</td>\n",
              "      <td>17646</td>\n",
              "      <td>39.043</td>\n",
              "      <td>0</td>\n",
              "      <td>128729</td>\n",
              "      <td>284.825</td>\n",
              "      <td>76</td>\n",
              "      <td>...</td>\n",
              "      <td>6.0435</td>\n",
              "      <td>7.0421</td>\n",
              "      <td>10.2328</td>\n",
              "      <td>3.0536</td>\n",
              "      <td>0.0200</td>\n",
              "      <td>0.9541</td>\n",
              "      <td>4.3503</td>\n",
              "      <td>30.6559</td>\n",
              "      <td>28.5</td>\n",
              "      <td>4.6</td>\n",
              "    </tr>\n",
              "    <tr>\n",
              "      <th>4</th>\n",
              "      <td>Armenia</td>\n",
              "      <td>Europe</td>\n",
              "      <td>422900</td>\n",
              "      <td>14271.570</td>\n",
              "      <td>23</td>\n",
              "      <td>0.776</td>\n",
              "      <td>0</td>\n",
              "      <td>8623</td>\n",
              "      <td>291.000</td>\n",
              "      <td>1</td>\n",
              "      <td>...</td>\n",
              "      <td>6.0989</td>\n",
              "      <td>2.2675</td>\n",
              "      <td>9.9407</td>\n",
              "      <td>2.6579</td>\n",
              "      <td>0.1108</td>\n",
              "      <td>0.4705</td>\n",
              "      <td>16.7019</td>\n",
              "      <td>36.4358</td>\n",
              "      <td>20.9</td>\n",
              "      <td>4.3</td>\n",
              "    </tr>\n",
              "    <tr>\n",
              "      <th>...</th>\n",
              "      <td>...</td>\n",
              "      <td>...</td>\n",
              "      <td>...</td>\n",
              "      <td>...</td>\n",
              "      <td>...</td>\n",
              "      <td>...</td>\n",
              "      <td>...</td>\n",
              "      <td>...</td>\n",
              "      <td>...</td>\n",
              "      <td>...</td>\n",
              "      <td>...</td>\n",
              "      <td>...</td>\n",
              "      <td>...</td>\n",
              "      <td>...</td>\n",
              "      <td>...</td>\n",
              "      <td>...</td>\n",
              "      <td>...</td>\n",
              "      <td>...</td>\n",
              "      <td>...</td>\n",
              "      <td>...</td>\n",
              "      <td>...</td>\n",
              "    </tr>\n",
              "    <tr>\n",
              "      <th>125</th>\n",
              "      <td>Uruguay</td>\n",
              "      <td>Americas</td>\n",
              "      <td>902540</td>\n",
              "      <td>25981.870</td>\n",
              "      <td>2817</td>\n",
              "      <td>81.094</td>\n",
              "      <td>0</td>\n",
              "      <td>7213</td>\n",
              "      <td>207.644</td>\n",
              "      <td>3</td>\n",
              "      <td>...</td>\n",
              "      <td>5.3746</td>\n",
              "      <td>3.7863</td>\n",
              "      <td>12.3906</td>\n",
              "      <td>3.4102</td>\n",
              "      <td>0.0131</td>\n",
              "      <td>1.0337</td>\n",
              "      <td>3.9333</td>\n",
              "      <td>32.1076</td>\n",
              "      <td>28.9</td>\n",
              "      <td>0.0</td>\n",
              "    </tr>\n",
              "    <tr>\n",
              "      <th>126</th>\n",
              "      <td>Uzbekistan</td>\n",
              "      <td>Europe</td>\n",
              "      <td>238747</td>\n",
              "      <td>713.333</td>\n",
              "      <td>111</td>\n",
              "      <td>0.332</td>\n",
              "      <td>4</td>\n",
              "      <td>1637</td>\n",
              "      <td>4.891</td>\n",
              "      <td>0</td>\n",
              "      <td>...</td>\n",
              "      <td>5.2150</td>\n",
              "      <td>1.8621</td>\n",
              "      <td>11.7952</td>\n",
              "      <td>0.5796</td>\n",
              "      <td>0.0649</td>\n",
              "      <td>0.6109</td>\n",
              "      <td>14.8354</td>\n",
              "      <td>35.5540</td>\n",
              "      <td>15.3</td>\n",
              "      <td>6.3</td>\n",
              "    </tr>\n",
              "    <tr>\n",
              "      <th>127</th>\n",
              "      <td>Vanuatu</td>\n",
              "      <td>Western Pacific</td>\n",
              "      <td>8063</td>\n",
              "      <td>2625.144</td>\n",
              "      <td>466</td>\n",
              "      <td>151.720</td>\n",
              "      <td>0</td>\n",
              "      <td>14</td>\n",
              "      <td>4.558</td>\n",
              "      <td>1</td>\n",
              "      <td>...</td>\n",
              "      <td>5.8103</td>\n",
              "      <td>2.7466</td>\n",
              "      <td>1.2692</td>\n",
              "      <td>1.3645</td>\n",
              "      <td>0.0038</td>\n",
              "      <td>0.3674</td>\n",
              "      <td>3.9175</td>\n",
              "      <td>43.3737</td>\n",
              "      <td>23.5</td>\n",
              "      <td>7.2</td>\n",
              "    </tr>\n",
              "    <tr>\n",
              "      <th>128</th>\n",
              "      <td>Venezuela (Bolivarian Republic of)</td>\n",
              "      <td>Americas</td>\n",
              "      <td>522749</td>\n",
              "      <td>1838.339</td>\n",
              "      <td>235</td>\n",
              "      <td>0.826</td>\n",
              "      <td>0</td>\n",
              "      <td>5709</td>\n",
              "      <td>20.077</td>\n",
              "      <td>0</td>\n",
              "      <td>...</td>\n",
              "      <td>7.6460</td>\n",
              "      <td>3.8328</td>\n",
              "      <td>9.3920</td>\n",
              "      <td>3.4106</td>\n",
              "      <td>0.0009</td>\n",
              "      <td>1.3734</td>\n",
              "      <td>4.1474</td>\n",
              "      <td>35.2416</td>\n",
              "      <td>25.2</td>\n",
              "      <td>21.2</td>\n",
              "    </tr>\n",
              "    <tr>\n",
              "      <th>129</th>\n",
              "      <td>Zambia</td>\n",
              "      <td>Africa</td>\n",
              "      <td>319755</td>\n",
              "      <td>1739.316</td>\n",
              "      <td>0</td>\n",
              "      <td>0.000</td>\n",
              "      <td>0</td>\n",
              "      <td>3976</td>\n",
              "      <td>21.628</td>\n",
              "      <td>0</td>\n",
              "      <td>...</td>\n",
              "      <td>1.0183</td>\n",
              "      <td>1.8427</td>\n",
              "      <td>1.7570</td>\n",
              "      <td>1.5632</td>\n",
              "      <td>0.0014</td>\n",
              "      <td>0.6657</td>\n",
              "      <td>3.4649</td>\n",
              "      <td>43.9789</td>\n",
              "      <td>6.5</td>\n",
              "      <td>46.7</td>\n",
              "    </tr>\n",
              "  </tbody>\n",
              "</table>\n",
              "<p>130 rows × 43 columns</p>\n",
              "</div>"
            ],
            "text/plain": [
              "                                COUNTRY       WHO Region  \\\n",
              "0                               Albania           Europe   \n",
              "1                               Algeria           Africa   \n",
              "2                                Angola           Africa   \n",
              "3                             Argentina         Americas   \n",
              "4                               Armenia           Europe   \n",
              "..                                  ...              ...   \n",
              "125                             Uruguay         Americas   \n",
              "126                          Uzbekistan           Europe   \n",
              "127                             Vanuatu  Western Pacific   \n",
              "128  Venezuela (Bolivarian Republic of)         Americas   \n",
              "129                              Zambia           Africa   \n",
              "\n",
              "     Cases - cumulative total  Cases - cumulative total per 100000 population  \\\n",
              "0                      275416                                        9570.366   \n",
              "1                      265800                                         606.143   \n",
              "2                       99287                                         302.094   \n",
              "3                     9101319                                       20137.544   \n",
              "4                      422900                                       14271.570   \n",
              "..                        ...                                             ...   \n",
              "125                    902540                                       25981.870   \n",
              "126                    238747                                         713.333   \n",
              "127                      8063                                        2625.144   \n",
              "128                    522749                                        1838.339   \n",
              "129                    319755                                        1739.316   \n",
              "\n",
              "     Cases - newly reported in last 7 days  \\\n",
              "0                                      225   \n",
              "1                                       18   \n",
              "2                                        0   \n",
              "3                                    17646   \n",
              "4                                       23   \n",
              "..                                     ...   \n",
              "125                                   2817   \n",
              "126                                    111   \n",
              "127                                    466   \n",
              "128                                    235   \n",
              "129                                      0   \n",
              "\n",
              "     Cases - newly reported in last 7 days per 100000 population  \\\n",
              "0                                                7.818             \n",
              "1                                                0.041             \n",
              "2                                                0.000             \n",
              "3                                               39.043             \n",
              "4                                                0.776             \n",
              "..                                                 ...             \n",
              "125                                             81.094             \n",
              "126                                              0.332             \n",
              "127                                            151.720             \n",
              "128                                              0.826             \n",
              "129                                              0.000             \n",
              "\n",
              "     Cases - newly reported in last 24 hours  Deaths - cumulative total  \\\n",
              "0                                         44                       3497   \n",
              "1                                          0                       6875   \n",
              "2                                          0                       1900   \n",
              "3                                          0                     128729   \n",
              "4                                          0                       8623   \n",
              "..                                       ...                        ...   \n",
              "125                                        0                       7213   \n",
              "126                                        4                       1637   \n",
              "127                                        0                         14   \n",
              "128                                        0                       5709   \n",
              "129                                        0                       3976   \n",
              "\n",
              "     Deaths - cumulative total per 100000 population  \\\n",
              "0                                            121.516   \n",
              "1                                             15.678   \n",
              "2                                              5.781   \n",
              "3                                            284.825   \n",
              "4                                            291.000   \n",
              "..                                               ...   \n",
              "125                                          207.644   \n",
              "126                                            4.891   \n",
              "127                                            4.558   \n",
              "128                                           20.077   \n",
              "129                                           21.628   \n",
              "\n",
              "     Deaths - newly reported in last 7 days  ...  Fruits - Excluding Wine  \\\n",
              "0                                         1  ...                   6.7861   \n",
              "1                                         0  ...                   6.3801   \n",
              "2                                         0  ...                   6.0005   \n",
              "3                                        76  ...                   6.0435   \n",
              "4                                         1  ...                   6.0989   \n",
              "..                                      ...  ...                      ...   \n",
              "125                                       3  ...                   5.3746   \n",
              "126                                       0  ...                   5.2150   \n",
              "127                                       1  ...                   5.8103   \n",
              "128                                       0  ...                   7.6460   \n",
              "129                                       0  ...                   1.0183   \n",
              "\n",
              "       Meat  Milk - Excluding Butter Sugar & Sweeteners Treenuts  \\\n",
              "0    1.8845                  15.7213             1.5367   0.1515   \n",
              "1    1.1305                   7.6189             1.8342   0.1152   \n",
              "2    2.0571                   0.8311             1.8495   0.0061   \n",
              "3    7.0421                  10.2328             3.0536   0.0200   \n",
              "4    2.2675                   9.9407             2.6579   0.1108   \n",
              "..      ...                      ...                ...      ...   \n",
              "125  3.7863                  12.3906             3.4102   0.0131   \n",
              "126  1.8621                  11.7952             0.5796   0.0649   \n",
              "127  2.7466                   1.2692             1.3645   0.0038   \n",
              "128  3.8328                   9.3920             3.4106   0.0009   \n",
              "129  1.8427                   1.7570             1.5632   0.0014   \n",
              "\n",
              "    Vegetable Oils Vegetables  Vegetal Products  Obesity  Undernourished  \n",
              "0           0.3261    11.7753           31.2304     22.3             6.2  \n",
              "1           1.0310    11.6484           40.3651     26.6             3.9  \n",
              "2           0.6463     2.3041           45.0722      6.8            25.0  \n",
              "3           0.9541     4.3503           30.6559     28.5             4.6  \n",
              "4           0.4705    16.7019           36.4358     20.9             4.3  \n",
              "..             ...        ...               ...      ...             ...  \n",
              "125         1.0337     3.9333           32.1076     28.9             0.0  \n",
              "126         0.6109    14.8354           35.5540     15.3             6.3  \n",
              "127         0.3674     3.9175           43.3737     23.5             7.2  \n",
              "128         1.3734     4.1474           35.2416     25.2            21.2  \n",
              "129         0.6657     3.4649           43.9789      6.5            46.7  \n",
              "\n",
              "[130 rows x 43 columns]"
            ]
          },
          "execution_count": 5,
          "metadata": {},
          "output_type": "execute_result"
        }
      ],
      "source": [
        "# Preview the Data\n",
        "dataframe.head(130)"
      ]
    },
    {
      "cell_type": "markdown",
      "metadata": {
        "id": "MMuAPwgua0Rh"
      },
      "source": [
        "## Connect to Database"
      ]
    },
    {
      "cell_type": "code",
      "execution_count": null,
      "metadata": {
        "id": "mUy2CUAmkhv-"
      },
      "outputs": [],
      "source": []
    },
    {
      "cell_type": "code",
      "execution_count": 6,
      "metadata": {
        "id": "xpRKc-ADa4KY"
      },
      "outputs": [
        {
          "name": "stdout",
          "output_type": "stream",
          "text": [
            "zsh:1: command not found: wget\n"
          ]
        }
      ],
      "source": [
        "# Install Postgres Driver\n",
        "!wget https://jdbc.postgresql.org/download/postgresql-42.2.16.jar"
      ]
    },
    {
      "cell_type": "markdown",
      "metadata": {
        "id": "m0iR3nMLdi-J"
      },
      "source": [
        "##### Build Database Connection"
      ]
    },
    {
      "cell_type": "code",
      "execution_count": 7,
      "metadata": {
        "id": "BFJwsLQDlnnx"
      },
      "outputs": [],
      "source": [
        "# # Import Module to Communicate with PostgreSQL\n",
        "# import psycopg2 as pg\n",
        "\n",
        "# # Import Password Protector\n",
        "# from getpass import getpass\n",
        "# passw = getpass('Enter your Password')\n",
        "\n",
        "# # Build Engine for Connection\n",
        "# engine = pg.connect(database=\"Final_Project\",  user=\"postgres\", host=\"localhost\", port=\"5432\", password=passw)\n",
        "\n",
        "# dataframe = pd.read_sql('SELECT covid.*, nutrition.\"Alcoholic Beverages\",nutrition.\"Animal Products\",nutrition.\"Cereals - Excluding Beer\",nutrition.\"Eggs\",nutrition.\"Fish, Seafood\",nutrition.\"Fruits - Excluding Wine\",nutrition.\"Meat\",nutrition.\"Milk - Excluding Butter\",nutrition.\"Sugar & Sweeteners\",nutrition.\"Treenuts\",nutrition.\"Vegetable Oils\",nutrition.\"Vegetables\",nutrition.\"Vegetal Products\",nutrition.\"Obesity\",nutrition.\"Undernourished\" FROM covid INNER JOIN nutrition ON covid.\"COUNTRY\" = nutrition.\"COUNTRY\" ORDER BY \"COUNTRY\";', con=engine)"
      ]
    },
    {
      "cell_type": "code",
      "execution_count": 8,
      "metadata": {},
      "outputs": [
        {
          "data": {
            "text/html": [
              "<div>\n",
              "<style scoped>\n",
              "    .dataframe tbody tr th:only-of-type {\n",
              "        vertical-align: middle;\n",
              "    }\n",
              "\n",
              "    .dataframe tbody tr th {\n",
              "        vertical-align: top;\n",
              "    }\n",
              "\n",
              "    .dataframe thead th {\n",
              "        text-align: right;\n",
              "    }\n",
              "</style>\n",
              "<table border=\"1\" class=\"dataframe\">\n",
              "  <thead>\n",
              "    <tr style=\"text-align: right;\">\n",
              "      <th></th>\n",
              "      <th>COUNTRY</th>\n",
              "      <th>WHO Region</th>\n",
              "      <th>Cases - cumulative total</th>\n",
              "      <th>Cases - cumulative total per 100000 population</th>\n",
              "      <th>Cases - newly reported in last 7 days</th>\n",
              "      <th>Cases - newly reported in last 7 days per 100000 population</th>\n",
              "      <th>Cases - newly reported in last 24 hours</th>\n",
              "      <th>Deaths - cumulative total</th>\n",
              "      <th>Deaths - cumulative total per 100000 population</th>\n",
              "      <th>Deaths - newly reported in last 7 days</th>\n",
              "      <th>...</th>\n",
              "      <th>Fruits - Excluding Wine</th>\n",
              "      <th>Meat</th>\n",
              "      <th>Milk - Excluding Butter</th>\n",
              "      <th>Sugar &amp; Sweeteners</th>\n",
              "      <th>Treenuts</th>\n",
              "      <th>Vegetable Oils</th>\n",
              "      <th>Vegetables</th>\n",
              "      <th>Vegetal Products</th>\n",
              "      <th>Obesity</th>\n",
              "      <th>Undernourished</th>\n",
              "    </tr>\n",
              "  </thead>\n",
              "  <tbody>\n",
              "    <tr>\n",
              "      <th>0</th>\n",
              "      <td>Albania</td>\n",
              "      <td>Europe</td>\n",
              "      <td>275416</td>\n",
              "      <td>9570.366</td>\n",
              "      <td>225</td>\n",
              "      <td>7.818</td>\n",
              "      <td>44</td>\n",
              "      <td>3497</td>\n",
              "      <td>121.516</td>\n",
              "      <td>1</td>\n",
              "      <td>...</td>\n",
              "      <td>6.7861</td>\n",
              "      <td>1.8845</td>\n",
              "      <td>15.7213</td>\n",
              "      <td>1.5367</td>\n",
              "      <td>0.1515</td>\n",
              "      <td>0.3261</td>\n",
              "      <td>11.7753</td>\n",
              "      <td>31.2304</td>\n",
              "      <td>22.3</td>\n",
              "      <td>6.2</td>\n",
              "    </tr>\n",
              "    <tr>\n",
              "      <th>1</th>\n",
              "      <td>Algeria</td>\n",
              "      <td>Africa</td>\n",
              "      <td>265800</td>\n",
              "      <td>606.143</td>\n",
              "      <td>18</td>\n",
              "      <td>0.041</td>\n",
              "      <td>0</td>\n",
              "      <td>6875</td>\n",
              "      <td>15.678</td>\n",
              "      <td>0</td>\n",
              "      <td>...</td>\n",
              "      <td>6.3801</td>\n",
              "      <td>1.1305</td>\n",
              "      <td>7.6189</td>\n",
              "      <td>1.8342</td>\n",
              "      <td>0.1152</td>\n",
              "      <td>1.0310</td>\n",
              "      <td>11.6484</td>\n",
              "      <td>40.3651</td>\n",
              "      <td>26.6</td>\n",
              "      <td>3.9</td>\n",
              "    </tr>\n",
              "    <tr>\n",
              "      <th>2</th>\n",
              "      <td>Angola</td>\n",
              "      <td>Africa</td>\n",
              "      <td>99287</td>\n",
              "      <td>302.094</td>\n",
              "      <td>0</td>\n",
              "      <td>0.000</td>\n",
              "      <td>0</td>\n",
              "      <td>1900</td>\n",
              "      <td>5.781</td>\n",
              "      <td>0</td>\n",
              "      <td>...</td>\n",
              "      <td>6.0005</td>\n",
              "      <td>2.0571</td>\n",
              "      <td>0.8311</td>\n",
              "      <td>1.8495</td>\n",
              "      <td>0.0061</td>\n",
              "      <td>0.6463</td>\n",
              "      <td>2.3041</td>\n",
              "      <td>45.0722</td>\n",
              "      <td>6.8</td>\n",
              "      <td>25.0</td>\n",
              "    </tr>\n",
              "    <tr>\n",
              "      <th>3</th>\n",
              "      <td>Argentina</td>\n",
              "      <td>Americas</td>\n",
              "      <td>9101319</td>\n",
              "      <td>20137.544</td>\n",
              "      <td>17646</td>\n",
              "      <td>39.043</td>\n",
              "      <td>0</td>\n",
              "      <td>128729</td>\n",
              "      <td>284.825</td>\n",
              "      <td>76</td>\n",
              "      <td>...</td>\n",
              "      <td>6.0435</td>\n",
              "      <td>7.0421</td>\n",
              "      <td>10.2328</td>\n",
              "      <td>3.0536</td>\n",
              "      <td>0.0200</td>\n",
              "      <td>0.9541</td>\n",
              "      <td>4.3503</td>\n",
              "      <td>30.6559</td>\n",
              "      <td>28.5</td>\n",
              "      <td>4.6</td>\n",
              "    </tr>\n",
              "    <tr>\n",
              "      <th>4</th>\n",
              "      <td>Armenia</td>\n",
              "      <td>Europe</td>\n",
              "      <td>422900</td>\n",
              "      <td>14271.570</td>\n",
              "      <td>23</td>\n",
              "      <td>0.776</td>\n",
              "      <td>0</td>\n",
              "      <td>8623</td>\n",
              "      <td>291.000</td>\n",
              "      <td>1</td>\n",
              "      <td>...</td>\n",
              "      <td>6.0989</td>\n",
              "      <td>2.2675</td>\n",
              "      <td>9.9407</td>\n",
              "      <td>2.6579</td>\n",
              "      <td>0.1108</td>\n",
              "      <td>0.4705</td>\n",
              "      <td>16.7019</td>\n",
              "      <td>36.4358</td>\n",
              "      <td>20.9</td>\n",
              "      <td>4.3</td>\n",
              "    </tr>\n",
              "  </tbody>\n",
              "</table>\n",
              "<p>5 rows × 43 columns</p>\n",
              "</div>"
            ],
            "text/plain": [
              "     COUNTRY WHO Region  Cases - cumulative total  \\\n",
              "0    Albania     Europe                    275416   \n",
              "1    Algeria     Africa                    265800   \n",
              "2     Angola     Africa                     99287   \n",
              "3  Argentina   Americas                   9101319   \n",
              "4    Armenia     Europe                    422900   \n",
              "\n",
              "   Cases - cumulative total per 100000 population  \\\n",
              "0                                        9570.366   \n",
              "1                                         606.143   \n",
              "2                                         302.094   \n",
              "3                                       20137.544   \n",
              "4                                       14271.570   \n",
              "\n",
              "   Cases - newly reported in last 7 days  \\\n",
              "0                                    225   \n",
              "1                                     18   \n",
              "2                                      0   \n",
              "3                                  17646   \n",
              "4                                     23   \n",
              "\n",
              "   Cases - newly reported in last 7 days per 100000 population  \\\n",
              "0                                              7.818             \n",
              "1                                              0.041             \n",
              "2                                              0.000             \n",
              "3                                             39.043             \n",
              "4                                              0.776             \n",
              "\n",
              "   Cases - newly reported in last 24 hours  Deaths - cumulative total  \\\n",
              "0                                       44                       3497   \n",
              "1                                        0                       6875   \n",
              "2                                        0                       1900   \n",
              "3                                        0                     128729   \n",
              "4                                        0                       8623   \n",
              "\n",
              "   Deaths - cumulative total per 100000 population  \\\n",
              "0                                          121.516   \n",
              "1                                           15.678   \n",
              "2                                            5.781   \n",
              "3                                          284.825   \n",
              "4                                          291.000   \n",
              "\n",
              "   Deaths - newly reported in last 7 days  ...  Fruits - Excluding Wine  \\\n",
              "0                                       1  ...                   6.7861   \n",
              "1                                       0  ...                   6.3801   \n",
              "2                                       0  ...                   6.0005   \n",
              "3                                      76  ...                   6.0435   \n",
              "4                                       1  ...                   6.0989   \n",
              "\n",
              "     Meat  Milk - Excluding Butter Sugar & Sweeteners Treenuts Vegetable Oils  \\\n",
              "0  1.8845                  15.7213             1.5367   0.1515         0.3261   \n",
              "1  1.1305                   7.6189             1.8342   0.1152         1.0310   \n",
              "2  2.0571                   0.8311             1.8495   0.0061         0.6463   \n",
              "3  7.0421                  10.2328             3.0536   0.0200         0.9541   \n",
              "4  2.2675                   9.9407             2.6579   0.1108         0.4705   \n",
              "\n",
              "  Vegetables  Vegetal Products  Obesity  Undernourished  \n",
              "0    11.7753           31.2304     22.3             6.2  \n",
              "1    11.6484           40.3651     26.6             3.9  \n",
              "2     2.3041           45.0722      6.8            25.0  \n",
              "3     4.3503           30.6559     28.5             4.6  \n",
              "4    16.7019           36.4358     20.9             4.3  \n",
              "\n",
              "[5 rows x 43 columns]"
            ]
          },
          "execution_count": 8,
          "metadata": {},
          "output_type": "execute_result"
        }
      ],
      "source": [
        "dataframe.head()"
      ]
    },
    {
      "cell_type": "markdown",
      "metadata": {
        "id": "aWQrK58vaEfy"
      },
      "source": [
        "## Process & Preprocess the Data"
      ]
    },
    {
      "cell_type": "markdown",
      "metadata": {
        "id": "r22ScicytP3H"
      },
      "source": [
        "### Clean the Data"
      ]
    },
    {
      "cell_type": "markdown",
      "metadata": {
        "id": "3Zfg6vM83f1e"
      },
      "source": [
        "##### Identify Categorical Variables/Columns"
      ]
    },
    {
      "cell_type": "code",
      "execution_count": 9,
      "metadata": {
        "id": "LEa0UEd93SpC"
      },
      "outputs": [
        {
          "data": {
            "text/plain": [
              "COUNTRY               131\n",
              "WHO Region              6\n",
              "ISO3                  131\n",
              "WHO_REGION              6\n",
              "DATA_SOURCE             1\n",
              "DATE_UPDATED           16\n",
              "VACCINES_USED          80\n",
              "FIRST_VACCINE_DATE     67\n",
              "dtype: int64"
            ]
          },
          "execution_count": 9,
          "metadata": {},
          "output_type": "execute_result"
        }
      ],
      "source": [
        "# Generate our categorical variable list\n",
        "categorical_columns = dataframe.dtypes[dataframe.dtypes == \"object\"].index.tolist()\n",
        "\n",
        "# Check the number of unique values in each column\n",
        "dataframe[categorical_columns].nunique()"
      ]
    },
    {
      "cell_type": "code",
      "execution_count": 10,
      "metadata": {},
      "outputs": [
        {
          "data": {
            "text/plain": [
              "Index(['COUNTRY', 'WHO Region', 'Cases - cumulative total',\n",
              "       'Cases - cumulative total per 100000 population',\n",
              "       'Cases - newly reported in last 7 days',\n",
              "       'Cases - newly reported in last 7 days per 100000 population',\n",
              "       'Cases - newly reported in last 24 hours', 'Deaths - cumulative total',\n",
              "       'Deaths - cumulative total per 100000 population',\n",
              "       'Deaths - newly reported in last 7 days',\n",
              "       'Deaths - newly reported in last 7 days per 100000 population',\n",
              "       'Deaths - newly reported in last 24 hours', 'Case_Fatality_Ratio',\n",
              "       'ISO3', 'WHO_REGION', 'DATA_SOURCE', 'DATE_UPDATED',\n",
              "       'TOTAL_VACCINATIONS', 'PERSONS_VACCINATED_1PLUS_DOSE',\n",
              "       'TOTAL_VACCINATIONS_PER100', 'PERSONS_VACCINATED_1PLUS_DOSE_PER100',\n",
              "       'PERSONS_FULLY_VACCINATED', 'PERSONS_FULLY_VACCINATED_PER100',\n",
              "       'VACCINES_USED', 'FIRST_VACCINE_DATE', 'NUMBER_VACCINES_TYPES_USED',\n",
              "       'PERSONS_BOOSTER_ADD_DOSE', 'PERSONS_BOOSTER_ADD_DOSE_PER100',\n",
              "       'Alcoholic Beverages', 'Animal Products', 'Cereals - Excluding Beer',\n",
              "       'Eggs', 'Fish, Seafood', 'Fruits - Excluding Wine', 'Meat',\n",
              "       'Milk - Excluding Butter', 'Sugar & Sweeteners', 'Treenuts',\n",
              "       'Vegetable Oils', 'Vegetables', 'Vegetal Products', 'Obesity',\n",
              "       'Undernourished'],\n",
              "      dtype='object')"
            ]
          },
          "execution_count": 10,
          "metadata": {},
          "output_type": "execute_result"
        }
      ],
      "source": [
        "dataframe.columns"
      ]
    },
    {
      "cell_type": "code",
      "execution_count": 11,
      "metadata": {},
      "outputs": [],
      "source": [
        "droppable = [\"WHO Region\", \"COUNTRY\", \"ISO3\", \"WHO_REGION\", \"DATA_SOURCE\", \"DATE_UPDATED\", \"VACCINES_USED\", \"FIRST_VACCINE_DATE\", \"Undernourished\"]"
      ]
    },
    {
      "cell_type": "markdown",
      "metadata": {
        "id": "seoCFUDA9AY3"
      },
      "source": [
        "##### Determing Bucketing - if categorical column has more than 10 unique values, consider binning!\n"
      ]
    },
    {
      "cell_type": "code",
      "execution_count": 12,
      "metadata": {
        "id": "IeA0LvGE9Ld5"
      },
      "outputs": [],
      "source": [
        "## OPTIONAL ##\n",
        "\n",
        "## Analyze frequencies of unique values in categorical column(s)\n",
        "# column1_counts = dataframe.insert_column_name_here.value_counts()\n",
        "\n",
        "## Plot the value counts - then determine the cut off(s) for binning\n",
        "# column1_counts.plot.density()"
      ]
    },
    {
      "cell_type": "code",
      "execution_count": 13,
      "metadata": {
        "id": "VF7Sh5-Z-KQl"
      },
      "outputs": [],
      "source": [
        "## OPTIONAL ##\n",
        "\n",
        "## Determine which values to replace\n",
        "# replace_column1 = list(column1_counts[column1_counts < cutoff_value].index)\n",
        "\n",
        "## Replace the column values you'd like to bucket together in the DataFrame\n",
        "# for value in replace_column1:\n",
        "  # dataframe.insert_column_name_here = dataframe.insert_column_name_here.replace(value,\"New_Bucketed_Value_Name-Ex:'Other'\")\n",
        "\n",
        "## Check to make sure the bucketing/binning was successful\n",
        "# dataframe.insert_column_name_here.value_counts()"
      ]
    },
    {
      "cell_type": "markdown",
      "metadata": {
        "id": "H5ALN5Nc4O6c"
      },
      "source": [
        "##### Encode the Categorical Values"
      ]
    },
    {
      "cell_type": "code",
      "execution_count": 14,
      "metadata": {
        "id": "5zbcZ41v4haH"
      },
      "outputs": [],
      "source": [
        "# Import the LabelEncoder\n",
        "from sklearn.preprocessing import LabelEncoder"
      ]
    },
    {
      "cell_type": "code",
      "execution_count": 15,
      "metadata": {
        "id": "JMC9wR5g6tGA"
      },
      "outputs": [],
      "source": [
        "# # Instantiate LabelEncoder\n",
        "# encoder = LabelEncoder()\n",
        "\n",
        "# # Create a copy of the dataframe and encode the data\n",
        "# dataframe_copy = dataframe.copy()\n",
        "\n",
        "# # Train the LabelEncoder, convert the text columns to string columns\n",
        "# for x in categorical_columns:\n",
        "#   dataframe_copy[f\"{x}\"] = encoder.fit_transform(dataframe_copy[f\"{x}\"])\n",
        "\n",
        "# # Preview the converted tables\n",
        "# dataframe_copy.head(15)"
      ]
    },
    {
      "cell_type": "markdown",
      "metadata": {
        "id": "3p13h1isguD2"
      },
      "source": [
        "### Dataset Training & Test Splitting"
      ]
    },
    {
      "cell_type": "markdown",
      "metadata": {
        "id": "0Tr21vybhAyP"
      },
      "source": [
        "##### Separate Features from Outcomes"
      ]
    },
    {
      "cell_type": "markdown",
      "metadata": {
        "id": "ladDlXmYhWIj"
      },
      "source": [
        "##### Features(X)"
      ]
    },
    {
      "cell_type": "code",
      "execution_count": 16,
      "metadata": {
        "id": "AX9e213SaOEF"
      },
      "outputs": [
        {
          "data": {
            "text/html": [
              "<div>\n",
              "<style scoped>\n",
              "    .dataframe tbody tr th:only-of-type {\n",
              "        vertical-align: middle;\n",
              "    }\n",
              "\n",
              "    .dataframe tbody tr th {\n",
              "        vertical-align: top;\n",
              "    }\n",
              "\n",
              "    .dataframe thead th {\n",
              "        text-align: right;\n",
              "    }\n",
              "</style>\n",
              "<table border=\"1\" class=\"dataframe\">\n",
              "  <thead>\n",
              "    <tr style=\"text-align: right;\">\n",
              "      <th></th>\n",
              "      <th>Cases - cumulative total per 100000 population</th>\n",
              "      <th>Deaths - cumulative total</th>\n",
              "      <th>Deaths - cumulative total per 100000 population</th>\n",
              "      <th>PERSONS_BOOSTER_ADD_DOSE_PER100</th>\n",
              "    </tr>\n",
              "  </thead>\n",
              "  <tbody>\n",
              "    <tr>\n",
              "      <th>0</th>\n",
              "      <td>9570.366</td>\n",
              "      <td>3497</td>\n",
              "      <td>121.516</td>\n",
              "      <td>10.385</td>\n",
              "    </tr>\n",
              "    <tr>\n",
              "      <th>1</th>\n",
              "      <td>606.143</td>\n",
              "      <td>6875</td>\n",
              "      <td>15.678</td>\n",
              "      <td>1.172</td>\n",
              "    </tr>\n",
              "    <tr>\n",
              "      <th>2</th>\n",
              "      <td>302.094</td>\n",
              "      <td>1900</td>\n",
              "      <td>5.781</td>\n",
              "      <td>1.125</td>\n",
              "    </tr>\n",
              "    <tr>\n",
              "      <th>3</th>\n",
              "      <td>20137.544</td>\n",
              "      <td>128729</td>\n",
              "      <td>284.825</td>\n",
              "      <td>46.716</td>\n",
              "    </tr>\n",
              "    <tr>\n",
              "      <th>4</th>\n",
              "      <td>14271.570</td>\n",
              "      <td>8623</td>\n",
              "      <td>291.000</td>\n",
              "      <td>1.409</td>\n",
              "    </tr>\n",
              "    <tr>\n",
              "      <th>5</th>\n",
              "      <td>24817.791</td>\n",
              "      <td>7565</td>\n",
              "      <td>29.667</td>\n",
              "      <td>52.932</td>\n",
              "    </tr>\n",
              "    <tr>\n",
              "      <th>6</th>\n",
              "      <td>47534.205</td>\n",
              "      <td>19816</td>\n",
              "      <td>222.625</td>\n",
              "      <td>58.391</td>\n",
              "    </tr>\n",
              "    <tr>\n",
              "      <th>7</th>\n",
              "      <td>7817.579</td>\n",
              "      <td>9709</td>\n",
              "      <td>95.757</td>\n",
              "      <td>32.490</td>\n",
              "    </tr>\n",
              "    <tr>\n",
              "      <th>8</th>\n",
              "      <td>1185.781</td>\n",
              "      <td>29127</td>\n",
              "      <td>17.686</td>\n",
              "      <td>8.020</td>\n",
              "    </tr>\n",
              "    <tr>\n",
              "      <th>9</th>\n",
              "      <td>25700.217</td>\n",
              "      <td>430</td>\n",
              "      <td>149.630</td>\n",
              "      <td>16.727</td>\n",
              "    </tr>\n",
              "    <tr>\n",
              "      <th>10</th>\n",
              "      <td>10401.456</td>\n",
              "      <td>6978</td>\n",
              "      <td>73.847</td>\n",
              "      <td>7.318</td>\n",
              "    </tr>\n",
              "    <tr>\n",
              "      <th>11</th>\n",
              "      <td>35600.810</td>\n",
              "      <td>31580</td>\n",
              "      <td>274.074</td>\n",
              "      <td>61.881</td>\n",
              "    </tr>\n",
              "    <tr>\n",
              "      <th>12</th>\n",
              "      <td>14504.763</td>\n",
              "      <td>676</td>\n",
              "      <td>170.008</td>\n",
              "      <td>11.530</td>\n",
              "    </tr>\n",
              "    <tr>\n",
              "      <th>13</th>\n",
              "      <td>13020.772</td>\n",
              "      <td>2690</td>\n",
              "      <td>114.389</td>\n",
              "      <td>13.935</td>\n",
              "    </tr>\n",
              "    <tr>\n",
              "      <th>14</th>\n",
              "      <td>14383.858</td>\n",
              "      <td>664192</td>\n",
              "      <td>312.474</td>\n",
              "      <td>37.567</td>\n",
              "    </tr>\n",
              "  </tbody>\n",
              "</table>\n",
              "</div>"
            ],
            "text/plain": [
              "    Cases - cumulative total per 100000 population  Deaths - cumulative total  \\\n",
              "0                                         9570.366                       3497   \n",
              "1                                          606.143                       6875   \n",
              "2                                          302.094                       1900   \n",
              "3                                        20137.544                     128729   \n",
              "4                                        14271.570                       8623   \n",
              "5                                        24817.791                       7565   \n",
              "6                                        47534.205                      19816   \n",
              "7                                         7817.579                       9709   \n",
              "8                                         1185.781                      29127   \n",
              "9                                        25700.217                        430   \n",
              "10                                       10401.456                       6978   \n",
              "11                                       35600.810                      31580   \n",
              "12                                       14504.763                        676   \n",
              "13                                       13020.772                       2690   \n",
              "14                                       14383.858                     664192   \n",
              "\n",
              "    Deaths - cumulative total per 100000 population  \\\n",
              "0                                           121.516   \n",
              "1                                            15.678   \n",
              "2                                             5.781   \n",
              "3                                           284.825   \n",
              "4                                           291.000   \n",
              "5                                            29.667   \n",
              "6                                           222.625   \n",
              "7                                            95.757   \n",
              "8                                            17.686   \n",
              "9                                           149.630   \n",
              "10                                           73.847   \n",
              "11                                          274.074   \n",
              "12                                          170.008   \n",
              "13                                          114.389   \n",
              "14                                          312.474   \n",
              "\n",
              "    PERSONS_BOOSTER_ADD_DOSE_PER100  \n",
              "0                            10.385  \n",
              "1                             1.172  \n",
              "2                             1.125  \n",
              "3                            46.716  \n",
              "4                             1.409  \n",
              "5                            52.932  \n",
              "6                            58.391  \n",
              "7                            32.490  \n",
              "8                             8.020  \n",
              "9                            16.727  \n",
              "10                            7.318  \n",
              "11                           61.881  \n",
              "12                           11.530  \n",
              "13                           13.935  \n",
              "14                           37.567  "
            ]
          },
          "execution_count": 16,
          "metadata": {},
          "output_type": "execute_result"
        }
      ],
      "source": [
        "# Create Features Dataset\n",
        "# X = dataframe_copy.copy()\n",
        "\n",
        "X = dataframe.copy()\n",
        "X = X.filter([\"Cases - cumulative total per 100000 population\", \"Deaths - cumulative total\", \"Deaths - cumulative total per 100000 population\", \"PERSONS_BOOSTER_ADD_DOSE_PER100\"], axis=1)\n",
        "\n",
        "# Preview the Dataset\n",
        "X.head(15)"
      ]
    },
    {
      "cell_type": "markdown",
      "metadata": {
        "id": "a28At8K2haKK"
      },
      "source": [
        "##### Outcomes (y)"
      ]
    },
    {
      "cell_type": "code",
      "execution_count": 17,
      "metadata": {
        "id": "U7nHMbYfaOMs"
      },
      "outputs": [
        {
          "data": {
            "text/plain": [
              "0     1.269711\n",
              "1     2.586518\n",
              "2     1.913643\n",
              "3     1.414398\n",
              "4     2.039019\n",
              "5     0.119539\n",
              "6     0.468347\n",
              "7     1.224893\n",
              "8     1.491506\n",
              "9     0.582213\n",
              "10    0.709968\n",
              "11    0.769853\n",
              "12    1.172084\n",
              "13    0.878512\n",
              "14    2.172394\n",
              "Name: Case_Fatality_Ratio, dtype: float64"
            ]
          },
          "execution_count": 17,
          "metadata": {},
          "output_type": "execute_result"
        }
      ],
      "source": [
        "# Create Outcomes Dataset\n",
        "y = dataframe[\"Case_Fatality_Ratio\"]\n",
        "\n",
        "# Preview the data\n",
        "y.head(15)"
      ]
    },
    {
      "cell_type": "markdown",
      "metadata": {
        "id": "Mb09NGwPiMkt"
      },
      "source": [
        "#### Create Training & Testing Splits"
      ]
    },
    {
      "cell_type": "code",
      "execution_count": 18,
      "metadata": {
        "id": "5fv4iIKIaOTL"
      },
      "outputs": [],
      "source": [
        "# Split Data into Training & Testing (Default: 75%/25% Split)\n",
        "X_train, X_test, y_train, y_test = train_test_split(X, y, random_state=615, train_size=None)\n",
        "\n",
        "# | Change the split % by editting the \"train_size parameter to your training split percentage\" |\n",
        "      # Example: train_size = 0.80 results in an 80%/20% split"
      ]
    },
    {
      "cell_type": "code",
      "execution_count": 19,
      "metadata": {
        "id": "Ufw80XLMio3J"
      },
      "outputs": [
        {
          "name": "stdout",
          "output_type": "stream",
          "text": [
            "(98, 4)\n",
            "(33, 4)\n",
            "(98,)\n",
            "(33,)\n"
          ]
        }
      ],
      "source": [
        "# Preview the shapes of the Split Datasets\n",
        "print(X_train.shape)\n",
        "print(X_test.shape)\n",
        "print(y_train.shape)\n",
        "print(y_test.shape)"
      ]
    },
    {
      "cell_type": "markdown",
      "metadata": {
        "id": "eVDrBgP9jzxd"
      },
      "source": [
        "#### Standardizing/Scaling the Data"
      ]
    },
    {
      "cell_type": "code",
      "execution_count": 20,
      "metadata": {
        "id": "zo9piI1vj54G"
      },
      "outputs": [],
      "source": [
        "# Instantiate the Scaler\n",
        "scaler = StandardScaler()"
      ]
    },
    {
      "cell_type": "code",
      "execution_count": 21,
      "metadata": {
        "id": "DE3tWGt4j-Xf"
      },
      "outputs": [],
      "source": [
        "# Fit/Train Scaler to the Training Data\n",
        "X_scaler = scaler.fit(X_train)"
      ]
    },
    {
      "cell_type": "code",
      "execution_count": 22,
      "metadata": {
        "id": "J3Kt5FE_WYKD"
      },
      "outputs": [],
      "source": [
        "# Scale / Transform the X data\n",
        "X_train_scaled = X_scaler.transform(X_train)\n",
        "X_test_scaled = X_scaler.transform(X_test)"
      ]
    },
    {
      "cell_type": "markdown",
      "metadata": {
        "id": "6k1fNJ1dy-4P"
      },
      "source": [
        "## Apply the Model"
      ]
    },
    {
      "cell_type": "markdown",
      "metadata": {
        "id": "-0_KVTcClao8"
      },
      "source": [
        "#### Instantiate, Fit, & Evaluate the Model"
      ]
    },
    {
      "cell_type": "code",
      "execution_count": 23,
      "metadata": {
        "id": "ns71bmTvmSyQ"
      },
      "outputs": [],
      "source": [
        "# Instantiate the Model\n",
        "lr_model = LinearRegression()"
      ]
    },
    {
      "cell_type": "code",
      "execution_count": 24,
      "metadata": {
        "id": "Ra6SG3t_mhZz"
      },
      "outputs": [
        {
          "data": {
            "text/plain": [
              "LinearRegression()"
            ]
          },
          "execution_count": 24,
          "metadata": {},
          "output_type": "execute_result"
        }
      ],
      "source": [
        "# Fit the Model to the Training Data\n",
        "lr_model.fit(X_train_scaled,y_train)"
      ]
    },
    {
      "cell_type": "code",
      "execution_count": 25,
      "metadata": {
        "id": "lh-IucbAmadi"
      },
      "outputs": [
        {
          "name": "stdout",
          "output_type": "stream",
          "text": [
            "[-4.16969083e+04 -1.34914297e+02 -1.99846894e+04 -1.47256309e+04\n",
            " -2.21681829e+03  6.42329653e+03 -2.24181737e+03 -1.99709558e+04\n",
            " -3.94650801e+01 -1.66216249e+04 -4.14024475e+03 -3.34433926e+04\n",
            " -2.28927818e+03 -2.18862938e+04 -1.39492700e+04 -2.66940207e+03\n",
            " -3.64268934e+04 -2.04942985e+03 -1.22549503e+03 -9.55299084e+03\n",
            " -3.72234300e+03 -2.61690842e+02 -2.06777050e+04 -4.29819775e+03\n",
            " -1.10998364e+04 -5.37408090e+02  3.87589403e+02 -2.04741242e+03\n",
            " -2.37913478e+03 -2.47571238e+04 -2.35354160e+04  1.08017011e+04\n",
            " -1.63350357e+04]\n"
          ]
        }
      ],
      "source": [
        "# Create predictions with the model using X_test Data.\n",
        "y_pred = lr_model.predict(X_test)\n",
        "\n",
        "# View the Data\n",
        "print(y_pred)"
      ]
    },
    {
      "cell_type": "markdown",
      "metadata": {
        "id": "3NNMAECTsEVS"
      },
      "source": [
        "#### Evaluate the Model"
      ]
    },
    {
      "cell_type": "code",
      "execution_count": 26,
      "metadata": {
        "id": "W555vhaFsGu8"
      },
      "outputs": [],
      "source": [
        "# Import the Evaluation Metrics & Dependencies\n",
        "import matplotlib.pyplot as plt"
      ]
    },
    {
      "cell_type": "markdown",
      "metadata": {
        "id": "baaLM3znwfwO"
      },
      "source": [
        "##### Display Evaluation"
      ]
    },
    {
      "cell_type": "code",
      "execution_count": 27,
      "metadata": {},
      "outputs": [
        {
          "name": "stdout",
          "output_type": "stream",
          "text": [
            "model score on training data: -168429539.00221905\n",
            "model score on testing data: -174882091.26792687\n"
          ]
        }
      ],
      "source": [
        "# Use R2 Score to determine the model's validity during training and testing\n",
        "print(f'model score on training data: {lr_model.score(X_train, y_train)}')\n",
        "print(f'model score on testing data: {lr_model.score(X_test, y_test)}')"
      ]
    },
    {
      "cell_type": "code",
      "execution_count": 28,
      "metadata": {},
      "outputs": [
        {
          "name": "stdout",
          "output_type": "stream",
          "text": [
            "R2 Score: -169047134.72721252\n"
          ]
        }
      ],
      "source": [
        "# Use R2 Score to determine the model's validity\n",
        "score = lr_model.score(X, y)\n",
        "print(f\"R2 Score: {score}\")"
      ]
    },
    {
      "cell_type": "code",
      "execution_count": 29,
      "metadata": {
        "id": "WSPrseepwcMm"
      },
      "outputs": [
        {
          "data": {
            "image/png": "[encoded data removed]",
            "text/plain": [
              "<Figure size 432x288 with 1 Axes>"
            ]
          },
          "metadata": {
            "needs_background": "light"
          },
          "output_type": "display_data"
        }
      ],
      "source": [
        "# Plot the results.\n",
        "# Plot Residuals\n",
        "plt.scatter(y_pred, y_pred - y_test)\n",
        "plt.hlines(y=0, xmin=y_pred.min(), xmax=y_pred.max())\n",
        "plt.show()\n"
      ]
    },
    {
      "cell_type": "markdown",
      "metadata": {},
      "source": [
        "## Determining Findings"
      ]
    },
    {
      "cell_type": "code",
      "execution_count": 30,
      "metadata": {},
      "outputs": [
        {
          "name": "stdout",
          "output_type": "stream",
          "text": [
            "[-7.30194106e+03 -2.56246877e+02 -1.74117840e+02 -1.17007374e+04\n",
            " -1.07205026e+04 -1.91550702e+04 -3.64268934e+04 -5.76252425e+03\n",
            " -3.94650801e+01 -1.99846894e+04 -7.87486788e+03 -2.67160017e+04\n",
            " -1.12146426e+04 -1.00275165e+04  8.91788550e+03 -1.16159726e+04\n",
            " -7.82621878e+03 -5.37408090e+02 -2.88893744e+02 -6.60220003e+03\n",
            " -1.27424311e+04  3.87589403e+02 -4.99231332e+03 -1.28039374e+04\n",
            " -2.10184062e+04 -4.24729672e+04 -2.71748093e+04 -4.16969083e+04\n",
            " -1.35080791e+04 -4.02379563e+03 -2.66940207e+03  3.65090517e+02\n",
            " -1.79184450e+03 -3.35627901e+04 -8.88050910e+01 -5.55976018e+03\n",
            " -1.47256309e+04 -2.94048992e+04 -1.65299944e+03 -3.16724648e+04\n",
            " -1.97536694e+04 -3.58029563e+02 -2.35354160e+04 -3.11489638e+03\n",
            " -3.14429174e+02 -6.18779427e+03 -2.95624933e+03 -1.36059998e+04\n",
            " -3.99427419e+04  1.33466956e+04  3.01009025e+03 -2.37913478e+03\n",
            " -3.72234300e+03 -2.37479720e+04 -3.66141607e+04 -1.69966354e+04\n",
            " -3.31539101e+03 -4.14024475e+03 -1.24860308e+04 -5.17345409e+03\n",
            " -2.93187482e+02 -2.01590112e+03 -1.14565981e+04 -2.28927818e+03\n",
            " -2.21681829e+03 -3.34433926e+04 -1.21647532e+04 -1.01071093e+02\n",
            " -2.91851615e+04 -3.01029592e+04 -1.34914297e+02 -2.61690842e+02\n",
            " -9.64626328e+03 -2.59108722e+04 -1.40328467e+04 -9.43913048e+02\n",
            " -1.36215933e+04  6.42329653e+03 -2.18862938e+04 -2.90202328e+04\n",
            " -1.95844704e+03 -4.91913373e+02 -2.73651785e+02 -4.67576356e+03\n",
            " -2.24181737e+03 -3.54588454e+04 -1.63350357e+04 -6.77277378e-02\n",
            " -1.10998364e+04 -2.06777050e+04 -5.78078800e+03  3.82008350e+02\n",
            " -1.39492700e+04 -6.39482899e+03 -1.67673175e+03 -7.78997544e+02\n",
            " -8.68380143e+03 -2.94939126e+04 -9.55299084e+03 -7.34574713e+02\n",
            " -5.91223814e+03 -4.29819775e+03 -2.10564005e+03 -1.41110165e+03\n",
            " -3.33886151e+02 -2.20690981e+04 -6.90696393e+01 -2.47571238e+04\n",
            " -3.74763577e+04 -2.04942985e+03 -1.94099488e+03 -1.66216249e+04\n",
            " -1.88163125e+03  4.58550348e+01 -1.04022580e+04 -1.82715817e+04\n",
            " -3.23127026e+04 -3.96273898e+03 -1.34598938e+03 -3.37767938e+02\n",
            " -8.19758376e+03 -5.88176954e+03 -1.66098060e+02 -5.53662916e+03\n",
            "  1.08017011e+04 -1.99709558e+04 -5.05118886e+02 -2.04741242e+03\n",
            " -1.25185204e+03 -1.22549503e+03 -1.11579756e+03]\n"
          ]
        }
      ],
      "source": [
        "# Scale data for final findings processing\n",
        "X_scaler_2 = scaler.fit(X)\n",
        "\n",
        "# Scale X data\n",
        "X_scaled = X_scaler_2.transform(X)\n",
        "\n",
        "# Run model on all data to determine overall outcomes for all countries\n",
        "predictions = lr_model.predict(X)\n",
        "\n",
        "# Preview the data\n",
        "print(predictions)"
      ]
    },
    {
      "cell_type": "code",
      "execution_count": 31,
      "metadata": {},
      "outputs": [],
      "source": [
        "# Add column to dataset\n",
        "dataframe['Predicted Correlations'] = predictions/100000"
      ]
    },
    {
      "cell_type": "code",
      "execution_count": null,
      "metadata": {},
      "outputs": [],
      "source": []
    },
    {
      "cell_type": "markdown",
      "metadata": {
        "id": "roNwO-APzGcZ"
      },
      "source": [
        "## Results & Takeaways"
      ]
    },
    {
      "cell_type": "markdown",
      "metadata": {
        "id": "FELQkd6X_T4w"
      },
      "source": [
        "#### Model Effectiveness & Feature Weights"
      ]
    },
    {
      "cell_type": "code",
      "execution_count": 32,
      "metadata": {},
      "outputs": [],
      "source": [
        "import statsmodels.api as sma\n",
        "import numpy as np"
      ]
    },
    {
      "cell_type": "code",
      "execution_count": 33,
      "metadata": {},
      "outputs": [
        {
          "name": "stdout",
          "output_type": "stream",
          "text": [
            "                             OLS Regression Results                            \n",
            "===============================================================================\n",
            "Dep. Variable:     Case_Fatality_Ratio   R-squared:                       0.421\n",
            "Model:                             OLS   Adj. R-squared:                  0.402\n",
            "Method:                  Least Squares   F-statistic:                     22.87\n",
            "Date:                 Mon, 23 May 2022   Prob (F-statistic):           3.21e-14\n",
            "Time:                         21:05:12   Log-Likelihood:                -173.80\n",
            "No. Observations:                  131   AIC:                             357.6\n",
            "Df Residuals:                      126   BIC:                             372.0\n",
            "Df Model:                            4                                         \n",
            "Covariance Type:             nonrobust                                         \n",
            "===================================================================================================================\n",
            "                                                      coef    std err          t      P>|t|      [0.025      0.975]\n",
            "-------------------------------------------------------------------------------------------------------------------\n",
            "const                                               1.6517      0.134     12.302      0.000       1.386       1.917\n",
            "Cases - cumulative total per 100000 population  -5.551e-05   7.81e-06     -7.108      0.000    -7.1e-05   -4.01e-05\n",
            "Deaths - cumulative total                        3.493e-07   7.23e-07      0.483      0.630   -1.08e-06    1.78e-06\n",
            "Deaths - cumulative total per 100000 population     0.0049      0.001      6.540      0.000       0.003       0.006\n",
            "PERSONS_BOOSTER_ADD_DOSE_PER100                    -0.0027      0.005     -0.581      0.563      -0.012       0.007\n",
            "==============================================================================\n",
            "Omnibus:                      121.360   Durbin-Watson:                   1.849\n",
            "Prob(Omnibus):                  0.000   Jarque-Bera (JB):             1708.652\n",
            "Skew:                           3.206   Prob(JB):                         0.00\n",
            "Kurtosis:                      19.490   Cond. No.                     2.08e+05\n",
            "==============================================================================\n",
            "\n",
            "Notes:\n",
            "[1] Standard Errors assume that the covariance matrix of the errors is correctly specified.\n",
            "[2] The condition number is large, 2.08e+05. This might indicate that there are\n",
            "strong multicollinearity or other numerical problems.\n"
          ]
        },
        {
          "name": "stderr",
          "output_type": "stream",
          "text": [
            "/Users/sterlingmiller/opt/anaconda3/envs/mlenv/lib/python3.7/site-packages/statsmodels/tsa/tsatools.py:142: FutureWarning: In a future version of pandas all arguments of concat except for the argument 'objs' will be keyword-only\n",
            "  x = pd.concat(x[::order], 1)\n"
          ]
        }
      ],
      "source": [
        "X2 = sma.add_constant(X)\n",
        "\n",
        "est = sma.OLS(y,X2)\n",
        "est2 = est.fit()\n",
        "\n",
        "print(est2.summary())\n",
        "\n",
        "# NOTE: R-squared represents our accuracy through accountability for variance \n",
        "# while P>|t| values represent statistical significance of each input factor \n",
        "# toward the model."
      ]
    },
    {
      "cell_type": "markdown",
      "metadata": {},
      "source": [
        "#### Summary"
      ]
    },
    {
      "cell_type": "markdown",
      "metadata": {
        "id": "waC7oMu4_bY7"
      },
      "source": [
        "##### Our model uses linear regression and multiple features from covid records and global nutritional records to determine the correlated rpobability of fatalities due to COVID-19. Essentiall the model aims to predict how likely someone is to die from COVID-19 based on a variety of data from their country's recorded nutritional health records and COVID-19 medical record history.\n",
        "\n",
        "##### In our final findings our model has trained and tested itself, then run itself through accuracy and validity checks as well as feature weight tests before creating a final correlated regression statistic for liklihood of fatalities for each country. The cell after this one, exports the final data with the inclusion of the column \"Predicted Correlations\" which provides a metrics for how much the features utilized for the calculation affect COVID-19 fatality rate. This is the (Multi)linear regression used by the model.\n",
        "\n",
        "##### Our model produces an R^2 score of 0.603. This means that input features used within the model account for about %60 of the variance withing the model's results. This means that of all of the factors used to caluculate and predict Case_Fatality_Ratio, only 60% of the result can be explained by the factors used as inputs in the model. This can mean one of two things, either there are too many ineffective input factors being used int he model (to which we delete all factors who's significance levels are < .05) or there are input factors not accounted for in out data that contribute more prominantly to the resulting Case_Fatality_Ratio (to which we would need to find those factors and include them within our dataset).\n",
        "\n",
        "##### Our calculations of significance levels for each input factors indicate that very few factors have a significant affect on the resulting Case_Fatality_Ratio. In fact, the only input factors proven to be statistically significant to our model are \"Cases - cumulative total per 100000 population\", \"Deaths - cumulative total\", \"Deaths - cumulative total per 100000 population\", and \"PERSONS_BOOSTER_ADD_DOSE_PER100\". As such, running the model again with only those 4 columns may potentially result in significantly more accurate results being produced."
      ]
    },
    {
      "cell_type": "markdown",
      "metadata": {},
      "source": [
        "## Exports"
      ]
    },
    {
      "cell_type": "code",
      "execution_count": 34,
      "metadata": {},
      "outputs": [],
      "source": [
        "# Export Final Dataframe to CSV for Tranferability to stakeholders and non-coding partners\n",
        "dataframe.to_csv('final_covid_nutrition_fatality_calculations.csv', index=False)"
      ]
    }
  ],
  "metadata": {
    "colab": {
      "collapsed_sections": [],
      "name": "DBFP_Machine_Learning_Model_v0.2.ipynb",
      "provenance": []
    },
    "interpreter": {
      "hash": "5dcbbc4e758a8563a411e33997fa6453c969304658d2f289ec8bb04cba5dc17a"
    },
    "kernelspec": {
      "display_name": "Python 3.7.11 ('mlenv')",
      "language": "python",
      "name": "python3"
    },
    "language_info": {
      "codemirror_mode": {
        "name": "ipython",
        "version": 3
      },
      "file_extension": ".py",
      "mimetype": "text/x-python",
      "name": "python",
      "nbconvert_exporter": "python",
      "pygments_lexer": "ipython3",
      "version": "3.7.11"
    }
  },
  "nbformat": 4,
  "nbformat_minor": 0
}

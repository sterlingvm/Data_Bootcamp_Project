{
  "cells": [
    {
      "cell_type": "markdown",
      "metadata": {
        "id": "n0BawjXPWALv"
      },
      "source": [
        "# COVID-19 & Health Predictor \n",
        "\n",
        "#### - Data Bootcamp Final Project\n",
        "##### - Cordell, Gibbs, Miller, Ross"
      ]
    },
    {
      "cell_type": "code",
      "execution_count": null,
      "metadata": {
        "id": "Qaez9x3gVrkn"
      },
      "outputs": [],
      "source": []
    },
    {
      "cell_type": "markdown",
      "metadata": {
        "id": "13nJrKwfWdyc"
      },
      "source": [
        "# Purpose: \n",
        "### Analyze COVID-19 Positivity or Negativity Based on Correlation to Nutrition"
      ]
    },
    {
      "cell_type": "code",
      "execution_count": null,
      "metadata": {
        "id": "pbLtuBdSWctT"
      },
      "outputs": [],
      "source": []
    },
    {
      "cell_type": "markdown",
      "metadata": {
        "id": "fEaTRIaOW8s7"
      },
      "source": [
        "# Model: Linear Regression Model"
      ]
    },
    {
      "cell_type": "code",
      "execution_count": 1,
      "metadata": {
        "id": "v3RBpJM9WdDy"
      },
      "outputs": [],
      "source": [
        "from sklearn.linear_model import LinearRegression"
      ]
    },
    {
      "cell_type": "markdown",
      "metadata": {
        "id": "WctJgqOdXBQd"
      },
      "source": [
        "## Library & Dependency Installation"
      ]
    },
    {
      "cell_type": "code",
      "execution_count": 2,
      "metadata": {
        "id": "Z7EH209DXAFP"
      },
      "outputs": [],
      "source": [
        "# Scikit-Learn Libraries/Dependencies\n",
        "from sklearn.model_selection import train_test_split\n",
        "from sklearn.preprocessing import StandardScaler\n",
        "from sklearn.metrics import confusion_matrix, accuracy_score, classification_report"
      ]
    },
    {
      "cell_type": "code",
      "execution_count": 3,
      "metadata": {
        "id": "0En9AGs1XAfS"
      },
      "outputs": [],
      "source": [
        "# Data Frame & Data Manipulation Libraries/Dependencies\n",
        "import pandas as pd"
      ]
    },
    {
      "cell_type": "markdown",
      "metadata": {
        "id": "TNb_ymioYq8e"
      },
      "source": [
        "## Loading the Data"
      ]
    },
    {
      "cell_type": "markdown",
      "metadata": {
        "id": "B5MelqPsavcu"
      },
      "source": [
        "#### Physical Path Import"
      ]
    },
    {
      "cell_type": "code",
      "execution_count": 4,
      "metadata": {
        "id": "E1J3PcgpYqUq"
      },
      "outputs": [],
      "source": [
        "# Create File Path\n",
        "file_path = \"https://raw.githubusercontent.com/sterlingvm/Data_Bootcamp_Project/projectrepo/final_joined_data.csv\"\n",
        "\n",
        "# Build the Dataframe\n",
        "dataframe = pd.read_csv(file_path)"
      ]
    },
    {
      "cell_type": "code",
      "execution_count": 5,
      "metadata": {
        "id": "Aim8nwEdYoFE"
      },
      "outputs": [
        {
          "data": {
            "text/html": [
              "<div>\n",
              "<style scoped>\n",
              "    .dataframe tbody tr th:only-of-type {\n",
              "        vertical-align: middle;\n",
              "    }\n",
              "\n",
              "    .dataframe tbody tr th {\n",
              "        vertical-align: top;\n",
              "    }\n",
              "\n",
              "    .dataframe thead th {\n",
              "        text-align: right;\n",
              "    }\n",
              "</style>\n",
              "<table border=\"1\" class=\"dataframe\">\n",
              "  <thead>\n",
              "    <tr style=\"text-align: right;\">\n",
              "      <th></th>\n",
              "      <th>COUNTRY</th>\n",
              "      <th>WHO Region</th>\n",
              "      <th>Cases - cumulative total</th>\n",
              "      <th>Cases - cumulative total per 100000 population</th>\n",
              "      <th>Cases - newly reported in last 7 days</th>\n",
              "      <th>Cases - newly reported in last 7 days per 100000 population</th>\n",
              "      <th>Cases - newly reported in last 24 hours</th>\n",
              "      <th>Deaths - cumulative total</th>\n",
              "      <th>Deaths - cumulative total per 100000 population</th>\n",
              "      <th>Deaths - newly reported in last 7 days</th>\n",
              "      <th>...</th>\n",
              "      <th>Fruits - Excluding Wine</th>\n",
              "      <th>Meat</th>\n",
              "      <th>Milk - Excluding Butter</th>\n",
              "      <th>Sugar &amp; Sweeteners</th>\n",
              "      <th>Treenuts</th>\n",
              "      <th>Vegetable Oils</th>\n",
              "      <th>Vegetables</th>\n",
              "      <th>Vegetal Products</th>\n",
              "      <th>Obesity</th>\n",
              "      <th>Undernourished</th>\n",
              "    </tr>\n",
              "  </thead>\n",
              "  <tbody>\n",
              "    <tr>\n",
              "      <th>0</th>\n",
              "      <td>Albania</td>\n",
              "      <td>Europe</td>\n",
              "      <td>275416</td>\n",
              "      <td>9570.366</td>\n",
              "      <td>225</td>\n",
              "      <td>7.818</td>\n",
              "      <td>44</td>\n",
              "      <td>3497</td>\n",
              "      <td>121.516</td>\n",
              "      <td>1</td>\n",
              "      <td>...</td>\n",
              "      <td>6.7861</td>\n",
              "      <td>1.8845</td>\n",
              "      <td>15.7213</td>\n",
              "      <td>1.5367</td>\n",
              "      <td>0.1515</td>\n",
              "      <td>0.3261</td>\n",
              "      <td>11.7753</td>\n",
              "      <td>31.2304</td>\n",
              "      <td>22.3</td>\n",
              "      <td>6.2</td>\n",
              "    </tr>\n",
              "    <tr>\n",
              "      <th>1</th>\n",
              "      <td>Algeria</td>\n",
              "      <td>Africa</td>\n",
              "      <td>265800</td>\n",
              "      <td>606.143</td>\n",
              "      <td>18</td>\n",
              "      <td>0.041</td>\n",
              "      <td>0</td>\n",
              "      <td>6875</td>\n",
              "      <td>15.678</td>\n",
              "      <td>0</td>\n",
              "      <td>...</td>\n",
              "      <td>6.3801</td>\n",
              "      <td>1.1305</td>\n",
              "      <td>7.6189</td>\n",
              "      <td>1.8342</td>\n",
              "      <td>0.1152</td>\n",
              "      <td>1.0310</td>\n",
              "      <td>11.6484</td>\n",
              "      <td>40.3651</td>\n",
              "      <td>26.6</td>\n",
              "      <td>3.9</td>\n",
              "    </tr>\n",
              "    <tr>\n",
              "      <th>2</th>\n",
              "      <td>Angola</td>\n",
              "      <td>Africa</td>\n",
              "      <td>99287</td>\n",
              "      <td>302.094</td>\n",
              "      <td>0</td>\n",
              "      <td>0.000</td>\n",
              "      <td>0</td>\n",
              "      <td>1900</td>\n",
              "      <td>5.781</td>\n",
              "      <td>0</td>\n",
              "      <td>...</td>\n",
              "      <td>6.0005</td>\n",
              "      <td>2.0571</td>\n",
              "      <td>0.8311</td>\n",
              "      <td>1.8495</td>\n",
              "      <td>0.0061</td>\n",
              "      <td>0.6463</td>\n",
              "      <td>2.3041</td>\n",
              "      <td>45.0722</td>\n",
              "      <td>6.8</td>\n",
              "      <td>25.0</td>\n",
              "    </tr>\n",
              "    <tr>\n",
              "      <th>3</th>\n",
              "      <td>Argentina</td>\n",
              "      <td>Americas</td>\n",
              "      <td>9101319</td>\n",
              "      <td>20137.544</td>\n",
              "      <td>17646</td>\n",
              "      <td>39.043</td>\n",
              "      <td>0</td>\n",
              "      <td>128729</td>\n",
              "      <td>284.825</td>\n",
              "      <td>76</td>\n",
              "      <td>...</td>\n",
              "      <td>6.0435</td>\n",
              "      <td>7.0421</td>\n",
              "      <td>10.2328</td>\n",
              "      <td>3.0536</td>\n",
              "      <td>0.0200</td>\n",
              "      <td>0.9541</td>\n",
              "      <td>4.3503</td>\n",
              "      <td>30.6559</td>\n",
              "      <td>28.5</td>\n",
              "      <td>4.6</td>\n",
              "    </tr>\n",
              "    <tr>\n",
              "      <th>4</th>\n",
              "      <td>Armenia</td>\n",
              "      <td>Europe</td>\n",
              "      <td>422900</td>\n",
              "      <td>14271.570</td>\n",
              "      <td>23</td>\n",
              "      <td>0.776</td>\n",
              "      <td>0</td>\n",
              "      <td>8623</td>\n",
              "      <td>291.000</td>\n",
              "      <td>1</td>\n",
              "      <td>...</td>\n",
              "      <td>6.0989</td>\n",
              "      <td>2.2675</td>\n",
              "      <td>9.9407</td>\n",
              "      <td>2.6579</td>\n",
              "      <td>0.1108</td>\n",
              "      <td>0.4705</td>\n",
              "      <td>16.7019</td>\n",
              "      <td>36.4358</td>\n",
              "      <td>20.9</td>\n",
              "      <td>4.3</td>\n",
              "    </tr>\n",
              "    <tr>\n",
              "      <th>...</th>\n",
              "      <td>...</td>\n",
              "      <td>...</td>\n",
              "      <td>...</td>\n",
              "      <td>...</td>\n",
              "      <td>...</td>\n",
              "      <td>...</td>\n",
              "      <td>...</td>\n",
              "      <td>...</td>\n",
              "      <td>...</td>\n",
              "      <td>...</td>\n",
              "      <td>...</td>\n",
              "      <td>...</td>\n",
              "      <td>...</td>\n",
              "      <td>...</td>\n",
              "      <td>...</td>\n",
              "      <td>...</td>\n",
              "      <td>...</td>\n",
              "      <td>...</td>\n",
              "      <td>...</td>\n",
              "      <td>...</td>\n",
              "      <td>...</td>\n",
              "    </tr>\n",
              "    <tr>\n",
              "      <th>125</th>\n",
              "      <td>Uruguay</td>\n",
              "      <td>Americas</td>\n",
              "      <td>902540</td>\n",
              "      <td>25981.870</td>\n",
              "      <td>2817</td>\n",
              "      <td>81.094</td>\n",
              "      <td>0</td>\n",
              "      <td>7213</td>\n",
              "      <td>207.644</td>\n",
              "      <td>3</td>\n",
              "      <td>...</td>\n",
              "      <td>5.3746</td>\n",
              "      <td>3.7863</td>\n",
              "      <td>12.3906</td>\n",
              "      <td>3.4102</td>\n",
              "      <td>0.0131</td>\n",
              "      <td>1.0337</td>\n",
              "      <td>3.9333</td>\n",
              "      <td>32.1076</td>\n",
              "      <td>28.9</td>\n",
              "      <td>0.0</td>\n",
              "    </tr>\n",
              "    <tr>\n",
              "      <th>126</th>\n",
              "      <td>Uzbekistan</td>\n",
              "      <td>Europe</td>\n",
              "      <td>238747</td>\n",
              "      <td>713.333</td>\n",
              "      <td>111</td>\n",
              "      <td>0.332</td>\n",
              "      <td>4</td>\n",
              "      <td>1637</td>\n",
              "      <td>4.891</td>\n",
              "      <td>0</td>\n",
              "      <td>...</td>\n",
              "      <td>5.2150</td>\n",
              "      <td>1.8621</td>\n",
              "      <td>11.7952</td>\n",
              "      <td>0.5796</td>\n",
              "      <td>0.0649</td>\n",
              "      <td>0.6109</td>\n",
              "      <td>14.8354</td>\n",
              "      <td>35.5540</td>\n",
              "      <td>15.3</td>\n",
              "      <td>6.3</td>\n",
              "    </tr>\n",
              "    <tr>\n",
              "      <th>127</th>\n",
              "      <td>Vanuatu</td>\n",
              "      <td>Western Pacific</td>\n",
              "      <td>8063</td>\n",
              "      <td>2625.144</td>\n",
              "      <td>466</td>\n",
              "      <td>151.720</td>\n",
              "      <td>0</td>\n",
              "      <td>14</td>\n",
              "      <td>4.558</td>\n",
              "      <td>1</td>\n",
              "      <td>...</td>\n",
              "      <td>5.8103</td>\n",
              "      <td>2.7466</td>\n",
              "      <td>1.2692</td>\n",
              "      <td>1.3645</td>\n",
              "      <td>0.0038</td>\n",
              "      <td>0.3674</td>\n",
              "      <td>3.9175</td>\n",
              "      <td>43.3737</td>\n",
              "      <td>23.5</td>\n",
              "      <td>7.2</td>\n",
              "    </tr>\n",
              "    <tr>\n",
              "      <th>128</th>\n",
              "      <td>Venezuela (Bolivarian Republic of)</td>\n",
              "      <td>Americas</td>\n",
              "      <td>522749</td>\n",
              "      <td>1838.339</td>\n",
              "      <td>235</td>\n",
              "      <td>0.826</td>\n",
              "      <td>0</td>\n",
              "      <td>5709</td>\n",
              "      <td>20.077</td>\n",
              "      <td>0</td>\n",
              "      <td>...</td>\n",
              "      <td>7.6460</td>\n",
              "      <td>3.8328</td>\n",
              "      <td>9.3920</td>\n",
              "      <td>3.4106</td>\n",
              "      <td>0.0009</td>\n",
              "      <td>1.3734</td>\n",
              "      <td>4.1474</td>\n",
              "      <td>35.2416</td>\n",
              "      <td>25.2</td>\n",
              "      <td>21.2</td>\n",
              "    </tr>\n",
              "    <tr>\n",
              "      <th>129</th>\n",
              "      <td>Zambia</td>\n",
              "      <td>Africa</td>\n",
              "      <td>319755</td>\n",
              "      <td>1739.316</td>\n",
              "      <td>0</td>\n",
              "      <td>0.000</td>\n",
              "      <td>0</td>\n",
              "      <td>3976</td>\n",
              "      <td>21.628</td>\n",
              "      <td>0</td>\n",
              "      <td>...</td>\n",
              "      <td>1.0183</td>\n",
              "      <td>1.8427</td>\n",
              "      <td>1.7570</td>\n",
              "      <td>1.5632</td>\n",
              "      <td>0.0014</td>\n",
              "      <td>0.6657</td>\n",
              "      <td>3.4649</td>\n",
              "      <td>43.9789</td>\n",
              "      <td>6.5</td>\n",
              "      <td>46.7</td>\n",
              "    </tr>\n",
              "  </tbody>\n",
              "</table>\n",
              "<p>130 rows × 43 columns</p>\n",
              "</div>"
            ],
            "text/plain": [
              "                                COUNTRY       WHO Region  \\\n",
              "0                               Albania           Europe   \n",
              "1                               Algeria           Africa   \n",
              "2                                Angola           Africa   \n",
              "3                             Argentina         Americas   \n",
              "4                               Armenia           Europe   \n",
              "..                                  ...              ...   \n",
              "125                             Uruguay         Americas   \n",
              "126                          Uzbekistan           Europe   \n",
              "127                             Vanuatu  Western Pacific   \n",
              "128  Venezuela (Bolivarian Republic of)         Americas   \n",
              "129                              Zambia           Africa   \n",
              "\n",
              "     Cases - cumulative total  Cases - cumulative total per 100000 population  \\\n",
              "0                      275416                                        9570.366   \n",
              "1                      265800                                         606.143   \n",
              "2                       99287                                         302.094   \n",
              "3                     9101319                                       20137.544   \n",
              "4                      422900                                       14271.570   \n",
              "..                        ...                                             ...   \n",
              "125                    902540                                       25981.870   \n",
              "126                    238747                                         713.333   \n",
              "127                      8063                                        2625.144   \n",
              "128                    522749                                        1838.339   \n",
              "129                    319755                                        1739.316   \n",
              "\n",
              "     Cases - newly reported in last 7 days  \\\n",
              "0                                      225   \n",
              "1                                       18   \n",
              "2                                        0   \n",
              "3                                    17646   \n",
              "4                                       23   \n",
              "..                                     ...   \n",
              "125                                   2817   \n",
              "126                                    111   \n",
              "127                                    466   \n",
              "128                                    235   \n",
              "129                                      0   \n",
              "\n",
              "     Cases - newly reported in last 7 days per 100000 population  \\\n",
              "0                                                7.818             \n",
              "1                                                0.041             \n",
              "2                                                0.000             \n",
              "3                                               39.043             \n",
              "4                                                0.776             \n",
              "..                                                 ...             \n",
              "125                                             81.094             \n",
              "126                                              0.332             \n",
              "127                                            151.720             \n",
              "128                                              0.826             \n",
              "129                                              0.000             \n",
              "\n",
              "     Cases - newly reported in last 24 hours  Deaths - cumulative total  \\\n",
              "0                                         44                       3497   \n",
              "1                                          0                       6875   \n",
              "2                                          0                       1900   \n",
              "3                                          0                     128729   \n",
              "4                                          0                       8623   \n",
              "..                                       ...                        ...   \n",
              "125                                        0                       7213   \n",
              "126                                        4                       1637   \n",
              "127                                        0                         14   \n",
              "128                                        0                       5709   \n",
              "129                                        0                       3976   \n",
              "\n",
              "     Deaths - cumulative total per 100000 population  \\\n",
              "0                                            121.516   \n",
              "1                                             15.678   \n",
              "2                                              5.781   \n",
              "3                                            284.825   \n",
              "4                                            291.000   \n",
              "..                                               ...   \n",
              "125                                          207.644   \n",
              "126                                            4.891   \n",
              "127                                            4.558   \n",
              "128                                           20.077   \n",
              "129                                           21.628   \n",
              "\n",
              "     Deaths - newly reported in last 7 days  ...  Fruits - Excluding Wine  \\\n",
              "0                                         1  ...                   6.7861   \n",
              "1                                         0  ...                   6.3801   \n",
              "2                                         0  ...                   6.0005   \n",
              "3                                        76  ...                   6.0435   \n",
              "4                                         1  ...                   6.0989   \n",
              "..                                      ...  ...                      ...   \n",
              "125                                       3  ...                   5.3746   \n",
              "126                                       0  ...                   5.2150   \n",
              "127                                       1  ...                   5.8103   \n",
              "128                                       0  ...                   7.6460   \n",
              "129                                       0  ...                   1.0183   \n",
              "\n",
              "       Meat  Milk - Excluding Butter Sugar & Sweeteners Treenuts  \\\n",
              "0    1.8845                  15.7213             1.5367   0.1515   \n",
              "1    1.1305                   7.6189             1.8342   0.1152   \n",
              "2    2.0571                   0.8311             1.8495   0.0061   \n",
              "3    7.0421                  10.2328             3.0536   0.0200   \n",
              "4    2.2675                   9.9407             2.6579   0.1108   \n",
              "..      ...                      ...                ...      ...   \n",
              "125  3.7863                  12.3906             3.4102   0.0131   \n",
              "126  1.8621                  11.7952             0.5796   0.0649   \n",
              "127  2.7466                   1.2692             1.3645   0.0038   \n",
              "128  3.8328                   9.3920             3.4106   0.0009   \n",
              "129  1.8427                   1.7570             1.5632   0.0014   \n",
              "\n",
              "    Vegetable Oils Vegetables  Vegetal Products  Obesity  Undernourished  \n",
              "0           0.3261    11.7753           31.2304     22.3             6.2  \n",
              "1           1.0310    11.6484           40.3651     26.6             3.9  \n",
              "2           0.6463     2.3041           45.0722      6.8            25.0  \n",
              "3           0.9541     4.3503           30.6559     28.5             4.6  \n",
              "4           0.4705    16.7019           36.4358     20.9             4.3  \n",
              "..             ...        ...               ...      ...             ...  \n",
              "125         1.0337     3.9333           32.1076     28.9             0.0  \n",
              "126         0.6109    14.8354           35.5540     15.3             6.3  \n",
              "127         0.3674     3.9175           43.3737     23.5             7.2  \n",
              "128         1.3734     4.1474           35.2416     25.2            21.2  \n",
              "129         0.6657     3.4649           43.9789      6.5            46.7  \n",
              "\n",
              "[130 rows x 43 columns]"
            ]
          },
          "execution_count": 5,
          "metadata": {},
          "output_type": "execute_result"
        }
      ],
      "source": [
        "# Preview the Data\n",
        "dataframe.head(130)"
      ]
    },
    {
      "cell_type": "markdown",
      "metadata": {
        "id": "MMuAPwgua0Rh"
      },
      "source": [
        "## Connect to Database"
      ]
    },
    {
      "cell_type": "code",
      "execution_count": null,
      "metadata": {
        "id": "mUy2CUAmkhv-"
      },
      "outputs": [],
      "source": []
    },
    {
      "cell_type": "code",
      "execution_count": 6,
      "metadata": {
        "id": "xpRKc-ADa4KY"
      },
      "outputs": [
        {
          "name": "stdout",
          "output_type": "stream",
          "text": [
            "zsh:1: command not found: wget\n"
          ]
        }
      ],
      "source": [
        "# Install Postgres Driver\n",
        "!wget https://jdbc.postgresql.org/download/postgresql-42.2.16.jar"
      ]
    },
    {
      "cell_type": "markdown",
      "metadata": {
        "id": "m0iR3nMLdi-J"
      },
      "source": [
        "##### Build Database Connection"
      ]
    },
    {
      "cell_type": "code",
      "execution_count": 7,
      "metadata": {
        "id": "BFJwsLQDlnnx"
      },
      "outputs": [],
      "source": [
        "# # Import Module to Communicate with PostgreSQL\n",
        "# import psycopg2 as pg\n",
        "\n",
        "# # Import Password Protector\n",
        "# from getpass import getpass\n",
        "# passw = getpass('Enter your Password')\n",
        "\n",
        "# # Build Engine for Connection\n",
        "# engine = pg.connect(database=\"Final_Project\",  user=\"postgres\", host=\"localhost\", port=\"5432\", password=passw)\n",
        "\n",
        "# dataframe = pd.read_sql('SELECT covid.*, nutrition.\"Alcoholic Beverages\",nutrition.\"Animal Products\",nutrition.\"Cereals - Excluding Beer\",nutrition.\"Eggs\",nutrition.\"Fish, Seafood\",nutrition.\"Fruits - Excluding Wine\",nutrition.\"Meat\",nutrition.\"Milk - Excluding Butter\",nutrition.\"Sugar & Sweeteners\",nutrition.\"Treenuts\",nutrition.\"Vegetable Oils\",nutrition.\"Vegetables\",nutrition.\"Vegetal Products\",nutrition.\"Obesity\",nutrition.\"Undernourished\" FROM covid INNER JOIN nutrition ON covid.\"COUNTRY\" = nutrition.\"COUNTRY\" ORDER BY \"COUNTRY\";', con=engine)"
      ]
    },
    {
      "cell_type": "code",
      "execution_count": 8,
      "metadata": {},
      "outputs": [
        {
          "data": {
            "text/html": [
              "<div>\n",
              "<style scoped>\n",
              "    .dataframe tbody tr th:only-of-type {\n",
              "        vertical-align: middle;\n",
              "    }\n",
              "\n",
              "    .dataframe tbody tr th {\n",
              "        vertical-align: top;\n",
              "    }\n",
              "\n",
              "    .dataframe thead th {\n",
              "        text-align: right;\n",
              "    }\n",
              "</style>\n",
              "<table border=\"1\" class=\"dataframe\">\n",
              "  <thead>\n",
              "    <tr style=\"text-align: right;\">\n",
              "      <th></th>\n",
              "      <th>COUNTRY</th>\n",
              "      <th>WHO Region</th>\n",
              "      <th>Cases - cumulative total</th>\n",
              "      <th>Cases - cumulative total per 100000 population</th>\n",
              "      <th>Cases - newly reported in last 7 days</th>\n",
              "      <th>Cases - newly reported in last 7 days per 100000 population</th>\n",
              "      <th>Cases - newly reported in last 24 hours</th>\n",
              "      <th>Deaths - cumulative total</th>\n",
              "      <th>Deaths - cumulative total per 100000 population</th>\n",
              "      <th>Deaths - newly reported in last 7 days</th>\n",
              "      <th>...</th>\n",
              "      <th>Fruits - Excluding Wine</th>\n",
              "      <th>Meat</th>\n",
              "      <th>Milk - Excluding Butter</th>\n",
              "      <th>Sugar &amp; Sweeteners</th>\n",
              "      <th>Treenuts</th>\n",
              "      <th>Vegetable Oils</th>\n",
              "      <th>Vegetables</th>\n",
              "      <th>Vegetal Products</th>\n",
              "      <th>Obesity</th>\n",
              "      <th>Undernourished</th>\n",
              "    </tr>\n",
              "  </thead>\n",
              "  <tbody>\n",
              "    <tr>\n",
              "      <th>0</th>\n",
              "      <td>Albania</td>\n",
              "      <td>Europe</td>\n",
              "      <td>275416</td>\n",
              "      <td>9570.366</td>\n",
              "      <td>225</td>\n",
              "      <td>7.818</td>\n",
              "      <td>44</td>\n",
              "      <td>3497</td>\n",
              "      <td>121.516</td>\n",
              "      <td>1</td>\n",
              "      <td>...</td>\n",
              "      <td>6.7861</td>\n",
              "      <td>1.8845</td>\n",
              "      <td>15.7213</td>\n",
              "      <td>1.5367</td>\n",
              "      <td>0.1515</td>\n",
              "      <td>0.3261</td>\n",
              "      <td>11.7753</td>\n",
              "      <td>31.2304</td>\n",
              "      <td>22.3</td>\n",
              "      <td>6.2</td>\n",
              "    </tr>\n",
              "    <tr>\n",
              "      <th>1</th>\n",
              "      <td>Algeria</td>\n",
              "      <td>Africa</td>\n",
              "      <td>265800</td>\n",
              "      <td>606.143</td>\n",
              "      <td>18</td>\n",
              "      <td>0.041</td>\n",
              "      <td>0</td>\n",
              "      <td>6875</td>\n",
              "      <td>15.678</td>\n",
              "      <td>0</td>\n",
              "      <td>...</td>\n",
              "      <td>6.3801</td>\n",
              "      <td>1.1305</td>\n",
              "      <td>7.6189</td>\n",
              "      <td>1.8342</td>\n",
              "      <td>0.1152</td>\n",
              "      <td>1.0310</td>\n",
              "      <td>11.6484</td>\n",
              "      <td>40.3651</td>\n",
              "      <td>26.6</td>\n",
              "      <td>3.9</td>\n",
              "    </tr>\n",
              "    <tr>\n",
              "      <th>2</th>\n",
              "      <td>Angola</td>\n",
              "      <td>Africa</td>\n",
              "      <td>99287</td>\n",
              "      <td>302.094</td>\n",
              "      <td>0</td>\n",
              "      <td>0.000</td>\n",
              "      <td>0</td>\n",
              "      <td>1900</td>\n",
              "      <td>5.781</td>\n",
              "      <td>0</td>\n",
              "      <td>...</td>\n",
              "      <td>6.0005</td>\n",
              "      <td>2.0571</td>\n",
              "      <td>0.8311</td>\n",
              "      <td>1.8495</td>\n",
              "      <td>0.0061</td>\n",
              "      <td>0.6463</td>\n",
              "      <td>2.3041</td>\n",
              "      <td>45.0722</td>\n",
              "      <td>6.8</td>\n",
              "      <td>25.0</td>\n",
              "    </tr>\n",
              "    <tr>\n",
              "      <th>3</th>\n",
              "      <td>Argentina</td>\n",
              "      <td>Americas</td>\n",
              "      <td>9101319</td>\n",
              "      <td>20137.544</td>\n",
              "      <td>17646</td>\n",
              "      <td>39.043</td>\n",
              "      <td>0</td>\n",
              "      <td>128729</td>\n",
              "      <td>284.825</td>\n",
              "      <td>76</td>\n",
              "      <td>...</td>\n",
              "      <td>6.0435</td>\n",
              "      <td>7.0421</td>\n",
              "      <td>10.2328</td>\n",
              "      <td>3.0536</td>\n",
              "      <td>0.0200</td>\n",
              "      <td>0.9541</td>\n",
              "      <td>4.3503</td>\n",
              "      <td>30.6559</td>\n",
              "      <td>28.5</td>\n",
              "      <td>4.6</td>\n",
              "    </tr>\n",
              "    <tr>\n",
              "      <th>4</th>\n",
              "      <td>Armenia</td>\n",
              "      <td>Europe</td>\n",
              "      <td>422900</td>\n",
              "      <td>14271.570</td>\n",
              "      <td>23</td>\n",
              "      <td>0.776</td>\n",
              "      <td>0</td>\n",
              "      <td>8623</td>\n",
              "      <td>291.000</td>\n",
              "      <td>1</td>\n",
              "      <td>...</td>\n",
              "      <td>6.0989</td>\n",
              "      <td>2.2675</td>\n",
              "      <td>9.9407</td>\n",
              "      <td>2.6579</td>\n",
              "      <td>0.1108</td>\n",
              "      <td>0.4705</td>\n",
              "      <td>16.7019</td>\n",
              "      <td>36.4358</td>\n",
              "      <td>20.9</td>\n",
              "      <td>4.3</td>\n",
              "    </tr>\n",
              "  </tbody>\n",
              "</table>\n",
              "<p>5 rows × 43 columns</p>\n",
              "</div>"
            ],
            "text/plain": [
              "     COUNTRY WHO Region  Cases - cumulative total  \\\n",
              "0    Albania     Europe                    275416   \n",
              "1    Algeria     Africa                    265800   \n",
              "2     Angola     Africa                     99287   \n",
              "3  Argentina   Americas                   9101319   \n",
              "4    Armenia     Europe                    422900   \n",
              "\n",
              "   Cases - cumulative total per 100000 population  \\\n",
              "0                                        9570.366   \n",
              "1                                         606.143   \n",
              "2                                         302.094   \n",
              "3                                       20137.544   \n",
              "4                                       14271.570   \n",
              "\n",
              "   Cases - newly reported in last 7 days  \\\n",
              "0                                    225   \n",
              "1                                     18   \n",
              "2                                      0   \n",
              "3                                  17646   \n",
              "4                                     23   \n",
              "\n",
              "   Cases - newly reported in last 7 days per 100000 population  \\\n",
              "0                                              7.818             \n",
              "1                                              0.041             \n",
              "2                                              0.000             \n",
              "3                                             39.043             \n",
              "4                                              0.776             \n",
              "\n",
              "   Cases - newly reported in last 24 hours  Deaths - cumulative total  \\\n",
              "0                                       44                       3497   \n",
              "1                                        0                       6875   \n",
              "2                                        0                       1900   \n",
              "3                                        0                     128729   \n",
              "4                                        0                       8623   \n",
              "\n",
              "   Deaths - cumulative total per 100000 population  \\\n",
              "0                                          121.516   \n",
              "1                                           15.678   \n",
              "2                                            5.781   \n",
              "3                                          284.825   \n",
              "4                                          291.000   \n",
              "\n",
              "   Deaths - newly reported in last 7 days  ...  Fruits - Excluding Wine  \\\n",
              "0                                       1  ...                   6.7861   \n",
              "1                                       0  ...                   6.3801   \n",
              "2                                       0  ...                   6.0005   \n",
              "3                                      76  ...                   6.0435   \n",
              "4                                       1  ...                   6.0989   \n",
              "\n",
              "     Meat  Milk - Excluding Butter Sugar & Sweeteners Treenuts Vegetable Oils  \\\n",
              "0  1.8845                  15.7213             1.5367   0.1515         0.3261   \n",
              "1  1.1305                   7.6189             1.8342   0.1152         1.0310   \n",
              "2  2.0571                   0.8311             1.8495   0.0061         0.6463   \n",
              "3  7.0421                  10.2328             3.0536   0.0200         0.9541   \n",
              "4  2.2675                   9.9407             2.6579   0.1108         0.4705   \n",
              "\n",
              "  Vegetables  Vegetal Products  Obesity  Undernourished  \n",
              "0    11.7753           31.2304     22.3             6.2  \n",
              "1    11.6484           40.3651     26.6             3.9  \n",
              "2     2.3041           45.0722      6.8            25.0  \n",
              "3     4.3503           30.6559     28.5             4.6  \n",
              "4    16.7019           36.4358     20.9             4.3  \n",
              "\n",
              "[5 rows x 43 columns]"
            ]
          },
          "execution_count": 8,
          "metadata": {},
          "output_type": "execute_result"
        }
      ],
      "source": [
        "dataframe.head()"
      ]
    },
    {
      "cell_type": "markdown",
      "metadata": {
        "id": "aWQrK58vaEfy"
      },
      "source": [
        "## Process & Preprocess the Data"
      ]
    },
    {
      "cell_type": "markdown",
      "metadata": {
        "id": "r22ScicytP3H"
      },
      "source": [
        "### Clean the Data"
      ]
    },
    {
      "cell_type": "markdown",
      "metadata": {
        "id": "3Zfg6vM83f1e"
      },
      "source": [
        "##### Identify Categorical Variables/Columns"
      ]
    },
    {
      "cell_type": "code",
      "execution_count": 9,
      "metadata": {
        "id": "LEa0UEd93SpC"
      },
      "outputs": [
        {
          "data": {
            "text/plain": [
              "COUNTRY               131\n",
              "WHO Region              6\n",
              "ISO3                  131\n",
              "WHO_REGION              6\n",
              "DATA_SOURCE             1\n",
              "DATE_UPDATED           16\n",
              "VACCINES_USED          80\n",
              "FIRST_VACCINE_DATE     67\n",
              "dtype: int64"
            ]
          },
          "execution_count": 9,
          "metadata": {},
          "output_type": "execute_result"
        }
      ],
      "source": [
        "# Generate our categorical variable list\n",
        "categorical_columns = dataframe.dtypes[dataframe.dtypes == \"object\"].index.tolist()\n",
        "\n",
        "# Check the number of unique values in each column\n",
        "dataframe[categorical_columns].nunique()"
      ]
    },
    {
      "cell_type": "code",
      "execution_count": 10,
      "metadata": {},
      "outputs": [
        {
          "data": {
            "text/plain": [
              "Index(['COUNTRY', 'WHO Region', 'Cases - cumulative total',\n",
              "       'Cases - cumulative total per 100000 population',\n",
              "       'Cases - newly reported in last 7 days',\n",
              "       'Cases - newly reported in last 7 days per 100000 population',\n",
              "       'Cases - newly reported in last 24 hours', 'Deaths - cumulative total',\n",
              "       'Deaths - cumulative total per 100000 population',\n",
              "       'Deaths - newly reported in last 7 days',\n",
              "       'Deaths - newly reported in last 7 days per 100000 population',\n",
              "       'Deaths - newly reported in last 24 hours', 'Case_Fatality_Ratio',\n",
              "       'ISO3', 'WHO_REGION', 'DATA_SOURCE', 'DATE_UPDATED',\n",
              "       'TOTAL_VACCINATIONS', 'PERSONS_VACCINATED_1PLUS_DOSE',\n",
              "       'TOTAL_VACCINATIONS_PER100', 'PERSONS_VACCINATED_1PLUS_DOSE_PER100',\n",
              "       'PERSONS_FULLY_VACCINATED', 'PERSONS_FULLY_VACCINATED_PER100',\n",
              "       'VACCINES_USED', 'FIRST_VACCINE_DATE', 'NUMBER_VACCINES_TYPES_USED',\n",
              "       'PERSONS_BOOSTER_ADD_DOSE', 'PERSONS_BOOSTER_ADD_DOSE_PER100',\n",
              "       'Alcoholic Beverages', 'Animal Products', 'Cereals - Excluding Beer',\n",
              "       'Eggs', 'Fish, Seafood', 'Fruits - Excluding Wine', 'Meat',\n",
              "       'Milk - Excluding Butter', 'Sugar & Sweeteners', 'Treenuts',\n",
              "       'Vegetable Oils', 'Vegetables', 'Vegetal Products', 'Obesity',\n",
              "       'Undernourished'],\n",
              "      dtype='object')"
            ]
          },
          "execution_count": 10,
          "metadata": {},
          "output_type": "execute_result"
        }
      ],
      "source": [
        "dataframe.columns"
      ]
    },
    {
      "cell_type": "markdown",
      "metadata": {
        "id": "seoCFUDA9AY3"
      },
      "source": [
        "##### Determing Bucketing - if categorical column has more than 10 unique values, consider binning!\n"
      ]
    },
    {
      "cell_type": "code",
      "execution_count": 11,
      "metadata": {
        "id": "IeA0LvGE9Ld5"
      },
      "outputs": [],
      "source": [
        "## OPTIONAL ##\n",
        "\n",
        "## Analyze frequencies of unique values in categorical column(s)\n",
        "# column1_counts = dataframe.insert_column_name_here.value_counts()\n",
        "\n",
        "## Plot the value counts - then determine the cut off(s) for binning\n",
        "# column1_counts.plot.density()"
      ]
    },
    {
      "cell_type": "code",
      "execution_count": 12,
      "metadata": {
        "id": "VF7Sh5-Z-KQl"
      },
      "outputs": [],
      "source": [
        "## OPTIONAL ##\n",
        "\n",
        "## Determine which values to replace\n",
        "# replace_column1 = list(column1_counts[column1_counts < cutoff_value].index)\n",
        "\n",
        "## Replace the column values you'd like to bucket together in the DataFrame\n",
        "# for value in replace_column1:\n",
        "  # dataframe.insert_column_name_here = dataframe.insert_column_name_here.replace(value,\"New_Bucketed_Value_Name-Ex:'Other'\")\n",
        "\n",
        "## Check to make sure the bucketing/binning was successful\n",
        "# dataframe.insert_column_name_here.value_counts()"
      ]
    },
    {
      "cell_type": "markdown",
      "metadata": {
        "id": "H5ALN5Nc4O6c"
      },
      "source": [
        "##### Encode the Categorical Values"
      ]
    },
    {
      "cell_type": "code",
      "execution_count": 13,
      "metadata": {
        "id": "5zbcZ41v4haH"
      },
      "outputs": [],
      "source": [
        "# Import the LabelEncoder\n",
        "from sklearn.preprocessing import LabelEncoder"
      ]
    },
    {
      "cell_type": "code",
      "execution_count": 14,
      "metadata": {
        "id": "JMC9wR5g6tGA"
      },
      "outputs": [],
      "source": [
        "# # Instantiate LabelEncoder\n",
        "# encoder = LabelEncoder()\n",
        "\n",
        "# # Create a copy of the dataframe and encode the data\n",
        "# dataframe_copy = dataframe.copy()\n",
        "\n",
        "# # Train the LabelEncoder, convert the text columns to string columns\n",
        "# for x in categorical_columns:\n",
        "#   dataframe_copy[f\"{x}\"] = encoder.fit_transform(dataframe_copy[f\"{x}\"])\n",
        "\n",
        "# # Preview the converted tables\n",
        "# dataframe_copy.head(15)"
      ]
    },
    {
      "cell_type": "markdown",
      "metadata": {
        "id": "3p13h1isguD2"
      },
      "source": [
        "### Dataset Training & Test Splitting"
      ]
    },
    {
      "cell_type": "markdown",
      "metadata": {
        "id": "0Tr21vybhAyP"
      },
      "source": [
        "##### Separate Features from Outcomes"
      ]
    },
    {
      "cell_type": "markdown",
      "metadata": {
        "id": "ladDlXmYhWIj"
      },
      "source": [
        "##### Features(X)"
      ]
    },
    {
      "cell_type": "code",
      "execution_count": 15,
      "metadata": {
        "id": "AX9e213SaOEF"
      },
      "outputs": [
        {
          "data": {
            "text/html": [
              "<div>\n",
              "<style scoped>\n",
              "    .dataframe tbody tr th:only-of-type {\n",
              "        vertical-align: middle;\n",
              "    }\n",
              "\n",
              "    .dataframe tbody tr th {\n",
              "        vertical-align: top;\n",
              "    }\n",
              "\n",
              "    .dataframe thead th {\n",
              "        text-align: right;\n",
              "    }\n",
              "</style>\n",
              "<table border=\"1\" class=\"dataframe\">\n",
              "  <thead>\n",
              "    <tr style=\"text-align: right;\">\n",
              "      <th></th>\n",
              "      <th>TOTAL_VACCINATIONS</th>\n",
              "      <th>PERSONS_VACCINATED_1PLUS_DOSE</th>\n",
              "      <th>TOTAL_VACCINATIONS_PER100</th>\n",
              "      <th>PERSONS_VACCINATED_1PLUS_DOSE_PER100</th>\n",
              "      <th>PERSONS_FULLY_VACCINATED</th>\n",
              "      <th>PERSONS_FULLY_VACCINATED_PER100</th>\n",
              "      <th>NUMBER_VACCINES_TYPES_USED</th>\n",
              "      <th>PERSONS_BOOSTER_ADD_DOSE</th>\n",
              "      <th>PERSONS_BOOSTER_ADD_DOSE_PER100</th>\n",
              "      <th>Alcoholic Beverages</th>\n",
              "      <th>...</th>\n",
              "      <th>Fruits - Excluding Wine</th>\n",
              "      <th>Meat</th>\n",
              "      <th>Milk - Excluding Butter</th>\n",
              "      <th>Sugar &amp; Sweeteners</th>\n",
              "      <th>Treenuts</th>\n",
              "      <th>Vegetable Oils</th>\n",
              "      <th>Vegetables</th>\n",
              "      <th>Vegetal Products</th>\n",
              "      <th>Obesity</th>\n",
              "      <th>Undernourished</th>\n",
              "    </tr>\n",
              "  </thead>\n",
              "  <tbody>\n",
              "    <tr>\n",
              "      <th>0</th>\n",
              "      <td>2825500</td>\n",
              "      <td>1299321</td>\n",
              "      <td>98.200</td>\n",
              "      <td>45.655</td>\n",
              "      <td>1230636</td>\n",
              "      <td>43.242</td>\n",
              "      <td>5</td>\n",
              "      <td>295543</td>\n",
              "      <td>10.385</td>\n",
              "      <td>1.6719</td>\n",
              "      <td>...</td>\n",
              "      <td>6.7861</td>\n",
              "      <td>1.8845</td>\n",
              "      <td>15.7213</td>\n",
              "      <td>1.5367</td>\n",
              "      <td>0.1515</td>\n",
              "      <td>0.3261</td>\n",
              "      <td>11.7753</td>\n",
              "      <td>31.2304</td>\n",
              "      <td>22.3</td>\n",
              "      <td>6.2</td>\n",
              "    </tr>\n",
              "    <tr>\n",
              "      <th>1</th>\n",
              "      <td>15205854</td>\n",
              "      <td>7840131</td>\n",
              "      <td>34.676</td>\n",
              "      <td>17.879</td>\n",
              "      <td>6481186</td>\n",
              "      <td>14.780</td>\n",
              "      <td>4</td>\n",
              "      <td>514063</td>\n",
              "      <td>1.172</td>\n",
              "      <td>0.2711</td>\n",
              "      <td>...</td>\n",
              "      <td>6.3801</td>\n",
              "      <td>1.1305</td>\n",
              "      <td>7.6189</td>\n",
              "      <td>1.8342</td>\n",
              "      <td>0.1152</td>\n",
              "      <td>1.0310</td>\n",
              "      <td>11.6484</td>\n",
              "      <td>40.3651</td>\n",
              "      <td>26.6</td>\n",
              "      <td>3.9</td>\n",
              "    </tr>\n",
              "    <tr>\n",
              "      <th>2</th>\n",
              "      <td>17896626</td>\n",
              "      <td>12059919</td>\n",
              "      <td>54.453</td>\n",
              "      <td>36.694</td>\n",
              "      <td>6327907</td>\n",
              "      <td>19.253</td>\n",
              "      <td>1</td>\n",
              "      <td>369899</td>\n",
              "      <td>1.125</td>\n",
              "      <td>5.8087</td>\n",
              "      <td>...</td>\n",
              "      <td>6.0005</td>\n",
              "      <td>2.0571</td>\n",
              "      <td>0.8311</td>\n",
              "      <td>1.8495</td>\n",
              "      <td>0.0061</td>\n",
              "      <td>0.6463</td>\n",
              "      <td>2.3041</td>\n",
              "      <td>45.0722</td>\n",
              "      <td>6.8</td>\n",
              "      <td>25.0</td>\n",
              "    </tr>\n",
              "    <tr>\n",
              "      <th>3</th>\n",
              "      <td>99115622</td>\n",
              "      <td>41035648</td>\n",
              "      <td>219.303</td>\n",
              "      <td>90.795</td>\n",
              "      <td>37278843</td>\n",
              "      <td>82.483</td>\n",
              "      <td>7</td>\n",
              "      <td>21113527</td>\n",
              "      <td>46.716</td>\n",
              "      <td>4.2672</td>\n",
              "      <td>...</td>\n",
              "      <td>6.0435</td>\n",
              "      <td>7.0421</td>\n",
              "      <td>10.2328</td>\n",
              "      <td>3.0536</td>\n",
              "      <td>0.0200</td>\n",
              "      <td>0.9541</td>\n",
              "      <td>4.3503</td>\n",
              "      <td>30.6559</td>\n",
              "      <td>28.5</td>\n",
              "      <td>4.6</td>\n",
              "    </tr>\n",
              "    <tr>\n",
              "      <th>4</th>\n",
              "      <td>2154689</td>\n",
              "      <td>1131339</td>\n",
              "      <td>72.700</td>\n",
              "      <td>38.179</td>\n",
              "      <td>987673</td>\n",
              "      <td>33.331</td>\n",
              "      <td>8</td>\n",
              "      <td>41766</td>\n",
              "      <td>1.409</td>\n",
              "      <td>0.4014</td>\n",
              "      <td>...</td>\n",
              "      <td>6.0989</td>\n",
              "      <td>2.2675</td>\n",
              "      <td>9.9407</td>\n",
              "      <td>2.6579</td>\n",
              "      <td>0.1108</td>\n",
              "      <td>0.4705</td>\n",
              "      <td>16.7019</td>\n",
              "      <td>36.4358</td>\n",
              "      <td>20.9</td>\n",
              "      <td>4.3</td>\n",
              "    </tr>\n",
              "    <tr>\n",
              "      <th>5</th>\n",
              "      <td>58068709</td>\n",
              "      <td>22288752</td>\n",
              "      <td>227.721</td>\n",
              "      <td>87.407</td>\n",
              "      <td>21553633</td>\n",
              "      <td>84.524</td>\n",
              "      <td>5</td>\n",
              "      <td>13497494</td>\n",
              "      <td>52.932</td>\n",
              "      <td>5.5436</td>\n",
              "      <td>...</td>\n",
              "      <td>4.1883</td>\n",
              "      <td>6.7049</td>\n",
              "      <td>12.1018</td>\n",
              "      <td>2.5364</td>\n",
              "      <td>0.3176</td>\n",
              "      <td>1.2798</td>\n",
              "      <td>5.1406</td>\n",
              "      <td>28.5806</td>\n",
              "      <td>30.4</td>\n",
              "      <td>0.0</td>\n",
              "    </tr>\n",
              "    <tr>\n",
              "      <th>6</th>\n",
              "      <td>18278212</td>\n",
              "      <td>6823343</td>\n",
              "      <td>205.300</td>\n",
              "      <td>76.658</td>\n",
              "      <td>6608360</td>\n",
              "      <td>74.242</td>\n",
              "      <td>6</td>\n",
              "      <td>5197422</td>\n",
              "      <td>58.391</td>\n",
              "      <td>7.0215</td>\n",
              "      <td>...</td>\n",
              "      <td>4.6069</td>\n",
              "      <td>4.6810</td>\n",
              "      <td>12.3776</td>\n",
              "      <td>2.6094</td>\n",
              "      <td>0.2367</td>\n",
              "      <td>0.8109</td>\n",
              "      <td>5.1098</td>\n",
              "      <td>30.4338</td>\n",
              "      <td>21.9</td>\n",
              "      <td>0.0</td>\n",
              "    </tr>\n",
              "    <tr>\n",
              "      <th>7</th>\n",
              "      <td>13499692</td>\n",
              "      <td>5362072</td>\n",
              "      <td>133.100</td>\n",
              "      <td>52.885</td>\n",
              "      <td>4843392</td>\n",
              "      <td>47.769</td>\n",
              "      <td>5</td>\n",
              "      <td>3294230</td>\n",
              "      <td>32.490</td>\n",
              "      <td>3.5969</td>\n",
              "      <td>...</td>\n",
              "      <td>4.7988</td>\n",
              "      <td>2.1513</td>\n",
              "      <td>8.3212</td>\n",
              "      <td>1.5523</td>\n",
              "      <td>0.1906</td>\n",
              "      <td>0.2235</td>\n",
              "      <td>10.0755</td>\n",
              "      <td>38.3584</td>\n",
              "      <td>19.9</td>\n",
              "      <td>0.0</td>\n",
              "    </tr>\n",
              "    <tr>\n",
              "      <th>8</th>\n",
              "      <td>258739535</td>\n",
              "      <td>128838366</td>\n",
              "      <td>157.108</td>\n",
              "      <td>78.231</td>\n",
              "      <td>116692702</td>\n",
              "      <td>70.856</td>\n",
              "      <td>8</td>\n",
              "      <td>13208467</td>\n",
              "      <td>8.020</td>\n",
              "      <td>0.0031</td>\n",
              "      <td>...</td>\n",
              "      <td>2.8655</td>\n",
              "      <td>0.4191</td>\n",
              "      <td>1.8778</td>\n",
              "      <td>0.9285</td>\n",
              "      <td>0.0934</td>\n",
              "      <td>0.7615</td>\n",
              "      <td>3.6405</td>\n",
              "      <td>44.8033</td>\n",
              "      <td>3.4</td>\n",
              "      <td>14.7</td>\n",
              "    </tr>\n",
              "    <tr>\n",
              "      <th>9</th>\n",
              "      <td>361863</td>\n",
              "      <td>161776</td>\n",
              "      <td>125.920</td>\n",
              "      <td>56.294</td>\n",
              "      <td>152018</td>\n",
              "      <td>52.899</td>\n",
              "      <td>5</td>\n",
              "      <td>48069</td>\n",
              "      <td>16.727</td>\n",
              "      <td>3.5650</td>\n",
              "      <td>...</td>\n",
              "      <td>5.8723</td>\n",
              "      <td>5.8477</td>\n",
              "      <td>2.2041</td>\n",
              "      <td>4.3344</td>\n",
              "      <td>0.0852</td>\n",
              "      <td>0.8677</td>\n",
              "      <td>5.4725</td>\n",
              "      <td>37.5167</td>\n",
              "      <td>24.8</td>\n",
              "      <td>3.9</td>\n",
              "    </tr>\n",
              "    <tr>\n",
              "      <th>10</th>\n",
              "      <td>12495345</td>\n",
              "      <td>6235073</td>\n",
              "      <td>132.200</td>\n",
              "      <td>65.984</td>\n",
              "      <td>5851853</td>\n",
              "      <td>61.929</td>\n",
              "      <td>4</td>\n",
              "      <td>691479</td>\n",
              "      <td>7.318</td>\n",
              "      <td>3.7563</td>\n",
              "      <td>...</td>\n",
              "      <td>3.5665</td>\n",
              "      <td>4.1893</td>\n",
              "      <td>6.2104</td>\n",
              "      <td>4.0155</td>\n",
              "      <td>0.1399</td>\n",
              "      <td>0.8804</td>\n",
              "      <td>8.7859</td>\n",
              "      <td>37.2904</td>\n",
              "      <td>26.6</td>\n",
              "      <td>0.0</td>\n",
              "    </tr>\n",
              "    <tr>\n",
              "      <th>11</th>\n",
              "      <td>25303482</td>\n",
              "      <td>9228773</td>\n",
              "      <td>219.600</td>\n",
              "      <td>80.094</td>\n",
              "      <td>9131490</td>\n",
              "      <td>79.250</td>\n",
              "      <td>4</td>\n",
              "      <td>7130176</td>\n",
              "      <td>61.881</td>\n",
              "      <td>5.3730</td>\n",
              "      <td>...</td>\n",
              "      <td>4.1623</td>\n",
              "      <td>3.2370</td>\n",
              "      <td>11.6344</td>\n",
              "      <td>3.6514</td>\n",
              "      <td>0.1309</td>\n",
              "      <td>0.5640</td>\n",
              "      <td>6.8161</td>\n",
              "      <td>32.2637</td>\n",
              "      <td>24.5</td>\n",
              "      <td>0.0</td>\n",
              "    </tr>\n",
              "    <tr>\n",
              "      <th>12</th>\n",
              "      <td>473152</td>\n",
              "      <td>237193</td>\n",
              "      <td>118.994</td>\n",
              "      <td>59.652</td>\n",
              "      <td>211123</td>\n",
              "      <td>53.096</td>\n",
              "      <td>5</td>\n",
              "      <td>45848</td>\n",
              "      <td>11.530</td>\n",
              "      <td>3.3803</td>\n",
              "      <td>...</td>\n",
              "      <td>12.6094</td>\n",
              "      <td>3.4890</td>\n",
              "      <td>3.6317</td>\n",
              "      <td>3.9798</td>\n",
              "      <td>0.0340</td>\n",
              "      <td>1.0198</td>\n",
              "      <td>4.7721</td>\n",
              "      <td>41.3122</td>\n",
              "      <td>22.4</td>\n",
              "      <td>7.5</td>\n",
              "    </tr>\n",
              "    <tr>\n",
              "      <th>13</th>\n",
              "      <td>1920000</td>\n",
              "      <td>1479625</td>\n",
              "      <td>81.646</td>\n",
              "      <td>62.919</td>\n",
              "      <td>1339651</td>\n",
              "      <td>56.967</td>\n",
              "      <td>6</td>\n",
              "      <td>327708</td>\n",
              "      <td>13.935</td>\n",
              "      <td>4.2717</td>\n",
              "      <td>...</td>\n",
              "      <td>2.8465</td>\n",
              "      <td>2.2840</td>\n",
              "      <td>11.0217</td>\n",
              "      <td>4.7857</td>\n",
              "      <td>0.0150</td>\n",
              "      <td>1.0065</td>\n",
              "      <td>4.0558</td>\n",
              "      <td>35.5491</td>\n",
              "      <td>16.1</td>\n",
              "      <td>26.4</td>\n",
              "    </tr>\n",
              "    <tr>\n",
              "      <th>14</th>\n",
              "      <td>416055006</td>\n",
              "      <td>179112844</td>\n",
              "      <td>195.736</td>\n",
              "      <td>84.265</td>\n",
              "      <td>159915412</td>\n",
              "      <td>75.233</td>\n",
              "      <td>5</td>\n",
              "      <td>79853054</td>\n",
              "      <td>37.567</td>\n",
              "      <td>4.3629</td>\n",
              "      <td>...</td>\n",
              "      <td>6.0936</td>\n",
              "      <td>6.4784</td>\n",
              "      <td>9.3416</td>\n",
              "      <td>2.7755</td>\n",
              "      <td>0.0513</td>\n",
              "      <td>1.2823</td>\n",
              "      <td>3.3070</td>\n",
              "      <td>32.6537</td>\n",
              "      <td>22.3</td>\n",
              "      <td>0.0</td>\n",
              "    </tr>\n",
              "  </tbody>\n",
              "</table>\n",
              "<p>15 rows × 24 columns</p>\n",
              "</div>"
            ],
            "text/plain": [
              "    TOTAL_VACCINATIONS  PERSONS_VACCINATED_1PLUS_DOSE  \\\n",
              "0              2825500                        1299321   \n",
              "1             15205854                        7840131   \n",
              "2             17896626                       12059919   \n",
              "3             99115622                       41035648   \n",
              "4              2154689                        1131339   \n",
              "5             58068709                       22288752   \n",
              "6             18278212                        6823343   \n",
              "7             13499692                        5362072   \n",
              "8            258739535                      128838366   \n",
              "9               361863                         161776   \n",
              "10            12495345                        6235073   \n",
              "11            25303482                        9228773   \n",
              "12              473152                         237193   \n",
              "13             1920000                        1479625   \n",
              "14           416055006                      179112844   \n",
              "\n",
              "    TOTAL_VACCINATIONS_PER100  PERSONS_VACCINATED_1PLUS_DOSE_PER100  \\\n",
              "0                      98.200                                45.655   \n",
              "1                      34.676                                17.879   \n",
              "2                      54.453                                36.694   \n",
              "3                     219.303                                90.795   \n",
              "4                      72.700                                38.179   \n",
              "5                     227.721                                87.407   \n",
              "6                     205.300                                76.658   \n",
              "7                     133.100                                52.885   \n",
              "8                     157.108                                78.231   \n",
              "9                     125.920                                56.294   \n",
              "10                    132.200                                65.984   \n",
              "11                    219.600                                80.094   \n",
              "12                    118.994                                59.652   \n",
              "13                     81.646                                62.919   \n",
              "14                    195.736                                84.265   \n",
              "\n",
              "    PERSONS_FULLY_VACCINATED  PERSONS_FULLY_VACCINATED_PER100  \\\n",
              "0                    1230636                           43.242   \n",
              "1                    6481186                           14.780   \n",
              "2                    6327907                           19.253   \n",
              "3                   37278843                           82.483   \n",
              "4                     987673                           33.331   \n",
              "5                   21553633                           84.524   \n",
              "6                    6608360                           74.242   \n",
              "7                    4843392                           47.769   \n",
              "8                  116692702                           70.856   \n",
              "9                     152018                           52.899   \n",
              "10                   5851853                           61.929   \n",
              "11                   9131490                           79.250   \n",
              "12                    211123                           53.096   \n",
              "13                   1339651                           56.967   \n",
              "14                 159915412                           75.233   \n",
              "\n",
              "    NUMBER_VACCINES_TYPES_USED  PERSONS_BOOSTER_ADD_DOSE  \\\n",
              "0                            5                    295543   \n",
              "1                            4                    514063   \n",
              "2                            1                    369899   \n",
              "3                            7                  21113527   \n",
              "4                            8                     41766   \n",
              "5                            5                  13497494   \n",
              "6                            6                   5197422   \n",
              "7                            5                   3294230   \n",
              "8                            8                  13208467   \n",
              "9                            5                     48069   \n",
              "10                           4                    691479   \n",
              "11                           4                   7130176   \n",
              "12                           5                     45848   \n",
              "13                           6                    327708   \n",
              "14                           5                  79853054   \n",
              "\n",
              "    PERSONS_BOOSTER_ADD_DOSE_PER100  Alcoholic Beverages  ...  \\\n",
              "0                            10.385               1.6719  ...   \n",
              "1                             1.172               0.2711  ...   \n",
              "2                             1.125               5.8087  ...   \n",
              "3                            46.716               4.2672  ...   \n",
              "4                             1.409               0.4014  ...   \n",
              "5                            52.932               5.5436  ...   \n",
              "6                            58.391               7.0215  ...   \n",
              "7                            32.490               3.5969  ...   \n",
              "8                             8.020               0.0031  ...   \n",
              "9                            16.727               3.5650  ...   \n",
              "10                            7.318               3.7563  ...   \n",
              "11                           61.881               5.3730  ...   \n",
              "12                           11.530               3.3803  ...   \n",
              "13                           13.935               4.2717  ...   \n",
              "14                           37.567               4.3629  ...   \n",
              "\n",
              "    Fruits - Excluding Wine    Meat  Milk - Excluding Butter  \\\n",
              "0                    6.7861  1.8845                  15.7213   \n",
              "1                    6.3801  1.1305                   7.6189   \n",
              "2                    6.0005  2.0571                   0.8311   \n",
              "3                    6.0435  7.0421                  10.2328   \n",
              "4                    6.0989  2.2675                   9.9407   \n",
              "5                    4.1883  6.7049                  12.1018   \n",
              "6                    4.6069  4.6810                  12.3776   \n",
              "7                    4.7988  2.1513                   8.3212   \n",
              "8                    2.8655  0.4191                   1.8778   \n",
              "9                    5.8723  5.8477                   2.2041   \n",
              "10                   3.5665  4.1893                   6.2104   \n",
              "11                   4.1623  3.2370                  11.6344   \n",
              "12                  12.6094  3.4890                   3.6317   \n",
              "13                   2.8465  2.2840                  11.0217   \n",
              "14                   6.0936  6.4784                   9.3416   \n",
              "\n",
              "    Sugar & Sweeteners  Treenuts  Vegetable Oils  Vegetables  \\\n",
              "0               1.5367    0.1515          0.3261     11.7753   \n",
              "1               1.8342    0.1152          1.0310     11.6484   \n",
              "2               1.8495    0.0061          0.6463      2.3041   \n",
              "3               3.0536    0.0200          0.9541      4.3503   \n",
              "4               2.6579    0.1108          0.4705     16.7019   \n",
              "5               2.5364    0.3176          1.2798      5.1406   \n",
              "6               2.6094    0.2367          0.8109      5.1098   \n",
              "7               1.5523    0.1906          0.2235     10.0755   \n",
              "8               0.9285    0.0934          0.7615      3.6405   \n",
              "9               4.3344    0.0852          0.8677      5.4725   \n",
              "10              4.0155    0.1399          0.8804      8.7859   \n",
              "11              3.6514    0.1309          0.5640      6.8161   \n",
              "12              3.9798    0.0340          1.0198      4.7721   \n",
              "13              4.7857    0.0150          1.0065      4.0558   \n",
              "14              2.7755    0.0513          1.2823      3.3070   \n",
              "\n",
              "    Vegetal Products  Obesity  Undernourished  \n",
              "0            31.2304     22.3             6.2  \n",
              "1            40.3651     26.6             3.9  \n",
              "2            45.0722      6.8            25.0  \n",
              "3            30.6559     28.5             4.6  \n",
              "4            36.4358     20.9             4.3  \n",
              "5            28.5806     30.4             0.0  \n",
              "6            30.4338     21.9             0.0  \n",
              "7            38.3584     19.9             0.0  \n",
              "8            44.8033      3.4            14.7  \n",
              "9            37.5167     24.8             3.9  \n",
              "10           37.2904     26.6             0.0  \n",
              "11           32.2637     24.5             0.0  \n",
              "12           41.3122     22.4             7.5  \n",
              "13           35.5491     16.1            26.4  \n",
              "14           32.6537     22.3             0.0  \n",
              "\n",
              "[15 rows x 24 columns]"
            ]
          },
          "execution_count": 15,
          "metadata": {},
          "output_type": "execute_result"
        }
      ],
      "source": [
        "# Create Features Dataset\n",
        "# X = dataframe_copy.copy()\n",
        "\n",
        "X = dataframe.copy()\n",
        "X = X.drop([\"Cases - cumulative total\", \"Cases - cumulative total per 100000 population\", \"Cases - newly reported in last 24 hours\", \"Deaths - newly reported in last 7 days per 100000 population\", \"Deaths - newly reported in last 24 hours\", \"Deaths - newly reported in last 7 days\", \"Deaths - cumulative total per 100000 population\", \"Deaths - cumulative total\", \"Cases - newly reported in last 7 days\", \"Cases - newly reported in last 7 days per 100000 population\", \"WHO Region\", \"COUNTRY\", \"ISO3\", \"WHO_REGION\", \"DATA_SOURCE\", \"DATE_UPDATED\", \"VACCINES_USED\", \"FIRST_VACCINE_DATE\", \"Case_Fatality_Ratio\"], axis=1)\n",
        "\n",
        "# Preview the Dataset\n",
        "X.head(15)"
      ]
    },
    {
      "cell_type": "markdown",
      "metadata": {
        "id": "a28At8K2haKK"
      },
      "source": [
        "##### Outcomes (y)"
      ]
    },
    {
      "cell_type": "code",
      "execution_count": 16,
      "metadata": {
        "id": "U7nHMbYfaOMs"
      },
      "outputs": [
        {
          "data": {
            "text/plain": [
              "0     1.269711\n",
              "1     2.586518\n",
              "2     1.913643\n",
              "3     1.414398\n",
              "4     2.039019\n",
              "5     0.119539\n",
              "6     0.468347\n",
              "7     1.224893\n",
              "8     1.491506\n",
              "9     0.582213\n",
              "10    0.709968\n",
              "11    0.769853\n",
              "12    1.172084\n",
              "13    0.878512\n",
              "14    2.172394\n",
              "Name: Case_Fatality_Ratio, dtype: float64"
            ]
          },
          "execution_count": 16,
          "metadata": {},
          "output_type": "execute_result"
        }
      ],
      "source": [
        "# Create Outcomes Dataset\n",
        "y = dataframe[\"Case_Fatality_Ratio\"]\n",
        "\n",
        "# Preview the data\n",
        "y.head(15)"
      ]
    },
    {
      "cell_type": "markdown",
      "metadata": {
        "id": "Mb09NGwPiMkt"
      },
      "source": [
        "#### Create Training & Testing Splits"
      ]
    },
    {
      "cell_type": "code",
      "execution_count": 17,
      "metadata": {
        "id": "5fv4iIKIaOTL"
      },
      "outputs": [],
      "source": [
        "# Split Data into Training & Testing (Default: 75%/25% Split)\n",
        "X_train, X_test, y_train, y_test = train_test_split(X, y, random_state=615, train_size=None)\n",
        "\n",
        "# | Change the split % by editting the \"train_size parameter to your training split percentage\" |\n",
        "      # Example: train_size = 0.80 results in an 80%/20% split"
      ]
    },
    {
      "cell_type": "code",
      "execution_count": 18,
      "metadata": {
        "id": "Ufw80XLMio3J"
      },
      "outputs": [
        {
          "name": "stdout",
          "output_type": "stream",
          "text": [
            "(98, 24)\n",
            "(33, 24)\n",
            "(98,)\n",
            "(33,)\n"
          ]
        }
      ],
      "source": [
        "# Preview the shapes of the Split Datasets\n",
        "print(X_train.shape)\n",
        "print(X_test.shape)\n",
        "print(y_train.shape)\n",
        "print(y_test.shape)"
      ]
    },
    {
      "cell_type": "markdown",
      "metadata": {
        "id": "eVDrBgP9jzxd"
      },
      "source": [
        "#### Standardizing/Scaling the Data"
      ]
    },
    {
      "cell_type": "code",
      "execution_count": 19,
      "metadata": {
        "id": "zo9piI1vj54G"
      },
      "outputs": [],
      "source": [
        "# Instantiate the Scaler\n",
        "scaler = StandardScaler()"
      ]
    },
    {
      "cell_type": "code",
      "execution_count": 20,
      "metadata": {
        "id": "DE3tWGt4j-Xf"
      },
      "outputs": [],
      "source": [
        "# Fit/Train Scaler to the Training Data\n",
        "X_scaler = scaler.fit(X_train)"
      ]
    },
    {
      "cell_type": "code",
      "execution_count": 21,
      "metadata": {
        "id": "J3Kt5FE_WYKD"
      },
      "outputs": [],
      "source": [
        "# Scale / Transform the X data\n",
        "X_train_scaled = X_scaler.transform(X_train)\n",
        "X_test_scaled = X_scaler.transform(X_test)"
      ]
    },
    {
      "cell_type": "markdown",
      "metadata": {
        "id": "6k1fNJ1dy-4P"
      },
      "source": [
        "## Apply the Model"
      ]
    },
    {
      "cell_type": "markdown",
      "metadata": {
        "id": "-0_KVTcClao8"
      },
      "source": [
        "#### Instantiate, Fit, & Evaluate the Model"
      ]
    },
    {
      "cell_type": "code",
      "execution_count": 22,
      "metadata": {
        "id": "ns71bmTvmSyQ"
      },
      "outputs": [],
      "source": [
        "# Instantiate the Model\n",
        "lr_model = LinearRegression()"
      ]
    },
    {
      "cell_type": "code",
      "execution_count": 23,
      "metadata": {
        "id": "Ra6SG3t_mhZz"
      },
      "outputs": [
        {
          "data": {
            "text/plain": [
              "LinearRegression()"
            ]
          },
          "execution_count": 23,
          "metadata": {},
          "output_type": "execute_result"
        }
      ],
      "source": [
        "# Fit the Model to the Training Data\n",
        "lr_model.fit(X_train_scaled,y_train)"
      ]
    },
    {
      "cell_type": "code",
      "execution_count": 24,
      "metadata": {
        "id": "lh-IucbAmadi"
      },
      "outputs": [
        {
          "name": "stdout",
          "output_type": "stream",
          "text": [
            "[-2.50969361e+07 -2.87601850e+06 -5.81947702e+05 -2.11123181e+07\n",
            " -9.84318904e+06 -3.23000616e+08 -6.12147301e+07 -1.50673233e+07\n",
            " -3.58119929e+08 -1.62708122e+08 -5.02886137e+08 -4.57007628e+06\n",
            " -3.54984206e+06 -9.87573902e+06 -1.22402782e+07 -5.42076839e+07\n",
            " -3.34585145e+07  1.94251792e+04  2.86486840e+06 -2.48720511e+07\n",
            " -8.42063325e+06  2.04896976e+06 -1.95758474e+07 -5.26315473e+05\n",
            " -3.10856196e+06 -6.83070743e+07 -6.30763017e+09 -2.82029318e+05\n",
            " -2.25778561e+08 -1.27603034e+07 -3.85567431e+07 -6.50872758e+08\n",
            " -1.97470589e+07]\n"
          ]
        }
      ],
      "source": [
        "# Create predictions with the model using X_test Data.\n",
        "y_pred = lr_model.predict(X_test)\n",
        "\n",
        "# View the Data\n",
        "print(y_pred)"
      ]
    },
    {
      "cell_type": "markdown",
      "metadata": {
        "id": "3NNMAECTsEVS"
      },
      "source": [
        "#### Evaluate the Model"
      ]
    },
    {
      "cell_type": "code",
      "execution_count": 25,
      "metadata": {
        "id": "W555vhaFsGu8"
      },
      "outputs": [],
      "source": [
        "# Import the Evaluation Metrics & Dependencies\n",
        "import matplotlib.pyplot as plt"
      ]
    },
    {
      "cell_type": "markdown",
      "metadata": {
        "id": "baaLM3znwfwO"
      },
      "source": [
        "##### Display Evaluation"
      ]
    },
    {
      "cell_type": "code",
      "execution_count": 26,
      "metadata": {},
      "outputs": [
        {
          "name": "stdout",
          "output_type": "stream",
          "text": [
            "model score on training data: -4.5900851322513e+16\n",
            "model score on testing data: -8.421157289508215e+17\n"
          ]
        }
      ],
      "source": [
        "# Use R2 Score to determine the model's validity during training and testing\n",
        "print(f'model score on training data: {lr_model.score(X_train, y_train)}')\n",
        "print(f'model score on testing data: {lr_model.score(X_test, y_test)}')"
      ]
    },
    {
      "cell_type": "code",
      "execution_count": 27,
      "metadata": {},
      "outputs": [
        {
          "name": "stdout",
          "output_type": "stream",
          "text": [
            "R2 Score: -2.5073323432876864e+17\n"
          ]
        }
      ],
      "source": [
        "# Use R2 Score to determine the model's validity\n",
        "score = lr_model.score(X, y)\n",
        "print(f\"R2 Score: {score}\")"
      ]
    },
    {
      "cell_type": "code",
      "execution_count": 28,
      "metadata": {
        "id": "WSPrseepwcMm"
      },
      "outputs": [
        {
          "data": {
            "image/png": "[encoded data removed]",
            "text/plain": [
              "<Figure size 432x288 with 1 Axes>"
            ]
          },
          "metadata": {
            "needs_background": "light"
          },
          "output_type": "display_data"
        }
      ],
      "source": [
        "# Plot the results.\n",
        "# Plot Residuals\n",
        "plt.scatter(y_pred, y_pred - y_test)\n",
        "plt.hlines(y=0, xmin=y_pred.min(), xmax=y_pred.max())\n",
        "plt.show()\n"
      ]
    },
    {
      "cell_type": "markdown",
      "metadata": {},
      "source": [
        "## Determining Findings"
      ]
    },
    {
      "cell_type": "code",
      "execution_count": 29,
      "metadata": {},
      "outputs": [
        {
          "name": "stdout",
          "output_type": "stream",
          "text": [
            "[-4.50663336e+06 -1.68544451e+07  1.10925645e+07 -1.58798517e+08\n",
            " -2.61150047e+06 -1.05713768e+08 -3.34585145e+07 -2.20580941e+07\n",
            " -3.58119929e+08 -5.81947702e+05 -1.83402568e+07 -4.80949768e+07\n",
            " -6.19582077e+05 -7.02098048e+05 -6.31800014e+08 -7.04931544e+06\n",
            " -1.06728645e+06 -6.83070743e+07  7.72627291e+05 -1.45555573e+08\n",
            " -1.04054941e+08 -6.30763017e+09 -9.34489744e+07 -1.77706415e+07\n",
            " -8.77687379e+06 -3.34121423e+06 -3.20322741e+07 -2.50969361e+07\n",
            " -9.89290999e+04 -1.93820217e+07 -5.42076839e+07 -5.43868341e+07\n",
            " -1.75133229e+07 -3.75220184e+06  5.90942821e+05 -2.15839279e+06\n",
            " -2.11123181e+07 -2.72513655e+08 -6.07745471e+05 -3.85376484e+06\n",
            " -3.45031967e+08  8.00926099e+06 -3.85567431e+07 -1.70890946e+07\n",
            "  7.49241536e+05 -7.97706858e+05 -2.06880286e+07 -2.96195922e+07\n",
            " -1.42179638e+06 -2.26741513e+09 -4.80974258e+08 -2.25778561e+08\n",
            " -8.42063325e+06 -2.01981312e+07 -2.18092517e+07 -2.41591554e+08\n",
            " -1.53144546e+06 -5.02886137e+08 -1.51419945e+07 -4.18229846e+07\n",
            " -2.84076991e+06 -9.71029519e+04 -1.36761758e+07 -3.54984206e+06\n",
            " -9.84318904e+06 -4.57007628e+06 -7.63956840e+06  1.15390796e+06\n",
            " -7.53625051e+06 -2.33977286e+06 -2.87601850e+06  2.04896976e+06\n",
            " -1.25244014e+08 -1.62020345e+06 -2.28520942e+06 -9.30615366e+05\n",
            " -5.01298482e+06 -3.23000616e+08 -9.87573902e+06 -7.12593521e+05\n",
            " -8.59415390e+07 -5.02385789e+07 -4.48986778e+07 -7.87350246e+05\n",
            " -6.12147301e+07 -6.32158743e+07 -1.97470589e+07  1.54237575e+07\n",
            " -3.10856196e+06 -1.95758474e+07 -1.08180304e+07 -2.47721774e+08\n",
            " -1.22402782e+07 -1.21682451e+07 -1.22082554e+08 -2.14649148e+08\n",
            " -9.58019025e+07 -3.81774957e+07 -2.48720511e+07 -3.12214259e+07\n",
            " -8.12579811e+04 -5.26315473e+05 -1.72242274e+05 -1.09016510e+08\n",
            " -1.12057410e+06 -1.05823462e+07  5.62132557e+05 -1.27603034e+07\n",
            " -5.12671201e+06  1.94251792e+04 -4.05581660e+07 -1.62708122e+08\n",
            " -5.53493800e+07  7.91891469e+06 -7.59968863e+05 -4.11156364e+07\n",
            " -2.76965279e+07 -2.16254077e+08 -1.49865177e+06 -1.64317767e+06\n",
            " -2.39377579e+06 -1.45775028e+07  8.95777682e+06 -4.89935276e+07\n",
            " -6.50872758e+08 -1.50673233e+07 -6.75137408e+07 -2.82029318e+05\n",
            " -9.89138642e+06  2.86486840e+06 -3.14554620e+06]\n"
          ]
        }
      ],
      "source": [
        "# Scale data for final findings processing\n",
        "X_scaler_2 = scaler.fit(X)\n",
        "\n",
        "# Scale X data\n",
        "X_scaled = X_scaler_2.transform(X)\n",
        "\n",
        "# Run model on all data to determine overall outcomes for all countries\n",
        "predictions = lr_model.predict(X)\n",
        "\n",
        "# Preview the data\n",
        "print(predictions)"
      ]
    },
    {
      "cell_type": "code",
      "execution_count": null,
      "metadata": {},
      "outputs": [],
      "source": []
    },
    {
      "cell_type": "code",
      "execution_count": 30,
      "metadata": {},
      "outputs": [],
      "source": [
        "# Add column to dataset\n",
        "dataframe['Predicted Correlations'] = predictions/100000"
      ]
    },
    {
      "cell_type": "code",
      "execution_count": 31,
      "metadata": {},
      "outputs": [],
      "source": [
        "# Import numpy\n",
        "import numpy as np\n",
        "\n",
        "# Create standardizing function\n",
        "def standardize(array):\n",
        "    array1 = []\n",
        "    for item in array:\n",
        "        x = item\n",
        "        output = ((x - 562.086598)/(2146.152805/np.sqrt(131)))\n",
        "        array1.append(output)\n",
        "    return array1\n",
        "\n",
        "# Update/Standardize the 'Predicted Correlations' data column\n",
        "dataframe['Predicted Correlations'] = standardize(dataframe['Predicted Correlations'])"
      ]
    },
    {
      "cell_type": "markdown",
      "metadata": {
        "id": "roNwO-APzGcZ"
      },
      "source": [
        "## Results & Takeaways"
      ]
    },
    {
      "cell_type": "markdown",
      "metadata": {
        "id": "FELQkd6X_T4w"
      },
      "source": [
        "#### Model Effectiveness & Feature Weights"
      ]
    },
    {
      "cell_type": "code",
      "execution_count": 32,
      "metadata": {},
      "outputs": [],
      "source": [
        "import statsmodels.api as sma\n",
        "import numpy as np"
      ]
    },
    {
      "cell_type": "code",
      "execution_count": 33,
      "metadata": {},
      "outputs": [
        {
          "name": "stdout",
          "output_type": "stream",
          "text": [
            "                             OLS Regression Results                            \n",
            "===============================================================================\n",
            "Dep. Variable:     Case_Fatality_Ratio   R-squared:                       0.297\n",
            "Model:                             OLS   Adj. R-squared:                  0.138\n",
            "Method:                  Least Squares   F-statistic:                     1.869\n",
            "Date:                 Mon, 23 May 2022   Prob (F-statistic):             0.0162\n",
            "Time:                         21:13:02   Log-Likelihood:                -186.44\n",
            "No. Observations:                  131   AIC:                             422.9\n",
            "Df Residuals:                      106   BIC:                             494.8\n",
            "Df Model:                           24                                         \n",
            "Covariance Type:             nonrobust                                         \n",
            "========================================================================================================\n",
            "                                           coef    std err          t      P>|t|      [0.025      0.975]\n",
            "--------------------------------------------------------------------------------------------------------\n",
            "const                                 -512.2343   1277.206     -0.401      0.689   -3044.420    2019.952\n",
            "TOTAL_VACCINATIONS                   -5.788e-08    3.9e-08     -1.485      0.140   -1.35e-07    1.94e-08\n",
            "PERSONS_VACCINATED_1PLUS_DOSE         5.731e-08    3.1e-08      1.851      0.067   -4.09e-09    1.19e-07\n",
            "TOTAL_VACCINATIONS_PER100               -0.0094      0.016     -0.593      0.555      -0.041       0.022\n",
            "PERSONS_VACCINATED_1PLUS_DOSE_PER100     0.0196      0.035      0.565      0.573      -0.049       0.089\n",
            "PERSONS_FULLY_VACCINATED              5.792e-08   7.56e-08      0.766      0.445    -9.2e-08    2.08e-07\n",
            "PERSONS_FULLY_VACCINATED_PER100         -0.0239      0.037     -0.640      0.524      -0.098       0.050\n",
            "NUMBER_VACCINES_TYPES_USED               0.0583      0.060      0.969      0.335      -0.061       0.178\n",
            "PERSONS_BOOSTER_ADD_DOSE              6.727e-08    3.9e-08      1.724      0.088   -1.01e-08    1.45e-07\n",
            "PERSONS_BOOSTER_ADD_DOSE_PER100          0.0205      0.020      1.011      0.314      -0.020       0.061\n",
            "Alcoholic Beverages                      0.0128      0.070      0.184      0.854      -0.125       0.151\n",
            "Animal Products                         10.4270     25.453      0.410      0.683     -40.036      60.890\n",
            "Cereals - Excluding Beer                 0.0665      0.033      2.030      0.045       0.002       0.131\n",
            "Eggs                                    -0.0278      0.619     -0.045      0.964      -1.254       1.199\n",
            "Fish, Seafood                           -0.2582      0.491     -0.525      0.600      -1.232       0.716\n",
            "Fruits - Excluding Wine                  0.0646      0.044      1.482      0.141      -0.022       0.151\n",
            "Meat                                    -0.2158      0.528     -0.408      0.684      -1.263       0.832\n",
            "Milk - Excluding Butter                 -0.1629      0.497     -0.328      0.744      -1.149       0.823\n",
            "Sugar & Sweeteners                       0.0585      0.080      0.729      0.467      -0.101       0.218\n",
            "Treenuts                                -1.4570      0.910     -1.601      0.112      -3.261       0.347\n",
            "Vegetable Oils                          -0.0273      0.275     -0.099      0.921      -0.573       0.518\n",
            "Vegetables                               0.0554      0.045      1.217      0.226      -0.035       0.146\n",
            "Vegetal Products                        10.2574     25.546      0.402      0.689     -40.390      60.905\n",
            "Obesity                                 -0.0006      0.017     -0.036      0.971      -0.035       0.033\n",
            "Undernourished                          -0.0037      0.016     -0.223      0.824      -0.036       0.029\n",
            "==============================================================================\n",
            "Omnibus:                       71.580   Durbin-Watson:                   1.693\n",
            "Prob(Omnibus):                  0.000   Jarque-Bera (JB):              304.271\n",
            "Skew:                           1.983   Prob(JB):                     8.48e-67\n",
            "Kurtosis:                       9.326   Cond. No.                     5.39e+12\n",
            "==============================================================================\n",
            "\n",
            "Notes:\n",
            "[1] Standard Errors assume that the covariance matrix of the errors is correctly specified.\n",
            "[2] The condition number is large, 5.39e+12. This might indicate that there are\n",
            "strong multicollinearity or other numerical problems.\n"
          ]
        },
        {
          "name": "stderr",
          "output_type": "stream",
          "text": [
            "/Users/sterlingmiller/opt/anaconda3/envs/mlenv/lib/python3.7/site-packages/statsmodels/tsa/tsatools.py:142: FutureWarning: In a future version of pandas all arguments of concat except for the argument 'objs' will be keyword-only\n",
            "  x = pd.concat(x[::order], 1)\n"
          ]
        }
      ],
      "source": [
        "X2 = sma.add_constant(X)\n",
        "\n",
        "est = sma.OLS(y,X2)\n",
        "est2 = est.fit()\n",
        "\n",
        "print(est2.summary())\n",
        "\n",
        "# NOTE: R-squared represents our accuracy through accountability for variance \n",
        "# while P>|t| values represent statistical significance of each input factor \n",
        "# toward the model."
      ]
    },
    {
      "cell_type": "markdown",
      "metadata": {},
      "source": [
        "#### Summary"
      ]
    },
    {
      "cell_type": "markdown",
      "metadata": {
        "id": "waC7oMu4_bY7"
      },
      "source": [
        "##### Our model uses linear regression and multiple features from covid records and global nutritional records to determine the correlated rpobability of fatalities due to COVID-19. Essentiall the model aims to predict how likely someone is to die from COVID-19 based on a variety of data from their country's recorded nutritional health records and COVID-19 medical record history.\n",
        "\n",
        "##### In our final findings our model has trained and tested itself, then run itself through accuracy and validity checks as well as feature weight tests before creating a final correlated regression statistic for liklihood of fatalities for each country. The cell after this one, exports the final data with the inclusion of the column \"Predicted Correlations\" which provides a metrics for how much the features utilized for the calculation affect COVID-19 fatality rate. This is the (Multi)linear regression used by the model.\n",
        "\n",
        "##### Our model produces an R^2 score of 0.603. This means that input features used within the model account for about %60 of the variance withing the model's results. This means that of all of the factors used to caluculate and predict Case_Fatality_Ratio, only 60% of the result can be explained by the factors used as inputs in the model. This can mean one of two things, either there are too many ineffective input factors being used int he model (to which we delete all factors who's significance levels are < .05) or there are input factors not accounted for in out data that contribute more prominantly to the resulting Case_Fatality_Ratio (to which we would need to find those factors and include them within our dataset).\n",
        "\n",
        "##### Our calculations of significance levels for each input factors indicate that very few factors have a significant affect on the resulting Case_Fatality_Ratio. In fact, the only input factors proven to be statistically significant to our model are \"Cases - cumulative total per 100000 population\", \"Deaths - cumulative total\", \"Deaths - cumulative total per 100000 population\", and \"PERSONS_BOOSTER_ADD_DOSE_PER100\". As such, running the model again with only those 4 columns may potentially result in significantly more accurate results being produced."
      ]
    },
    {
      "cell_type": "markdown",
      "metadata": {},
      "source": [
        "## Exports"
      ]
    },
    {
      "cell_type": "code",
      "execution_count": 34,
      "metadata": {},
      "outputs": [],
      "source": [
        "# Export Final Dataframe to CSV for Tranferability to stakeholders and non-coding partners\n",
        "dataframe.to_csv('final_covid_nutrition_fatality_calculations.csv', index=False)"
      ]
    }
  ],
  "metadata": {
    "colab": {
      "collapsed_sections": [],
      "name": "DBFP_Machine_Learning_Model_v0.2.ipynb",
      "provenance": []
    },
    "interpreter": {
      "hash": "5dcbbc4e758a8563a411e33997fa6453c969304658d2f289ec8bb04cba5dc17a"
    },
    "kernelspec": {
      "display_name": "Python 3.7.11 ('mlenv')",
      "language": "python",
      "name": "python3"
    },
    "language_info": {
      "codemirror_mode": {
        "name": "ipython",
        "version": 3
      },
      "file_extension": ".py",
      "mimetype": "text/x-python",
      "name": "python",
      "nbconvert_exporter": "python",
      "pygments_lexer": "ipython3",
      "version": "3.7.11"
    }
  },
  "nbformat": 4,
  "nbformat_minor": 0
}

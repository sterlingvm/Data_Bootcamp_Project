{
  "cells": [
    {
      "cell_type": "markdown",
      "metadata": {
        "id": "n0BawjXPWALv"
      },
      "source": [
        "# COVID-19 & Health Predictor \n",
        "\n",
        "#### - Data Bootcamp Final Project\n",
        "##### - Cordell, Gibbs, Miller, Ross"
      ]
    },
    {
      "cell_type": "code",
      "execution_count": null,
      "metadata": {
        "id": "Qaez9x3gVrkn"
      },
      "outputs": [],
      "source": []
    },
    {
      "cell_type": "markdown",
      "metadata": {
        "id": "13nJrKwfWdyc"
      },
      "source": [
        "# Purpose: \n",
        "### Analyze COVID-19 Positivity or Negativity Based on Correlation to Nutrition"
      ]
    },
    {
      "cell_type": "code",
      "execution_count": null,
      "metadata": {
        "id": "pbLtuBdSWctT"
      },
      "outputs": [],
      "source": []
    },
    {
      "cell_type": "markdown",
      "metadata": {
        "id": "fEaTRIaOW8s7"
      },
      "source": [
        "# Model: Linear Regression Model"
      ]
    },
    {
      "cell_type": "code",
      "execution_count": 1,
      "metadata": {
        "id": "v3RBpJM9WdDy"
      },
      "outputs": [],
      "source": [
        "from sklearn.linear_model import LinearRegression"
      ]
    },
    {
      "cell_type": "markdown",
      "metadata": {
        "id": "WctJgqOdXBQd"
      },
      "source": [
        "## Library & Dependency Installation"
      ]
    },
    {
      "cell_type": "code",
      "execution_count": 2,
      "metadata": {
        "id": "Z7EH209DXAFP"
      },
      "outputs": [],
      "source": [
        "# Scikit-Learn Libraries/Dependencies\n",
        "from sklearn.model_selection import train_test_split\n",
        "from sklearn.preprocessing import StandardScaler\n",
        "from sklearn.metrics import confusion_matrix, accuracy_score, classification_report"
      ]
    },
    {
      "cell_type": "code",
      "execution_count": 3,
      "metadata": {
        "id": "0En9AGs1XAfS"
      },
      "outputs": [],
      "source": [
        "# Data Frame & Data Manipulation Libraries/Dependencies\n",
        "import pandas as pd"
      ]
    },
    {
      "cell_type": "markdown",
      "metadata": {
        "id": "TNb_ymioYq8e"
      },
      "source": [
        "## Loading the Data"
      ]
    },
    {
      "cell_type": "markdown",
      "metadata": {
        "id": "B5MelqPsavcu"
      },
      "source": [
        "#### Physical Path Import"
      ]
    },
    {
      "cell_type": "code",
      "execution_count": 4,
      "metadata": {
        "id": "E1J3PcgpYqUq"
      },
      "outputs": [],
      "source": [
        "# Create File Path\n",
        "file_path = \"cleaned_covid_19_data.csv\"\n",
        "\n",
        "# Build the Dataframe\n",
        "dataframe = pd.read_csv(file_path)"
      ]
    },
    {
      "cell_type": "code",
      "execution_count": 5,
      "metadata": {
        "id": "Aim8nwEdYoFE"
      },
      "outputs": [
        {
          "data": {
            "text/html": [
              "<div>\n",
              "<style scoped>\n",
              "    .dataframe tbody tr th:only-of-type {\n",
              "        vertical-align: middle;\n",
              "    }\n",
              "\n",
              "    .dataframe tbody tr th {\n",
              "        vertical-align: top;\n",
              "    }\n",
              "\n",
              "    .dataframe thead th {\n",
              "        text-align: right;\n",
              "    }\n",
              "</style>\n",
              "<table border=\"1\" class=\"dataframe\">\n",
              "  <thead>\n",
              "    <tr style=\"text-align: right;\">\n",
              "      <th></th>\n",
              "      <th>Country</th>\n",
              "      <th>continent</th>\n",
              "      <th>date</th>\n",
              "      <th>total_cases</th>\n",
              "      <th>new_cases</th>\n",
              "      <th>total_deaths</th>\n",
              "      <th>new_deaths</th>\n",
              "      <th>total_tests</th>\n",
              "      <th>positive_rate</th>\n",
              "      <th>tests_per_case</th>\n",
              "      <th>...</th>\n",
              "      <th>total_boosters</th>\n",
              "      <th>population</th>\n",
              "      <th>population_density</th>\n",
              "      <th>median_age</th>\n",
              "      <th>aged_65_older</th>\n",
              "      <th>aged_70_older</th>\n",
              "      <th>gdp_per_capita</th>\n",
              "      <th>cardiovasc_death_rate</th>\n",
              "      <th>diabetes_prevalence</th>\n",
              "      <th>life_expectancy</th>\n",
              "    </tr>\n",
              "  </thead>\n",
              "  <tbody>\n",
              "    <tr>\n",
              "      <th>0</th>\n",
              "      <td>Afghanistan</td>\n",
              "      <td>Asia</td>\n",
              "      <td>2021-01-01</td>\n",
              "      <td>52513.0</td>\n",
              "      <td>183.0</td>\n",
              "      <td>2201.0</td>\n",
              "      <td>12.0</td>\n",
              "      <td>NaN</td>\n",
              "      <td>NaN</td>\n",
              "      <td>NaN</td>\n",
              "      <td>...</td>\n",
              "      <td>NaN</td>\n",
              "      <td>39835428</td>\n",
              "      <td>54.422</td>\n",
              "      <td>18.6</td>\n",
              "      <td>2.581</td>\n",
              "      <td>1.337</td>\n",
              "      <td>1803.987</td>\n",
              "      <td>597.029</td>\n",
              "      <td>9.59</td>\n",
              "      <td>64.83</td>\n",
              "    </tr>\n",
              "    <tr>\n",
              "      <th>1</th>\n",
              "      <td>Afghanistan</td>\n",
              "      <td>Asia</td>\n",
              "      <td>2021-01-02</td>\n",
              "      <td>52586.0</td>\n",
              "      <td>73.0</td>\n",
              "      <td>2211.0</td>\n",
              "      <td>10.0</td>\n",
              "      <td>NaN</td>\n",
              "      <td>NaN</td>\n",
              "      <td>NaN</td>\n",
              "      <td>...</td>\n",
              "      <td>NaN</td>\n",
              "      <td>39835428</td>\n",
              "      <td>54.422</td>\n",
              "      <td>18.6</td>\n",
              "      <td>2.581</td>\n",
              "      <td>1.337</td>\n",
              "      <td>1803.987</td>\n",
              "      <td>597.029</td>\n",
              "      <td>9.59</td>\n",
              "      <td>64.83</td>\n",
              "    </tr>\n",
              "    <tr>\n",
              "      <th>2</th>\n",
              "      <td>Afghanistan</td>\n",
              "      <td>Asia</td>\n",
              "      <td>2021-01-03</td>\n",
              "      <td>52709.0</td>\n",
              "      <td>123.0</td>\n",
              "      <td>2221.0</td>\n",
              "      <td>10.0</td>\n",
              "      <td>NaN</td>\n",
              "      <td>NaN</td>\n",
              "      <td>NaN</td>\n",
              "      <td>...</td>\n",
              "      <td>NaN</td>\n",
              "      <td>39835428</td>\n",
              "      <td>54.422</td>\n",
              "      <td>18.6</td>\n",
              "      <td>2.581</td>\n",
              "      <td>1.337</td>\n",
              "      <td>1803.987</td>\n",
              "      <td>597.029</td>\n",
              "      <td>9.59</td>\n",
              "      <td>64.83</td>\n",
              "    </tr>\n",
              "    <tr>\n",
              "      <th>3</th>\n",
              "      <td>Afghanistan</td>\n",
              "      <td>Asia</td>\n",
              "      <td>2021-01-04</td>\n",
              "      <td>52909.0</td>\n",
              "      <td>200.0</td>\n",
              "      <td>2230.0</td>\n",
              "      <td>9.0</td>\n",
              "      <td>NaN</td>\n",
              "      <td>NaN</td>\n",
              "      <td>NaN</td>\n",
              "      <td>...</td>\n",
              "      <td>NaN</td>\n",
              "      <td>39835428</td>\n",
              "      <td>54.422</td>\n",
              "      <td>18.6</td>\n",
              "      <td>2.581</td>\n",
              "      <td>1.337</td>\n",
              "      <td>1803.987</td>\n",
              "      <td>597.029</td>\n",
              "      <td>9.59</td>\n",
              "      <td>64.83</td>\n",
              "    </tr>\n",
              "    <tr>\n",
              "      <th>4</th>\n",
              "      <td>Afghanistan</td>\n",
              "      <td>Asia</td>\n",
              "      <td>2021-01-05</td>\n",
              "      <td>53011.0</td>\n",
              "      <td>102.0</td>\n",
              "      <td>2237.0</td>\n",
              "      <td>7.0</td>\n",
              "      <td>NaN</td>\n",
              "      <td>NaN</td>\n",
              "      <td>NaN</td>\n",
              "      <td>...</td>\n",
              "      <td>NaN</td>\n",
              "      <td>39835428</td>\n",
              "      <td>54.422</td>\n",
              "      <td>18.6</td>\n",
              "      <td>2.581</td>\n",
              "      <td>1.337</td>\n",
              "      <td>1803.987</td>\n",
              "      <td>597.029</td>\n",
              "      <td>9.59</td>\n",
              "      <td>64.83</td>\n",
              "    </tr>\n",
              "    <tr>\n",
              "      <th>5</th>\n",
              "      <td>Afghanistan</td>\n",
              "      <td>Asia</td>\n",
              "      <td>2021-01-06</td>\n",
              "      <td>53105.0</td>\n",
              "      <td>94.0</td>\n",
              "      <td>2244.0</td>\n",
              "      <td>7.0</td>\n",
              "      <td>NaN</td>\n",
              "      <td>NaN</td>\n",
              "      <td>NaN</td>\n",
              "      <td>...</td>\n",
              "      <td>NaN</td>\n",
              "      <td>39835428</td>\n",
              "      <td>54.422</td>\n",
              "      <td>18.6</td>\n",
              "      <td>2.581</td>\n",
              "      <td>1.337</td>\n",
              "      <td>1803.987</td>\n",
              "      <td>597.029</td>\n",
              "      <td>9.59</td>\n",
              "      <td>64.83</td>\n",
              "    </tr>\n",
              "    <tr>\n",
              "      <th>6</th>\n",
              "      <td>Afghanistan</td>\n",
              "      <td>Asia</td>\n",
              "      <td>2021-01-07</td>\n",
              "      <td>53207.0</td>\n",
              "      <td>102.0</td>\n",
              "      <td>2253.0</td>\n",
              "      <td>9.0</td>\n",
              "      <td>NaN</td>\n",
              "      <td>NaN</td>\n",
              "      <td>NaN</td>\n",
              "      <td>...</td>\n",
              "      <td>NaN</td>\n",
              "      <td>39835428</td>\n",
              "      <td>54.422</td>\n",
              "      <td>18.6</td>\n",
              "      <td>2.581</td>\n",
              "      <td>1.337</td>\n",
              "      <td>1803.987</td>\n",
              "      <td>597.029</td>\n",
              "      <td>9.59</td>\n",
              "      <td>64.83</td>\n",
              "    </tr>\n",
              "    <tr>\n",
              "      <th>7</th>\n",
              "      <td>Afghanistan</td>\n",
              "      <td>Asia</td>\n",
              "      <td>2021-01-08</td>\n",
              "      <td>53332.0</td>\n",
              "      <td>125.0</td>\n",
              "      <td>2257.0</td>\n",
              "      <td>4.0</td>\n",
              "      <td>NaN</td>\n",
              "      <td>NaN</td>\n",
              "      <td>NaN</td>\n",
              "      <td>...</td>\n",
              "      <td>NaN</td>\n",
              "      <td>39835428</td>\n",
              "      <td>54.422</td>\n",
              "      <td>18.6</td>\n",
              "      <td>2.581</td>\n",
              "      <td>1.337</td>\n",
              "      <td>1803.987</td>\n",
              "      <td>597.029</td>\n",
              "      <td>9.59</td>\n",
              "      <td>64.83</td>\n",
              "    </tr>\n",
              "    <tr>\n",
              "      <th>8</th>\n",
              "      <td>Afghanistan</td>\n",
              "      <td>Asia</td>\n",
              "      <td>2021-01-09</td>\n",
              "      <td>53400.0</td>\n",
              "      <td>68.0</td>\n",
              "      <td>2264.0</td>\n",
              "      <td>7.0</td>\n",
              "      <td>NaN</td>\n",
              "      <td>NaN</td>\n",
              "      <td>NaN</td>\n",
              "      <td>...</td>\n",
              "      <td>NaN</td>\n",
              "      <td>39835428</td>\n",
              "      <td>54.422</td>\n",
              "      <td>18.6</td>\n",
              "      <td>2.581</td>\n",
              "      <td>1.337</td>\n",
              "      <td>1803.987</td>\n",
              "      <td>597.029</td>\n",
              "      <td>9.59</td>\n",
              "      <td>64.83</td>\n",
              "    </tr>\n",
              "    <tr>\n",
              "      <th>9</th>\n",
              "      <td>Afghanistan</td>\n",
              "      <td>Asia</td>\n",
              "      <td>2021-01-10</td>\n",
              "      <td>53489.0</td>\n",
              "      <td>89.0</td>\n",
              "      <td>2277.0</td>\n",
              "      <td>13.0</td>\n",
              "      <td>NaN</td>\n",
              "      <td>NaN</td>\n",
              "      <td>NaN</td>\n",
              "      <td>...</td>\n",
              "      <td>NaN</td>\n",
              "      <td>39835428</td>\n",
              "      <td>54.422</td>\n",
              "      <td>18.6</td>\n",
              "      <td>2.581</td>\n",
              "      <td>1.337</td>\n",
              "      <td>1803.987</td>\n",
              "      <td>597.029</td>\n",
              "      <td>9.59</td>\n",
              "      <td>64.83</td>\n",
              "    </tr>\n",
              "    <tr>\n",
              "      <th>10</th>\n",
              "      <td>Afghanistan</td>\n",
              "      <td>Asia</td>\n",
              "      <td>2021-01-11</td>\n",
              "      <td>53538.0</td>\n",
              "      <td>49.0</td>\n",
              "      <td>2288.0</td>\n",
              "      <td>11.0</td>\n",
              "      <td>NaN</td>\n",
              "      <td>NaN</td>\n",
              "      <td>NaN</td>\n",
              "      <td>...</td>\n",
              "      <td>NaN</td>\n",
              "      <td>39835428</td>\n",
              "      <td>54.422</td>\n",
              "      <td>18.6</td>\n",
              "      <td>2.581</td>\n",
              "      <td>1.337</td>\n",
              "      <td>1803.987</td>\n",
              "      <td>597.029</td>\n",
              "      <td>9.59</td>\n",
              "      <td>64.83</td>\n",
              "    </tr>\n",
              "    <tr>\n",
              "      <th>11</th>\n",
              "      <td>Afghanistan</td>\n",
              "      <td>Asia</td>\n",
              "      <td>2021-01-12</td>\n",
              "      <td>53584.0</td>\n",
              "      <td>46.0</td>\n",
              "      <td>2301.0</td>\n",
              "      <td>13.0</td>\n",
              "      <td>NaN</td>\n",
              "      <td>NaN</td>\n",
              "      <td>NaN</td>\n",
              "      <td>...</td>\n",
              "      <td>NaN</td>\n",
              "      <td>39835428</td>\n",
              "      <td>54.422</td>\n",
              "      <td>18.6</td>\n",
              "      <td>2.581</td>\n",
              "      <td>1.337</td>\n",
              "      <td>1803.987</td>\n",
              "      <td>597.029</td>\n",
              "      <td>9.59</td>\n",
              "      <td>64.83</td>\n",
              "    </tr>\n",
              "    <tr>\n",
              "      <th>12</th>\n",
              "      <td>Afghanistan</td>\n",
              "      <td>Asia</td>\n",
              "      <td>2021-01-13</td>\n",
              "      <td>53690.0</td>\n",
              "      <td>106.0</td>\n",
              "      <td>2308.0</td>\n",
              "      <td>7.0</td>\n",
              "      <td>NaN</td>\n",
              "      <td>NaN</td>\n",
              "      <td>NaN</td>\n",
              "      <td>...</td>\n",
              "      <td>NaN</td>\n",
              "      <td>39835428</td>\n",
              "      <td>54.422</td>\n",
              "      <td>18.6</td>\n",
              "      <td>2.581</td>\n",
              "      <td>1.337</td>\n",
              "      <td>1803.987</td>\n",
              "      <td>597.029</td>\n",
              "      <td>9.59</td>\n",
              "      <td>64.83</td>\n",
              "    </tr>\n",
              "    <tr>\n",
              "      <th>13</th>\n",
              "      <td>Afghanistan</td>\n",
              "      <td>Asia</td>\n",
              "      <td>2021-01-14</td>\n",
              "      <td>53775.0</td>\n",
              "      <td>85.0</td>\n",
              "      <td>2314.0</td>\n",
              "      <td>6.0</td>\n",
              "      <td>NaN</td>\n",
              "      <td>NaN</td>\n",
              "      <td>NaN</td>\n",
              "      <td>...</td>\n",
              "      <td>NaN</td>\n",
              "      <td>39835428</td>\n",
              "      <td>54.422</td>\n",
              "      <td>18.6</td>\n",
              "      <td>2.581</td>\n",
              "      <td>1.337</td>\n",
              "      <td>1803.987</td>\n",
              "      <td>597.029</td>\n",
              "      <td>9.59</td>\n",
              "      <td>64.83</td>\n",
              "    </tr>\n",
              "    <tr>\n",
              "      <th>14</th>\n",
              "      <td>Afghanistan</td>\n",
              "      <td>Asia</td>\n",
              "      <td>2021-01-15</td>\n",
              "      <td>53831.0</td>\n",
              "      <td>56.0</td>\n",
              "      <td>2324.0</td>\n",
              "      <td>10.0</td>\n",
              "      <td>NaN</td>\n",
              "      <td>NaN</td>\n",
              "      <td>NaN</td>\n",
              "      <td>...</td>\n",
              "      <td>NaN</td>\n",
              "      <td>39835428</td>\n",
              "      <td>54.422</td>\n",
              "      <td>18.6</td>\n",
              "      <td>2.581</td>\n",
              "      <td>1.337</td>\n",
              "      <td>1803.987</td>\n",
              "      <td>597.029</td>\n",
              "      <td>9.59</td>\n",
              "      <td>64.83</td>\n",
              "    </tr>\n",
              "  </tbody>\n",
              "</table>\n",
              "<p>15 rows × 23 columns</p>\n",
              "</div>"
            ],
            "text/plain": [
              "        Country continent        date  total_cases  new_cases  total_deaths  \\\n",
              "0   Afghanistan      Asia  2021-01-01      52513.0      183.0        2201.0   \n",
              "1   Afghanistan      Asia  2021-01-02      52586.0       73.0        2211.0   \n",
              "2   Afghanistan      Asia  2021-01-03      52709.0      123.0        2221.0   \n",
              "3   Afghanistan      Asia  2021-01-04      52909.0      200.0        2230.0   \n",
              "4   Afghanistan      Asia  2021-01-05      53011.0      102.0        2237.0   \n",
              "5   Afghanistan      Asia  2021-01-06      53105.0       94.0        2244.0   \n",
              "6   Afghanistan      Asia  2021-01-07      53207.0      102.0        2253.0   \n",
              "7   Afghanistan      Asia  2021-01-08      53332.0      125.0        2257.0   \n",
              "8   Afghanistan      Asia  2021-01-09      53400.0       68.0        2264.0   \n",
              "9   Afghanistan      Asia  2021-01-10      53489.0       89.0        2277.0   \n",
              "10  Afghanistan      Asia  2021-01-11      53538.0       49.0        2288.0   \n",
              "11  Afghanistan      Asia  2021-01-12      53584.0       46.0        2301.0   \n",
              "12  Afghanistan      Asia  2021-01-13      53690.0      106.0        2308.0   \n",
              "13  Afghanistan      Asia  2021-01-14      53775.0       85.0        2314.0   \n",
              "14  Afghanistan      Asia  2021-01-15      53831.0       56.0        2324.0   \n",
              "\n",
              "    new_deaths  total_tests  positive_rate  tests_per_case  ...  \\\n",
              "0         12.0          NaN            NaN             NaN  ...   \n",
              "1         10.0          NaN            NaN             NaN  ...   \n",
              "2         10.0          NaN            NaN             NaN  ...   \n",
              "3          9.0          NaN            NaN             NaN  ...   \n",
              "4          7.0          NaN            NaN             NaN  ...   \n",
              "5          7.0          NaN            NaN             NaN  ...   \n",
              "6          9.0          NaN            NaN             NaN  ...   \n",
              "7          4.0          NaN            NaN             NaN  ...   \n",
              "8          7.0          NaN            NaN             NaN  ...   \n",
              "9         13.0          NaN            NaN             NaN  ...   \n",
              "10        11.0          NaN            NaN             NaN  ...   \n",
              "11        13.0          NaN            NaN             NaN  ...   \n",
              "12         7.0          NaN            NaN             NaN  ...   \n",
              "13         6.0          NaN            NaN             NaN  ...   \n",
              "14        10.0          NaN            NaN             NaN  ...   \n",
              "\n",
              "    total_boosters  population  population_density  median_age  aged_65_older  \\\n",
              "0              NaN    39835428              54.422        18.6          2.581   \n",
              "1              NaN    39835428              54.422        18.6          2.581   \n",
              "2              NaN    39835428              54.422        18.6          2.581   \n",
              "3              NaN    39835428              54.422        18.6          2.581   \n",
              "4              NaN    39835428              54.422        18.6          2.581   \n",
              "5              NaN    39835428              54.422        18.6          2.581   \n",
              "6              NaN    39835428              54.422        18.6          2.581   \n",
              "7              NaN    39835428              54.422        18.6          2.581   \n",
              "8              NaN    39835428              54.422        18.6          2.581   \n",
              "9              NaN    39835428              54.422        18.6          2.581   \n",
              "10             NaN    39835428              54.422        18.6          2.581   \n",
              "11             NaN    39835428              54.422        18.6          2.581   \n",
              "12             NaN    39835428              54.422        18.6          2.581   \n",
              "13             NaN    39835428              54.422        18.6          2.581   \n",
              "14             NaN    39835428              54.422        18.6          2.581   \n",
              "\n",
              "    aged_70_older  gdp_per_capita  cardiovasc_death_rate  diabetes_prevalence  \\\n",
              "0           1.337        1803.987                597.029                 9.59   \n",
              "1           1.337        1803.987                597.029                 9.59   \n",
              "2           1.337        1803.987                597.029                 9.59   \n",
              "3           1.337        1803.987                597.029                 9.59   \n",
              "4           1.337        1803.987                597.029                 9.59   \n",
              "5           1.337        1803.987                597.029                 9.59   \n",
              "6           1.337        1803.987                597.029                 9.59   \n",
              "7           1.337        1803.987                597.029                 9.59   \n",
              "8           1.337        1803.987                597.029                 9.59   \n",
              "9           1.337        1803.987                597.029                 9.59   \n",
              "10          1.337        1803.987                597.029                 9.59   \n",
              "11          1.337        1803.987                597.029                 9.59   \n",
              "12          1.337        1803.987                597.029                 9.59   \n",
              "13          1.337        1803.987                597.029                 9.59   \n",
              "14          1.337        1803.987                597.029                 9.59   \n",
              "\n",
              "    life_expectancy  \n",
              "0             64.83  \n",
              "1             64.83  \n",
              "2             64.83  \n",
              "3             64.83  \n",
              "4             64.83  \n",
              "5             64.83  \n",
              "6             64.83  \n",
              "7             64.83  \n",
              "8             64.83  \n",
              "9             64.83  \n",
              "10            64.83  \n",
              "11            64.83  \n",
              "12            64.83  \n",
              "13            64.83  \n",
              "14            64.83  \n",
              "\n",
              "[15 rows x 23 columns]"
            ]
          },
          "execution_count": 5,
          "metadata": {},
          "output_type": "execute_result"
        }
      ],
      "source": [
        "# Preview the Data\n",
        "dataframe.head(15)"
      ]
    },
    {
      "cell_type": "markdown",
      "metadata": {
        "id": "MMuAPwgua0Rh"
      },
      "source": [
        "## Connect to Database"
      ]
    },
    {
      "cell_type": "code",
      "execution_count": null,
      "metadata": {
        "id": "mUy2CUAmkhv-"
      },
      "outputs": [],
      "source": []
    },
    {
      "cell_type": "code",
      "execution_count": null,
      "metadata": {
        "id": "xpRKc-ADa4KY"
      },
      "outputs": [],
      "source": [
        "# # Install Postgres Driver\n",
        "# !wget https://jdbc.postgresql.org/download/postgresql-42.2.16.jar"
      ]
    },
    {
      "cell_type": "markdown",
      "metadata": {
        "id": "m0iR3nMLdi-J"
      },
      "source": [
        "##### Build Database Connection"
      ]
    },
    {
      "cell_type": "code",
      "execution_count": null,
      "metadata": {
        "id": "BFJwsLQDlnnx"
      },
      "outputs": [],
      "source": [
        "# # Import Module to Communicate with PostgreSQL\n",
        "# import psycopg2 as pg\n",
        "\n",
        "# # Import Password Protector\n",
        "# from getpass import getpass\n",
        "\n",
        "# # Build Engine for Connection\n",
        "# engine = pg.connect(\n",
        "#     \"\n",
        "#     dbname='my_db_name' \n",
        "#     user='pguser' \n",
        "#     host='127.0.0.1' \n",
        "#     port='15432' \n",
        "#     password=getpass('pgpassword')\n",
        "#     \"\n",
        "# )\n",
        "\n",
        "# dataframe = pd.read_sql('select * from Stat_Table', con=engine)"
      ]
    },
    {
      "cell_type": "code",
      "execution_count": null,
      "metadata": {
        "id": "4fy62w3ea4aA"
      },
      "outputs": [],
      "source": [
        "# # Import Module to Communicate with PostgreSQL\n",
        "# import psycopg2\n",
        "\n",
        "# # Connection parameters - yours will be different\n",
        "# param_dic = {\n",
        "#     \"host\"      : \"localhost\",\n",
        "#     \"database\"  : \"globaldata\",\n",
        "#     \"user\"      : \"myuser\",\n",
        "#     \"password\"  : \"Passw0rd\"\n",
        "# }\n",
        "\n",
        "# # Define the connection function\n",
        "# def connect(params_dic):\n",
        "#     \"\"\" Connect to the PostgreSQL database server \"\"\"\n",
        "#     conn = None\n",
        "#     try:\n",
        "#         # connect to the PostgreSQL server\n",
        "#         print('Connecting to the PostgreSQL database...')\n",
        "#         conn = psycopg2.connect(**params_dic)\n",
        "#     except (Exception, psycopg2.DatabaseError) as error:\n",
        "#         print(error)\n",
        "#         sys.exit(1) \n",
        "#     print(\"Connection successful\")\n",
        "#     return conn\n"
      ]
    },
    {
      "cell_type": "code",
      "execution_count": null,
      "metadata": {
        "id": "5SeMmlz1eqYU"
      },
      "outputs": [],
      "source": [
        "# # Connect to Database\n",
        "# connect(param_dic)"
      ]
    },
    {
      "cell_type": "markdown",
      "metadata": {
        "id": "h_u6scq8dlnx"
      },
      "source": [
        "##### Retrieve Table/DataFrame from Database"
      ]
    },
    {
      "cell_type": "code",
      "execution_count": null,
      "metadata": {
        "id": "WkPK6X6Jda4v"
      },
      "outputs": [],
      "source": [
        "# # Define our Data Table Retreival Function\n",
        "# def postgresql_to_dataframe(conn, select_query, column_names):\n",
        "#     \"\"\"\n",
        "#     Tranform a SELECT query into a pandas dataframe\n",
        "#     \"\"\"\n",
        "#     cursor = conn.cursor()\n",
        "#     try:\n",
        "#         cursor.execute(select_query)\n",
        "#     except (Exception, psycopg2.DatabaseError) as error:\n",
        "#         print(\"Error: %s\" % error)\n",
        "#         cursor.close()\n",
        "#         return 1\n",
        "    \n",
        "#     # Naturally we get a list of tupples\n",
        "#     tupples = cursor.fetchall()\n",
        "#     cursor.close()\n",
        "    \n",
        "#     # We just need to turn it into a pandas dataframe\n",
        "#     df = pd.DataFrame(tupples, columns=column_names)\n",
        "#               # *** Potentially change this ^ so that we don't have to input column names by hand ***\n",
        "#     return df"
      ]
    },
    {
      "cell_type": "code",
      "execution_count": null,
      "metadata": {
        "id": "2TGt-FvIe63s"
      },
      "outputs": [],
      "source": [
        "# # Retreive Data\n",
        "# postgresql_to_dataframe(conn, select_query, column_names)\n",
        "\n",
        "# # Rename DataFrame Variable\n",
        "# dataframe = df"
      ]
    },
    {
      "cell_type": "markdown",
      "metadata": {
        "id": "aWQrK58vaEfy"
      },
      "source": [
        "## Process & Preprocess the Data"
      ]
    },
    {
      "cell_type": "markdown",
      "metadata": {
        "id": "r22ScicytP3H"
      },
      "source": [
        "### Clean the Data"
      ]
    },
    {
      "cell_type": "markdown",
      "metadata": {
        "id": "3Zfg6vM83f1e"
      },
      "source": [
        "##### Identify Categorical Variables/Columns"
      ]
    },
    {
      "cell_type": "code",
      "execution_count": 9,
      "metadata": {
        "id": "LEa0UEd93SpC"
      },
      "outputs": [
        {
          "data": {
            "text/plain": [
              "Country      127\n",
              "continent      6\n",
              "date         365\n",
              "dtype: int64"
            ]
          },
          "execution_count": 9,
          "metadata": {},
          "output_type": "execute_result"
        }
      ],
      "source": [
        "# Generate our categorical variable list\n",
        "categorical_columns = dataframe.dtypes[dataframe.dtypes == \"object\"].index.tolist()\n",
        "\n",
        "# Check the number of unique values in each column\n",
        "dataframe[categorical_columns].nunique()"
      ]
    },
    {
      "cell_type": "markdown",
      "metadata": {
        "id": "seoCFUDA9AY3"
      },
      "source": [
        "##### Determing Bucketing - if categorical column has more than 10 unique values, consider binning!\n"
      ]
    },
    {
      "cell_type": "code",
      "execution_count": 1,
      "metadata": {
        "id": "IeA0LvGE9Ld5"
      },
      "outputs": [],
      "source": [
        "## OPTIONAL ##\n",
        "\n",
        "## Analyze frequencies of unique values in categorical column(s)\n",
        "# column1_counts = dataframe.insert_column_name_here.value_counts()\n",
        "\n",
        "## Plot the value counts - then determine the cut off(s) for binning\n",
        "# column1_counts.plot.density()"
      ]
    },
    {
      "cell_type": "code",
      "execution_count": 2,
      "metadata": {
        "id": "VF7Sh5-Z-KQl"
      },
      "outputs": [],
      "source": [
        "## OPTIONAL ##\n",
        "\n",
        "## Determine which values to replace\n",
        "# replace_column1 = list(column1_counts[column1_counts < cutoff_value].index)\n",
        "\n",
        "## Replace the column values you'd like to bucket together in the DataFrame\n",
        "# for value in replace_column1:\n",
        "  # dataframe.insert_column_name_here = dataframe.insert_column_name_here.replace(value,\"New_Bucketed_Value_Name-Ex:'Other'\")\n",
        "\n",
        "## Check to make sure the bucketing/binning was successful\n",
        "# dataframe.insert_column_name_here.value_counts()"
      ]
    },
    {
      "cell_type": "markdown",
      "metadata": {
        "id": "H5ALN5Nc4O6c"
      },
      "source": [
        "##### Encode the Categorical Values"
      ]
    },
    {
      "cell_type": "code",
      "execution_count": 6,
      "metadata": {
        "id": "5zbcZ41v4haH"
      },
      "outputs": [],
      "source": [
        "# Import the LabelEncoder\n",
        "from sklearn.preprocessing import LabelEncoder"
      ]
    },
    {
      "cell_type": "code",
      "execution_count": 11,
      "metadata": {
        "id": "JMC9wR5g6tGA"
      },
      "outputs": [],
      "source": [
        "# # Instantiate LabelEncoder\n",
        "# encoder = LabelEncoder()\n",
        "\n",
        "# # Create a copy of the dataframe and encode the data\n",
        "# dataframe_copy = dataframe.copy()\n",
        "\n",
        "# # Train the LabelEncoder, convert the text columns to string columns\n",
        "# for x in categorical_columns:\n",
        "#   dataframe_copy[f\"{x}\"] = encoder.fit_transform(dataframe_copy[f\"{x}\"])\n",
        "\n",
        "# # Preview the converted tables\n",
        "# dataframe_copy.head(15)"
      ]
    },
    {
      "cell_type": "markdown",
      "metadata": {
        "id": "3p13h1isguD2"
      },
      "source": [
        "### Dataset Training & Test Splitting"
      ]
    },
    {
      "cell_type": "markdown",
      "metadata": {
        "id": "0Tr21vybhAyP"
      },
      "source": [
        "##### Separate Features from Outcomes"
      ]
    },
    {
      "cell_type": "markdown",
      "metadata": {
        "id": "ladDlXmYhWIj"
      },
      "source": [
        "##### Features(X)"
      ]
    },
    {
      "cell_type": "code",
      "execution_count": 12,
      "metadata": {
        "id": "AX9e213SaOEF"
      },
      "outputs": [
        {
          "data": {
            "text/html": [
              "<div>\n",
              "<style scoped>\n",
              "    .dataframe tbody tr th:only-of-type {\n",
              "        vertical-align: middle;\n",
              "    }\n",
              "\n",
              "    .dataframe tbody tr th {\n",
              "        vertical-align: top;\n",
              "    }\n",
              "\n",
              "    .dataframe thead th {\n",
              "        text-align: right;\n",
              "    }\n",
              "</style>\n",
              "<table border=\"1\" class=\"dataframe\">\n",
              "  <thead>\n",
              "    <tr style=\"text-align: right;\">\n",
              "      <th></th>\n",
              "      <th>total_cases</th>\n",
              "      <th>new_cases</th>\n",
              "      <th>total_deaths</th>\n",
              "      <th>new_deaths</th>\n",
              "      <th>total_tests</th>\n",
              "      <th>tests_per_case</th>\n",
              "      <th>total_vaccinations</th>\n",
              "      <th>people_vaccinated</th>\n",
              "      <th>people_fully_vaccinated</th>\n",
              "      <th>total_boosters</th>\n",
              "      <th>population</th>\n",
              "      <th>population_density</th>\n",
              "      <th>median_age</th>\n",
              "      <th>aged_65_older</th>\n",
              "      <th>aged_70_older</th>\n",
              "      <th>gdp_per_capita</th>\n",
              "      <th>cardiovasc_death_rate</th>\n",
              "      <th>diabetes_prevalence</th>\n",
              "      <th>life_expectancy</th>\n",
              "    </tr>\n",
              "  </thead>\n",
              "  <tbody>\n",
              "    <tr>\n",
              "      <th>0</th>\n",
              "      <td>52513.0</td>\n",
              "      <td>183.0</td>\n",
              "      <td>2201.0</td>\n",
              "      <td>12.0</td>\n",
              "      <td>NaN</td>\n",
              "      <td>NaN</td>\n",
              "      <td>NaN</td>\n",
              "      <td>NaN</td>\n",
              "      <td>NaN</td>\n",
              "      <td>NaN</td>\n",
              "      <td>39835428</td>\n",
              "      <td>54.422</td>\n",
              "      <td>18.6</td>\n",
              "      <td>2.581</td>\n",
              "      <td>1.337</td>\n",
              "      <td>1803.987</td>\n",
              "      <td>597.029</td>\n",
              "      <td>9.59</td>\n",
              "      <td>64.83</td>\n",
              "    </tr>\n",
              "    <tr>\n",
              "      <th>1</th>\n",
              "      <td>52586.0</td>\n",
              "      <td>73.0</td>\n",
              "      <td>2211.0</td>\n",
              "      <td>10.0</td>\n",
              "      <td>NaN</td>\n",
              "      <td>NaN</td>\n",
              "      <td>NaN</td>\n",
              "      <td>NaN</td>\n",
              "      <td>NaN</td>\n",
              "      <td>NaN</td>\n",
              "      <td>39835428</td>\n",
              "      <td>54.422</td>\n",
              "      <td>18.6</td>\n",
              "      <td>2.581</td>\n",
              "      <td>1.337</td>\n",
              "      <td>1803.987</td>\n",
              "      <td>597.029</td>\n",
              "      <td>9.59</td>\n",
              "      <td>64.83</td>\n",
              "    </tr>\n",
              "    <tr>\n",
              "      <th>2</th>\n",
              "      <td>52709.0</td>\n",
              "      <td>123.0</td>\n",
              "      <td>2221.0</td>\n",
              "      <td>10.0</td>\n",
              "      <td>NaN</td>\n",
              "      <td>NaN</td>\n",
              "      <td>NaN</td>\n",
              "      <td>NaN</td>\n",
              "      <td>NaN</td>\n",
              "      <td>NaN</td>\n",
              "      <td>39835428</td>\n",
              "      <td>54.422</td>\n",
              "      <td>18.6</td>\n",
              "      <td>2.581</td>\n",
              "      <td>1.337</td>\n",
              "      <td>1803.987</td>\n",
              "      <td>597.029</td>\n",
              "      <td>9.59</td>\n",
              "      <td>64.83</td>\n",
              "    </tr>\n",
              "    <tr>\n",
              "      <th>3</th>\n",
              "      <td>52909.0</td>\n",
              "      <td>200.0</td>\n",
              "      <td>2230.0</td>\n",
              "      <td>9.0</td>\n",
              "      <td>NaN</td>\n",
              "      <td>NaN</td>\n",
              "      <td>NaN</td>\n",
              "      <td>NaN</td>\n",
              "      <td>NaN</td>\n",
              "      <td>NaN</td>\n",
              "      <td>39835428</td>\n",
              "      <td>54.422</td>\n",
              "      <td>18.6</td>\n",
              "      <td>2.581</td>\n",
              "      <td>1.337</td>\n",
              "      <td>1803.987</td>\n",
              "      <td>597.029</td>\n",
              "      <td>9.59</td>\n",
              "      <td>64.83</td>\n",
              "    </tr>\n",
              "    <tr>\n",
              "      <th>4</th>\n",
              "      <td>53011.0</td>\n",
              "      <td>102.0</td>\n",
              "      <td>2237.0</td>\n",
              "      <td>7.0</td>\n",
              "      <td>NaN</td>\n",
              "      <td>NaN</td>\n",
              "      <td>NaN</td>\n",
              "      <td>NaN</td>\n",
              "      <td>NaN</td>\n",
              "      <td>NaN</td>\n",
              "      <td>39835428</td>\n",
              "      <td>54.422</td>\n",
              "      <td>18.6</td>\n",
              "      <td>2.581</td>\n",
              "      <td>1.337</td>\n",
              "      <td>1803.987</td>\n",
              "      <td>597.029</td>\n",
              "      <td>9.59</td>\n",
              "      <td>64.83</td>\n",
              "    </tr>\n",
              "    <tr>\n",
              "      <th>5</th>\n",
              "      <td>53105.0</td>\n",
              "      <td>94.0</td>\n",
              "      <td>2244.0</td>\n",
              "      <td>7.0</td>\n",
              "      <td>NaN</td>\n",
              "      <td>NaN</td>\n",
              "      <td>NaN</td>\n",
              "      <td>NaN</td>\n",
              "      <td>NaN</td>\n",
              "      <td>NaN</td>\n",
              "      <td>39835428</td>\n",
              "      <td>54.422</td>\n",
              "      <td>18.6</td>\n",
              "      <td>2.581</td>\n",
              "      <td>1.337</td>\n",
              "      <td>1803.987</td>\n",
              "      <td>597.029</td>\n",
              "      <td>9.59</td>\n",
              "      <td>64.83</td>\n",
              "    </tr>\n",
              "    <tr>\n",
              "      <th>6</th>\n",
              "      <td>53207.0</td>\n",
              "      <td>102.0</td>\n",
              "      <td>2253.0</td>\n",
              "      <td>9.0</td>\n",
              "      <td>NaN</td>\n",
              "      <td>NaN</td>\n",
              "      <td>NaN</td>\n",
              "      <td>NaN</td>\n",
              "      <td>NaN</td>\n",
              "      <td>NaN</td>\n",
              "      <td>39835428</td>\n",
              "      <td>54.422</td>\n",
              "      <td>18.6</td>\n",
              "      <td>2.581</td>\n",
              "      <td>1.337</td>\n",
              "      <td>1803.987</td>\n",
              "      <td>597.029</td>\n",
              "      <td>9.59</td>\n",
              "      <td>64.83</td>\n",
              "    </tr>\n",
              "    <tr>\n",
              "      <th>7</th>\n",
              "      <td>53332.0</td>\n",
              "      <td>125.0</td>\n",
              "      <td>2257.0</td>\n",
              "      <td>4.0</td>\n",
              "      <td>NaN</td>\n",
              "      <td>NaN</td>\n",
              "      <td>NaN</td>\n",
              "      <td>NaN</td>\n",
              "      <td>NaN</td>\n",
              "      <td>NaN</td>\n",
              "      <td>39835428</td>\n",
              "      <td>54.422</td>\n",
              "      <td>18.6</td>\n",
              "      <td>2.581</td>\n",
              "      <td>1.337</td>\n",
              "      <td>1803.987</td>\n",
              "      <td>597.029</td>\n",
              "      <td>9.59</td>\n",
              "      <td>64.83</td>\n",
              "    </tr>\n",
              "    <tr>\n",
              "      <th>8</th>\n",
              "      <td>53400.0</td>\n",
              "      <td>68.0</td>\n",
              "      <td>2264.0</td>\n",
              "      <td>7.0</td>\n",
              "      <td>NaN</td>\n",
              "      <td>NaN</td>\n",
              "      <td>NaN</td>\n",
              "      <td>NaN</td>\n",
              "      <td>NaN</td>\n",
              "      <td>NaN</td>\n",
              "      <td>39835428</td>\n",
              "      <td>54.422</td>\n",
              "      <td>18.6</td>\n",
              "      <td>2.581</td>\n",
              "      <td>1.337</td>\n",
              "      <td>1803.987</td>\n",
              "      <td>597.029</td>\n",
              "      <td>9.59</td>\n",
              "      <td>64.83</td>\n",
              "    </tr>\n",
              "    <tr>\n",
              "      <th>9</th>\n",
              "      <td>53489.0</td>\n",
              "      <td>89.0</td>\n",
              "      <td>2277.0</td>\n",
              "      <td>13.0</td>\n",
              "      <td>NaN</td>\n",
              "      <td>NaN</td>\n",
              "      <td>NaN</td>\n",
              "      <td>NaN</td>\n",
              "      <td>NaN</td>\n",
              "      <td>NaN</td>\n",
              "      <td>39835428</td>\n",
              "      <td>54.422</td>\n",
              "      <td>18.6</td>\n",
              "      <td>2.581</td>\n",
              "      <td>1.337</td>\n",
              "      <td>1803.987</td>\n",
              "      <td>597.029</td>\n",
              "      <td>9.59</td>\n",
              "      <td>64.83</td>\n",
              "    </tr>\n",
              "    <tr>\n",
              "      <th>10</th>\n",
              "      <td>53538.0</td>\n",
              "      <td>49.0</td>\n",
              "      <td>2288.0</td>\n",
              "      <td>11.0</td>\n",
              "      <td>NaN</td>\n",
              "      <td>NaN</td>\n",
              "      <td>NaN</td>\n",
              "      <td>NaN</td>\n",
              "      <td>NaN</td>\n",
              "      <td>NaN</td>\n",
              "      <td>39835428</td>\n",
              "      <td>54.422</td>\n",
              "      <td>18.6</td>\n",
              "      <td>2.581</td>\n",
              "      <td>1.337</td>\n",
              "      <td>1803.987</td>\n",
              "      <td>597.029</td>\n",
              "      <td>9.59</td>\n",
              "      <td>64.83</td>\n",
              "    </tr>\n",
              "    <tr>\n",
              "      <th>11</th>\n",
              "      <td>53584.0</td>\n",
              "      <td>46.0</td>\n",
              "      <td>2301.0</td>\n",
              "      <td>13.0</td>\n",
              "      <td>NaN</td>\n",
              "      <td>NaN</td>\n",
              "      <td>NaN</td>\n",
              "      <td>NaN</td>\n",
              "      <td>NaN</td>\n",
              "      <td>NaN</td>\n",
              "      <td>39835428</td>\n",
              "      <td>54.422</td>\n",
              "      <td>18.6</td>\n",
              "      <td>2.581</td>\n",
              "      <td>1.337</td>\n",
              "      <td>1803.987</td>\n",
              "      <td>597.029</td>\n",
              "      <td>9.59</td>\n",
              "      <td>64.83</td>\n",
              "    </tr>\n",
              "    <tr>\n",
              "      <th>12</th>\n",
              "      <td>53690.0</td>\n",
              "      <td>106.0</td>\n",
              "      <td>2308.0</td>\n",
              "      <td>7.0</td>\n",
              "      <td>NaN</td>\n",
              "      <td>NaN</td>\n",
              "      <td>NaN</td>\n",
              "      <td>NaN</td>\n",
              "      <td>NaN</td>\n",
              "      <td>NaN</td>\n",
              "      <td>39835428</td>\n",
              "      <td>54.422</td>\n",
              "      <td>18.6</td>\n",
              "      <td>2.581</td>\n",
              "      <td>1.337</td>\n",
              "      <td>1803.987</td>\n",
              "      <td>597.029</td>\n",
              "      <td>9.59</td>\n",
              "      <td>64.83</td>\n",
              "    </tr>\n",
              "    <tr>\n",
              "      <th>13</th>\n",
              "      <td>53775.0</td>\n",
              "      <td>85.0</td>\n",
              "      <td>2314.0</td>\n",
              "      <td>6.0</td>\n",
              "      <td>NaN</td>\n",
              "      <td>NaN</td>\n",
              "      <td>NaN</td>\n",
              "      <td>NaN</td>\n",
              "      <td>NaN</td>\n",
              "      <td>NaN</td>\n",
              "      <td>39835428</td>\n",
              "      <td>54.422</td>\n",
              "      <td>18.6</td>\n",
              "      <td>2.581</td>\n",
              "      <td>1.337</td>\n",
              "      <td>1803.987</td>\n",
              "      <td>597.029</td>\n",
              "      <td>9.59</td>\n",
              "      <td>64.83</td>\n",
              "    </tr>\n",
              "    <tr>\n",
              "      <th>14</th>\n",
              "      <td>53831.0</td>\n",
              "      <td>56.0</td>\n",
              "      <td>2324.0</td>\n",
              "      <td>10.0</td>\n",
              "      <td>NaN</td>\n",
              "      <td>NaN</td>\n",
              "      <td>NaN</td>\n",
              "      <td>NaN</td>\n",
              "      <td>NaN</td>\n",
              "      <td>NaN</td>\n",
              "      <td>39835428</td>\n",
              "      <td>54.422</td>\n",
              "      <td>18.6</td>\n",
              "      <td>2.581</td>\n",
              "      <td>1.337</td>\n",
              "      <td>1803.987</td>\n",
              "      <td>597.029</td>\n",
              "      <td>9.59</td>\n",
              "      <td>64.83</td>\n",
              "    </tr>\n",
              "  </tbody>\n",
              "</table>\n",
              "</div>"
            ],
            "text/plain": [
              "    total_cases  new_cases  total_deaths  new_deaths  total_tests  \\\n",
              "0       52513.0      183.0        2201.0        12.0          NaN   \n",
              "1       52586.0       73.0        2211.0        10.0          NaN   \n",
              "2       52709.0      123.0        2221.0        10.0          NaN   \n",
              "3       52909.0      200.0        2230.0         9.0          NaN   \n",
              "4       53011.0      102.0        2237.0         7.0          NaN   \n",
              "5       53105.0       94.0        2244.0         7.0          NaN   \n",
              "6       53207.0      102.0        2253.0         9.0          NaN   \n",
              "7       53332.0      125.0        2257.0         4.0          NaN   \n",
              "8       53400.0       68.0        2264.0         7.0          NaN   \n",
              "9       53489.0       89.0        2277.0        13.0          NaN   \n",
              "10      53538.0       49.0        2288.0        11.0          NaN   \n",
              "11      53584.0       46.0        2301.0        13.0          NaN   \n",
              "12      53690.0      106.0        2308.0         7.0          NaN   \n",
              "13      53775.0       85.0        2314.0         6.0          NaN   \n",
              "14      53831.0       56.0        2324.0        10.0          NaN   \n",
              "\n",
              "    tests_per_case  total_vaccinations  people_vaccinated  \\\n",
              "0              NaN                 NaN                NaN   \n",
              "1              NaN                 NaN                NaN   \n",
              "2              NaN                 NaN                NaN   \n",
              "3              NaN                 NaN                NaN   \n",
              "4              NaN                 NaN                NaN   \n",
              "5              NaN                 NaN                NaN   \n",
              "6              NaN                 NaN                NaN   \n",
              "7              NaN                 NaN                NaN   \n",
              "8              NaN                 NaN                NaN   \n",
              "9              NaN                 NaN                NaN   \n",
              "10             NaN                 NaN                NaN   \n",
              "11             NaN                 NaN                NaN   \n",
              "12             NaN                 NaN                NaN   \n",
              "13             NaN                 NaN                NaN   \n",
              "14             NaN                 NaN                NaN   \n",
              "\n",
              "    people_fully_vaccinated  total_boosters  population  population_density  \\\n",
              "0                       NaN             NaN    39835428              54.422   \n",
              "1                       NaN             NaN    39835428              54.422   \n",
              "2                       NaN             NaN    39835428              54.422   \n",
              "3                       NaN             NaN    39835428              54.422   \n",
              "4                       NaN             NaN    39835428              54.422   \n",
              "5                       NaN             NaN    39835428              54.422   \n",
              "6                       NaN             NaN    39835428              54.422   \n",
              "7                       NaN             NaN    39835428              54.422   \n",
              "8                       NaN             NaN    39835428              54.422   \n",
              "9                       NaN             NaN    39835428              54.422   \n",
              "10                      NaN             NaN    39835428              54.422   \n",
              "11                      NaN             NaN    39835428              54.422   \n",
              "12                      NaN             NaN    39835428              54.422   \n",
              "13                      NaN             NaN    39835428              54.422   \n",
              "14                      NaN             NaN    39835428              54.422   \n",
              "\n",
              "    median_age  aged_65_older  aged_70_older  gdp_per_capita  \\\n",
              "0         18.6          2.581          1.337        1803.987   \n",
              "1         18.6          2.581          1.337        1803.987   \n",
              "2         18.6          2.581          1.337        1803.987   \n",
              "3         18.6          2.581          1.337        1803.987   \n",
              "4         18.6          2.581          1.337        1803.987   \n",
              "5         18.6          2.581          1.337        1803.987   \n",
              "6         18.6          2.581          1.337        1803.987   \n",
              "7         18.6          2.581          1.337        1803.987   \n",
              "8         18.6          2.581          1.337        1803.987   \n",
              "9         18.6          2.581          1.337        1803.987   \n",
              "10        18.6          2.581          1.337        1803.987   \n",
              "11        18.6          2.581          1.337        1803.987   \n",
              "12        18.6          2.581          1.337        1803.987   \n",
              "13        18.6          2.581          1.337        1803.987   \n",
              "14        18.6          2.581          1.337        1803.987   \n",
              "\n",
              "    cardiovasc_death_rate  diabetes_prevalence  life_expectancy  \n",
              "0                 597.029                 9.59            64.83  \n",
              "1                 597.029                 9.59            64.83  \n",
              "2                 597.029                 9.59            64.83  \n",
              "3                 597.029                 9.59            64.83  \n",
              "4                 597.029                 9.59            64.83  \n",
              "5                 597.029                 9.59            64.83  \n",
              "6                 597.029                 9.59            64.83  \n",
              "7                 597.029                 9.59            64.83  \n",
              "8                 597.029                 9.59            64.83  \n",
              "9                 597.029                 9.59            64.83  \n",
              "10                597.029                 9.59            64.83  \n",
              "11                597.029                 9.59            64.83  \n",
              "12                597.029                 9.59            64.83  \n",
              "13                597.029                 9.59            64.83  \n",
              "14                597.029                 9.59            64.83  "
            ]
          },
          "execution_count": 12,
          "metadata": {},
          "output_type": "execute_result"
        }
      ],
      "source": [
        "# Create Features Dataset\n",
        "# X = dataframe_copy.copy()\n",
        "\n",
        "X = dataframe.copy()\n",
        "X = X.drop([\"positive_rate\", \"Country\", \"continent\", \"date\"], axis=1)\n",
        "\n",
        "# Preview the Dataset\n",
        "X.head(15)"
      ]
    },
    {
      "cell_type": "markdown",
      "metadata": {
        "id": "a28At8K2haKK"
      },
      "source": [
        "##### Outcomes (y)"
      ]
    },
    {
      "cell_type": "code",
      "execution_count": 14,
      "metadata": {
        "id": "U7nHMbYfaOMs"
      },
      "outputs": [
        {
          "data": {
            "text/plain": [
              "0    NaN\n",
              "1    NaN\n",
              "2    NaN\n",
              "3    NaN\n",
              "4    NaN\n",
              "5    NaN\n",
              "6    NaN\n",
              "7    NaN\n",
              "8    NaN\n",
              "9    NaN\n",
              "10   NaN\n",
              "11   NaN\n",
              "12   NaN\n",
              "13   NaN\n",
              "14   NaN\n",
              "Name: positive_rate, dtype: float64"
            ]
          },
          "execution_count": 14,
          "metadata": {},
          "output_type": "execute_result"
        }
      ],
      "source": [
        "# Create Outcomes Dataset\n",
        "y = dataframe[\"positive_rate\"]\n",
        "\n",
        "# Preview the data\n",
        "y.head(15)"
      ]
    },
    {
      "cell_type": "markdown",
      "metadata": {
        "id": "Mb09NGwPiMkt"
      },
      "source": [
        "#### Create Training & Testing Splits"
      ]
    },
    {
      "cell_type": "code",
      "execution_count": 15,
      "metadata": {
        "id": "5fv4iIKIaOTL"
      },
      "outputs": [
        {
          "ename": "ValueError",
          "evalue": "Input contains NaN, infinity or a value too large for dtype('float64').",
          "output_type": "error",
          "traceback": [
            "\u001b[0;31m---------------------------------------------------------------------------\u001b[0m",
            "\u001b[0;31mValueError\u001b[0m                                Traceback (most recent call last)",
            "\u001b[0;32m/var/folders/5y/28cb_m5x0kd7j7csxm1bz_p40000gn/T/ipykernel_55598/2898930715.py\u001b[0m in \u001b[0;36m<module>\u001b[0;34m\u001b[0m\n\u001b[1;32m      1\u001b[0m \u001b[0;31m# Split Data into Training & Testing (Default: 75%/25% Split)\u001b[0m\u001b[0;34m\u001b[0m\u001b[0;34m\u001b[0m\u001b[0;34m\u001b[0m\u001b[0m\n\u001b[0;32m----> 2\u001b[0;31m \u001b[0mX_train\u001b[0m\u001b[0;34m,\u001b[0m \u001b[0mX_test\u001b[0m\u001b[0;34m,\u001b[0m \u001b[0my_train\u001b[0m\u001b[0;34m,\u001b[0m \u001b[0my_test\u001b[0m \u001b[0;34m=\u001b[0m \u001b[0mtrain_test_split\u001b[0m\u001b[0;34m(\u001b[0m\u001b[0mX\u001b[0m\u001b[0;34m,\u001b[0m \u001b[0my\u001b[0m\u001b[0;34m,\u001b[0m \u001b[0mrandom_state\u001b[0m\u001b[0;34m=\u001b[0m\u001b[0;36m615\u001b[0m\u001b[0;34m,\u001b[0m \u001b[0mstratify\u001b[0m\u001b[0;34m=\u001b[0m\u001b[0my\u001b[0m\u001b[0;34m,\u001b[0m \u001b[0mtrain_size\u001b[0m\u001b[0;34m=\u001b[0m\u001b[0;32mNone\u001b[0m\u001b[0;34m)\u001b[0m\u001b[0;34m\u001b[0m\u001b[0;34m\u001b[0m\u001b[0m\n\u001b[0m\u001b[1;32m      3\u001b[0m \u001b[0;34m\u001b[0m\u001b[0m\n\u001b[1;32m      4\u001b[0m \u001b[0;31m# | Change the split % by editting the \"train_size parameter to your training split percentage\" |\u001b[0m\u001b[0;34m\u001b[0m\u001b[0;34m\u001b[0m\u001b[0;34m\u001b[0m\u001b[0m\n\u001b[1;32m      5\u001b[0m       \u001b[0;31m# Example: train_size = 0.80 results in an 80%/20% split\u001b[0m\u001b[0;34m\u001b[0m\u001b[0;34m\u001b[0m\u001b[0;34m\u001b[0m\u001b[0m\n",
            "\u001b[0;32m~/opt/anaconda3/envs/mlenv/lib/python3.7/site-packages/sklearn/model_selection/_split.py\u001b[0m in \u001b[0;36mtrain_test_split\u001b[0;34m(test_size, train_size, random_state, shuffle, stratify, *arrays)\u001b[0m\n\u001b[1;32m   2195\u001b[0m                      random_state=random_state)\n\u001b[1;32m   2196\u001b[0m \u001b[0;34m\u001b[0m\u001b[0m\n\u001b[0;32m-> 2197\u001b[0;31m         \u001b[0mtrain\u001b[0m\u001b[0;34m,\u001b[0m \u001b[0mtest\u001b[0m \u001b[0;34m=\u001b[0m \u001b[0mnext\u001b[0m\u001b[0;34m(\u001b[0m\u001b[0mcv\u001b[0m\u001b[0;34m.\u001b[0m\u001b[0msplit\u001b[0m\u001b[0;34m(\u001b[0m\u001b[0mX\u001b[0m\u001b[0;34m=\u001b[0m\u001b[0marrays\u001b[0m\u001b[0;34m[\u001b[0m\u001b[0;36m0\u001b[0m\u001b[0;34m]\u001b[0m\u001b[0;34m,\u001b[0m \u001b[0my\u001b[0m\u001b[0;34m=\u001b[0m\u001b[0mstratify\u001b[0m\u001b[0;34m)\u001b[0m\u001b[0;34m)\u001b[0m\u001b[0;34m\u001b[0m\u001b[0;34m\u001b[0m\u001b[0m\n\u001b[0m\u001b[1;32m   2198\u001b[0m \u001b[0;34m\u001b[0m\u001b[0m\n\u001b[1;32m   2199\u001b[0m     return list(chain.from_iterable((_safe_indexing(a, train),\n",
            "\u001b[0;32m~/opt/anaconda3/envs/mlenv/lib/python3.7/site-packages/sklearn/model_selection/_split.py\u001b[0m in \u001b[0;36msplit\u001b[0;34m(self, X, y, groups)\u001b[0m\n\u001b[1;32m   1791\u001b[0m         \u001b[0mto\u001b[0m \u001b[0man\u001b[0m \u001b[0minteger\u001b[0m\u001b[0;34m.\u001b[0m\u001b[0;34m\u001b[0m\u001b[0;34m\u001b[0m\u001b[0m\n\u001b[1;32m   1792\u001b[0m         \"\"\"\n\u001b[0;32m-> 1793\u001b[0;31m         \u001b[0my\u001b[0m \u001b[0;34m=\u001b[0m \u001b[0mcheck_array\u001b[0m\u001b[0;34m(\u001b[0m\u001b[0my\u001b[0m\u001b[0;34m,\u001b[0m \u001b[0mensure_2d\u001b[0m\u001b[0;34m=\u001b[0m\u001b[0;32mFalse\u001b[0m\u001b[0;34m,\u001b[0m \u001b[0mdtype\u001b[0m\u001b[0;34m=\u001b[0m\u001b[0;32mNone\u001b[0m\u001b[0;34m)\u001b[0m\u001b[0;34m\u001b[0m\u001b[0;34m\u001b[0m\u001b[0m\n\u001b[0m\u001b[1;32m   1794\u001b[0m         \u001b[0;32mreturn\u001b[0m \u001b[0msuper\u001b[0m\u001b[0;34m(\u001b[0m\u001b[0;34m)\u001b[0m\u001b[0;34m.\u001b[0m\u001b[0msplit\u001b[0m\u001b[0;34m(\u001b[0m\u001b[0mX\u001b[0m\u001b[0;34m,\u001b[0m \u001b[0my\u001b[0m\u001b[0;34m,\u001b[0m \u001b[0mgroups\u001b[0m\u001b[0;34m)\u001b[0m\u001b[0;34m\u001b[0m\u001b[0;34m\u001b[0m\u001b[0m\n\u001b[1;32m   1795\u001b[0m \u001b[0;34m\u001b[0m\u001b[0m\n",
            "\u001b[0;32m~/opt/anaconda3/envs/mlenv/lib/python3.7/site-packages/sklearn/utils/validation.py\u001b[0m in \u001b[0;36minner_f\u001b[0;34m(*args, **kwargs)\u001b[0m\n\u001b[1;32m     61\u001b[0m             \u001b[0mextra_args\u001b[0m \u001b[0;34m=\u001b[0m \u001b[0mlen\u001b[0m\u001b[0;34m(\u001b[0m\u001b[0margs\u001b[0m\u001b[0;34m)\u001b[0m \u001b[0;34m-\u001b[0m \u001b[0mlen\u001b[0m\u001b[0;34m(\u001b[0m\u001b[0mall_args\u001b[0m\u001b[0;34m)\u001b[0m\u001b[0;34m\u001b[0m\u001b[0;34m\u001b[0m\u001b[0m\n\u001b[1;32m     62\u001b[0m             \u001b[0;32mif\u001b[0m \u001b[0mextra_args\u001b[0m \u001b[0;34m<=\u001b[0m \u001b[0;36m0\u001b[0m\u001b[0;34m:\u001b[0m\u001b[0;34m\u001b[0m\u001b[0;34m\u001b[0m\u001b[0m\n\u001b[0;32m---> 63\u001b[0;31m                 \u001b[0;32mreturn\u001b[0m \u001b[0mf\u001b[0m\u001b[0;34m(\u001b[0m\u001b[0;34m*\u001b[0m\u001b[0margs\u001b[0m\u001b[0;34m,\u001b[0m \u001b[0;34m**\u001b[0m\u001b[0mkwargs\u001b[0m\u001b[0;34m)\u001b[0m\u001b[0;34m\u001b[0m\u001b[0;34m\u001b[0m\u001b[0m\n\u001b[0m\u001b[1;32m     64\u001b[0m \u001b[0;34m\u001b[0m\u001b[0m\n\u001b[1;32m     65\u001b[0m             \u001b[0;31m# extra_args > 0\u001b[0m\u001b[0;34m\u001b[0m\u001b[0;34m\u001b[0m\u001b[0;34m\u001b[0m\u001b[0m\n",
            "\u001b[0;32m~/opt/anaconda3/envs/mlenv/lib/python3.7/site-packages/sklearn/utils/validation.py\u001b[0m in \u001b[0;36mcheck_array\u001b[0;34m(array, accept_sparse, accept_large_sparse, dtype, order, copy, force_all_finite, ensure_2d, allow_nd, ensure_min_samples, ensure_min_features, estimator)\u001b[0m\n\u001b[1;32m    719\u001b[0m         \u001b[0;32mif\u001b[0m \u001b[0mforce_all_finite\u001b[0m\u001b[0;34m:\u001b[0m\u001b[0;34m\u001b[0m\u001b[0;34m\u001b[0m\u001b[0m\n\u001b[1;32m    720\u001b[0m             _assert_all_finite(array,\n\u001b[0;32m--> 721\u001b[0;31m                                allow_nan=force_all_finite == 'allow-nan')\n\u001b[0m\u001b[1;32m    722\u001b[0m \u001b[0;34m\u001b[0m\u001b[0m\n\u001b[1;32m    723\u001b[0m     \u001b[0;32mif\u001b[0m \u001b[0mensure_min_samples\u001b[0m \u001b[0;34m>\u001b[0m \u001b[0;36m0\u001b[0m\u001b[0;34m:\u001b[0m\u001b[0;34m\u001b[0m\u001b[0;34m\u001b[0m\u001b[0m\n",
            "\u001b[0;32m~/opt/anaconda3/envs/mlenv/lib/python3.7/site-packages/sklearn/utils/validation.py\u001b[0m in \u001b[0;36m_assert_all_finite\u001b[0;34m(X, allow_nan, msg_dtype)\u001b[0m\n\u001b[1;32m    104\u001b[0m                     \u001b[0mmsg_err\u001b[0m\u001b[0;34m.\u001b[0m\u001b[0mformat\u001b[0m\u001b[0;34m\u001b[0m\u001b[0;34m\u001b[0m\u001b[0m\n\u001b[1;32m    105\u001b[0m                     (type_err,\n\u001b[0;32m--> 106\u001b[0;31m                      msg_dtype if msg_dtype is not None else X.dtype)\n\u001b[0m\u001b[1;32m    107\u001b[0m             )\n\u001b[1;32m    108\u001b[0m     \u001b[0;31m# for object dtype data, we only check for NaNs (GH-13254)\u001b[0m\u001b[0;34m\u001b[0m\u001b[0;34m\u001b[0m\u001b[0;34m\u001b[0m\u001b[0m\n",
            "\u001b[0;31mValueError\u001b[0m: Input contains NaN, infinity or a value too large for dtype('float64')."
          ]
        }
      ],
      "source": [
        "# Split Data into Training & Testing (Default: 75%/25% Split)\n",
        "X_train, X_test, y_train, y_test = train_test_split(X, y, random_state=615, stratify=y, train_size=None)\n",
        "\n",
        "# | Change the split % by editting the \"train_size parameter to your training split percentage\" |\n",
        "      # Example: train_size = 0.80 results in an 80%/20% split"
      ]
    },
    {
      "cell_type": "code",
      "execution_count": null,
      "metadata": {
        "id": "Ufw80XLMio3J"
      },
      "outputs": [],
      "source": [
        "# Preview the shapes of the Split Datasets\n",
        "print(X_train.shape)\n",
        "print(X_test.shape)\n",
        "print(y_train.shape)\n",
        "print(y_test.shape)"
      ]
    },
    {
      "cell_type": "markdown",
      "metadata": {
        "id": "eVDrBgP9jzxd"
      },
      "source": [
        "#### Standardizing/Scaling the Data"
      ]
    },
    {
      "cell_type": "code",
      "execution_count": null,
      "metadata": {
        "id": "zo9piI1vj54G"
      },
      "outputs": [],
      "source": [
        "# Instantiate the Scaler\n",
        "scaler = StandardScaler()"
      ]
    },
    {
      "cell_type": "code",
      "execution_count": null,
      "metadata": {
        "id": "DE3tWGt4j-Xf"
      },
      "outputs": [],
      "source": [
        "# Fit/Train Scaler to the Training Data\n",
        "X_scaler = scaler.fit(X_train)"
      ]
    },
    {
      "cell_type": "code",
      "execution_count": null,
      "metadata": {
        "id": "J3Kt5FE_WYKD"
      },
      "outputs": [],
      "source": [
        "# Scale / Transform the X data\n",
        "X_train_scaled = X_scaler.transform(X_train)\n",
        "X_test_scaled = X_scaler.transform(X_test)"
      ]
    },
    {
      "cell_type": "markdown",
      "metadata": {
        "id": "6k1fNJ1dy-4P"
      },
      "source": [
        "## Apply the Model"
      ]
    },
    {
      "cell_type": "markdown",
      "metadata": {
        "id": "-0_KVTcClao8"
      },
      "source": [
        "#### Instantiate, Fit, & Evaluate the Model"
      ]
    },
    {
      "cell_type": "code",
      "execution_count": null,
      "metadata": {
        "id": "ns71bmTvmSyQ"
      },
      "outputs": [],
      "source": [
        "# Instantiate the Model\n",
        "lr_model = LinearRegression()"
      ]
    },
    {
      "cell_type": "code",
      "execution_count": null,
      "metadata": {
        "id": "Ra6SG3t_mhZz"
      },
      "outputs": [],
      "source": [
        "# Fit the Model to the Training Data\n",
        "lr_model.fit(X_train_scaled,y_train)"
      ]
    },
    {
      "cell_type": "code",
      "execution_count": null,
      "metadata": {
        "id": "lh-IucbAmadi"
      },
      "outputs": [],
      "source": [
        "# Create predictions with the model using X_test Data.\n",
        "y_pred = lr_model.predict(X_test)\n",
        "\n",
        "# View the Data\n",
        "print(y_pred.shape)"
      ]
    },
    {
      "cell_type": "markdown",
      "metadata": {
        "id": "3NNMAECTsEVS"
      },
      "source": [
        "#### Evaluate the Model"
      ]
    },
    {
      "cell_type": "code",
      "execution_count": null,
      "metadata": {
        "id": "W555vhaFsGu8"
      },
      "outputs": [],
      "source": [
        "# Import the Evaluation Metrics & Dependencies\n",
        "from sklearn.metrics import accuracy_score\n",
        "from sklearn.metrics import confusion_matrix\n",
        "from sklearn.metrics import classification_report"
      ]
    },
    {
      "cell_type": "code",
      "execution_count": null,
      "metadata": {
        "id": "p5xaJiROsR5z"
      },
      "outputs": [],
      "source": [
        "# Evaluate the Model's Accuracy (Against y_test)\n",
        "model_accuracy = accuracy_score(y_test,y_pred)"
      ]
    },
    {
      "cell_type": "code",
      "execution_count": null,
      "metadata": {
        "id": "Su2zGY90tdil"
      },
      "outputs": [],
      "source": [
        "# Evaluate the Model's Precision & Sensitivity (Against y_test)\n",
        "matrix = confusion_matrix(y_test,y_pred)\n",
        "\n",
        "# Convert Confusion Matrix into a DataFrame\n",
        "matrix_df = pd.DataFrame(\n",
        "    matrix, index=[\"Actual Positive\", \"Actual Negative\"], columns=[\"Predicted Positive\", \"Predicted Negative\"]\n",
        ")"
      ]
    },
    {
      "cell_type": "code",
      "execution_count": null,
      "metadata": {
        "id": "kM6xEH6VuH6s"
      },
      "outputs": [],
      "source": [
        "# Evaluate the Model with Statistical Metrics (Against y_test)\n",
        "model_classification_report = classification_report(y_test, y_pred)"
      ]
    },
    {
      "cell_type": "markdown",
      "metadata": {
        "id": "baaLM3znwfwO"
      },
      "source": [
        "##### Display Evaluation"
      ]
    },
    {
      "cell_type": "code",
      "execution_count": null,
      "metadata": {
        "id": "WSPrseepwcMm"
      },
      "outputs": [],
      "source": [
        "# Display the results\n",
        "print(f\"This model's accuracy is {model_accuracy}/100.\")\n",
        "print(f\"Confusion Matrix displaying:   True Positive | False Negative \\n                    False Positive | True Negative\")\n",
        "display(matrix_df)\n",
        "print(f\"Statistical Metrics via Classification Report\")\n",
        "print(model_classification_report)\n"
      ]
    },
    {
      "cell_type": "markdown",
      "metadata": {
        "id": "roNwO-APzGcZ"
      },
      "source": [
        "## Results & Takeaways"
      ]
    },
    {
      "cell_type": "markdown",
      "metadata": {
        "id": "FELQkd6X_T4w"
      },
      "source": [
        "#### Model Effectiveness & Applications Summary"
      ]
    },
    {
      "cell_type": "markdown",
      "metadata": {
        "id": "waC7oMu4_bY7"
      },
      "source": [
        "*Insert Model Summary & Results Write-Up Here*"
      ]
    },
    {
      "cell_type": "markdown",
      "metadata": {
        "id": "odWd9rPPz5hg"
      },
      "source": [
        "#### Feature Importances & *Weights*"
      ]
    },
    {
      "cell_type": "code",
      "execution_count": null,
      "metadata": {
        "id": "q9ED9dGOzKTi"
      },
      "outputs": [],
      "source": [
        "# Create a sorted list of features from most important to overall outcome to least important!\n",
        "sorted(zip(lr_model.feature_importances_, X.columns), reverse=True)"
      ]
    },
    {
      "cell_type": "markdown",
      "metadata": {
        "id": "KMIiCo40_zkr"
      },
      "source": [
        "*Insert Feature Importances Summary & Results Write-Up Here*"
      ]
    }
  ],
  "metadata": {
    "colab": {
      "collapsed_sections": [],
      "name": "DBFP_Machine_Learning_Model_v0.2.ipynb",
      "provenance": []
    },
    "kernelspec": {
      "display_name": "Python 3",
      "name": "python3"
    },
    "language_info": {
      "codemirror_mode": {
        "name": "ipython",
        "version": 3
      },
      "file_extension": ".py",
      "mimetype": "text/x-python",
      "name": "python",
      "nbconvert_exporter": "python",
      "pygments_lexer": "ipython3",
      "version": "3.7.11"
    }
  },
  "nbformat": 4,
  "nbformat_minor": 0
}

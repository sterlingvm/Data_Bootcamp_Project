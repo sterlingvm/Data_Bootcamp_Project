{
  "cells": [
    {
      "cell_type": "markdown",
      "metadata": {
        "id": "n0BawjXPWALv"
      },
      "source": [
        "# COVID-19 & Health Predictor \n",
        "\n",
        "#### - Data Bootcamp Final Project\n",
        "##### - Cordell, Gibbs, Miller, Ross"
      ]
    },
    {
      "cell_type": "code",
      "execution_count": null,
      "metadata": {
        "id": "Qaez9x3gVrkn"
      },
      "outputs": [],
      "source": []
    },
    {
      "cell_type": "markdown",
      "metadata": {
        "id": "13nJrKwfWdyc"
      },
      "source": [
        "# Purpose: \n",
        "### Analyze COVID-19 Positivity or Negativity Based on Correlation to Nutrition"
      ]
    },
    {
      "cell_type": "code",
      "execution_count": null,
      "metadata": {
        "id": "pbLtuBdSWctT"
      },
      "outputs": [],
      "source": []
    },
    {
      "cell_type": "markdown",
      "metadata": {
        "id": "fEaTRIaOW8s7"
      },
      "source": [
        "# Model: Linear Regression Model"
      ]
    },
    {
      "cell_type": "code",
      "execution_count": 101,
      "metadata": {
        "id": "v3RBpJM9WdDy"
      },
      "outputs": [],
      "source": [
        "from sklearn.linear_model import LinearRegression"
      ]
    },
    {
      "cell_type": "markdown",
      "metadata": {
        "id": "WctJgqOdXBQd"
      },
      "source": [
        "## Library & Dependency Installation"
      ]
    },
    {
      "cell_type": "code",
      "execution_count": 102,
      "metadata": {
        "id": "Z7EH209DXAFP"
      },
      "outputs": [],
      "source": [
        "# Scikit-Learn Libraries/Dependencies\n",
        "from sklearn.model_selection import train_test_split\n",
        "from sklearn.preprocessing import StandardScaler\n",
        "from sklearn.metrics import confusion_matrix, accuracy_score, classification_report"
      ]
    },
    {
      "cell_type": "code",
      "execution_count": 103,
      "metadata": {
        "id": "0En9AGs1XAfS"
      },
      "outputs": [],
      "source": [
        "# Data Frame & Data Manipulation Libraries/Dependencies\n",
        "import pandas as pd"
      ]
    },
    {
      "cell_type": "markdown",
      "metadata": {
        "id": "TNb_ymioYq8e"
      },
      "source": [
        "## Loading the Data"
      ]
    },
    {
      "cell_type": "markdown",
      "metadata": {
        "id": "B5MelqPsavcu"
      },
      "source": [
        "#### Physical Path Import"
      ]
    },
    {
      "cell_type": "code",
      "execution_count": 104,
      "metadata": {
        "id": "E1J3PcgpYqUq"
      },
      "outputs": [],
      "source": [
        "# Create File Path\n",
        "file_path = \"https://raw.githubusercontent.com/sterlingvm/Data_Bootcamp_Project/projectrepo/final_joined_data.csv\"\n",
        "\n",
        "# Build the Dataframe\n",
        "dataframe = pd.read_csv(file_path)"
      ]
    },
    {
      "cell_type": "code",
      "execution_count": 105,
      "metadata": {
        "id": "Aim8nwEdYoFE"
      },
      "outputs": [
        {
          "data": {
            "text/html": [
              "<div>\n",
              "<style scoped>\n",
              "    .dataframe tbody tr th:only-of-type {\n",
              "        vertical-align: middle;\n",
              "    }\n",
              "\n",
              "    .dataframe tbody tr th {\n",
              "        vertical-align: top;\n",
              "    }\n",
              "\n",
              "    .dataframe thead th {\n",
              "        text-align: right;\n",
              "    }\n",
              "</style>\n",
              "<table border=\"1\" class=\"dataframe\">\n",
              "  <thead>\n",
              "    <tr style=\"text-align: right;\">\n",
              "      <th></th>\n",
              "      <th>COUNTRY</th>\n",
              "      <th>WHO Region</th>\n",
              "      <th>Cases - cumulative total</th>\n",
              "      <th>Cases - cumulative total per 100000 population</th>\n",
              "      <th>Cases - newly reported in last 7 days</th>\n",
              "      <th>Cases - newly reported in last 7 days per 100000 population</th>\n",
              "      <th>Cases - newly reported in last 24 hours</th>\n",
              "      <th>Deaths - cumulative total</th>\n",
              "      <th>Deaths - cumulative total per 100000 population</th>\n",
              "      <th>Deaths - newly reported in last 7 days</th>\n",
              "      <th>...</th>\n",
              "      <th>Fruits - Excluding Wine</th>\n",
              "      <th>Meat</th>\n",
              "      <th>Milk - Excluding Butter</th>\n",
              "      <th>Sugar &amp; Sweeteners</th>\n",
              "      <th>Treenuts</th>\n",
              "      <th>Vegetable Oils</th>\n",
              "      <th>Vegetables</th>\n",
              "      <th>Vegetal Products</th>\n",
              "      <th>Obesity</th>\n",
              "      <th>Undernourished</th>\n",
              "    </tr>\n",
              "  </thead>\n",
              "  <tbody>\n",
              "    <tr>\n",
              "      <th>0</th>\n",
              "      <td>Albania</td>\n",
              "      <td>Europe</td>\n",
              "      <td>275416</td>\n",
              "      <td>9570.366</td>\n",
              "      <td>225</td>\n",
              "      <td>7.818</td>\n",
              "      <td>44</td>\n",
              "      <td>3497</td>\n",
              "      <td>121.516</td>\n",
              "      <td>1</td>\n",
              "      <td>...</td>\n",
              "      <td>6.7861</td>\n",
              "      <td>1.8845</td>\n",
              "      <td>15.7213</td>\n",
              "      <td>1.5367</td>\n",
              "      <td>0.1515</td>\n",
              "      <td>0.3261</td>\n",
              "      <td>11.7753</td>\n",
              "      <td>31.2304</td>\n",
              "      <td>22.3</td>\n",
              "      <td>6.2</td>\n",
              "    </tr>\n",
              "    <tr>\n",
              "      <th>1</th>\n",
              "      <td>Algeria</td>\n",
              "      <td>Africa</td>\n",
              "      <td>265800</td>\n",
              "      <td>606.143</td>\n",
              "      <td>18</td>\n",
              "      <td>0.041</td>\n",
              "      <td>0</td>\n",
              "      <td>6875</td>\n",
              "      <td>15.678</td>\n",
              "      <td>0</td>\n",
              "      <td>...</td>\n",
              "      <td>6.3801</td>\n",
              "      <td>1.1305</td>\n",
              "      <td>7.6189</td>\n",
              "      <td>1.8342</td>\n",
              "      <td>0.1152</td>\n",
              "      <td>1.0310</td>\n",
              "      <td>11.6484</td>\n",
              "      <td>40.3651</td>\n",
              "      <td>26.6</td>\n",
              "      <td>3.9</td>\n",
              "    </tr>\n",
              "    <tr>\n",
              "      <th>2</th>\n",
              "      <td>Angola</td>\n",
              "      <td>Africa</td>\n",
              "      <td>99287</td>\n",
              "      <td>302.094</td>\n",
              "      <td>0</td>\n",
              "      <td>0.000</td>\n",
              "      <td>0</td>\n",
              "      <td>1900</td>\n",
              "      <td>5.781</td>\n",
              "      <td>0</td>\n",
              "      <td>...</td>\n",
              "      <td>6.0005</td>\n",
              "      <td>2.0571</td>\n",
              "      <td>0.8311</td>\n",
              "      <td>1.8495</td>\n",
              "      <td>0.0061</td>\n",
              "      <td>0.6463</td>\n",
              "      <td>2.3041</td>\n",
              "      <td>45.0722</td>\n",
              "      <td>6.8</td>\n",
              "      <td>25</td>\n",
              "    </tr>\n",
              "    <tr>\n",
              "      <th>3</th>\n",
              "      <td>Argentina</td>\n",
              "      <td>Americas</td>\n",
              "      <td>9101319</td>\n",
              "      <td>20137.544</td>\n",
              "      <td>17646</td>\n",
              "      <td>39.043</td>\n",
              "      <td>0</td>\n",
              "      <td>128729</td>\n",
              "      <td>284.825</td>\n",
              "      <td>76</td>\n",
              "      <td>...</td>\n",
              "      <td>6.0435</td>\n",
              "      <td>7.0421</td>\n",
              "      <td>10.2328</td>\n",
              "      <td>3.0536</td>\n",
              "      <td>0.0200</td>\n",
              "      <td>0.9541</td>\n",
              "      <td>4.3503</td>\n",
              "      <td>30.6559</td>\n",
              "      <td>28.5</td>\n",
              "      <td>4.6</td>\n",
              "    </tr>\n",
              "    <tr>\n",
              "      <th>4</th>\n",
              "      <td>Armenia</td>\n",
              "      <td>Europe</td>\n",
              "      <td>422900</td>\n",
              "      <td>14271.570</td>\n",
              "      <td>23</td>\n",
              "      <td>0.776</td>\n",
              "      <td>0</td>\n",
              "      <td>8623</td>\n",
              "      <td>291.000</td>\n",
              "      <td>1</td>\n",
              "      <td>...</td>\n",
              "      <td>6.0989</td>\n",
              "      <td>2.2675</td>\n",
              "      <td>9.9407</td>\n",
              "      <td>2.6579</td>\n",
              "      <td>0.1108</td>\n",
              "      <td>0.4705</td>\n",
              "      <td>16.7019</td>\n",
              "      <td>36.4358</td>\n",
              "      <td>20.9</td>\n",
              "      <td>4.3</td>\n",
              "    </tr>\n",
              "    <tr>\n",
              "      <th>5</th>\n",
              "      <td>Australia</td>\n",
              "      <td>Western Pacific</td>\n",
              "      <td>6328508</td>\n",
              "      <td>24817.791</td>\n",
              "      <td>305766</td>\n",
              "      <td>1199.088</td>\n",
              "      <td>48015</td>\n",
              "      <td>7565</td>\n",
              "      <td>29.667</td>\n",
              "      <td>254</td>\n",
              "      <td>...</td>\n",
              "      <td>4.1883</td>\n",
              "      <td>6.7049</td>\n",
              "      <td>12.1018</td>\n",
              "      <td>2.5364</td>\n",
              "      <td>0.3176</td>\n",
              "      <td>1.2798</td>\n",
              "      <td>5.1406</td>\n",
              "      <td>28.5806</td>\n",
              "      <td>30.4</td>\n",
              "      <td>&lt;2.5</td>\n",
              "    </tr>\n",
              "    <tr>\n",
              "      <th>6</th>\n",
              "      <td>Austria</td>\n",
              "      <td>Europe</td>\n",
              "      <td>4231050</td>\n",
              "      <td>47534.205</td>\n",
              "      <td>36813</td>\n",
              "      <td>413.580</td>\n",
              "      <td>4787</td>\n",
              "      <td>19816</td>\n",
              "      <td>222.625</td>\n",
              "      <td>51</td>\n",
              "      <td>...</td>\n",
              "      <td>4.6069</td>\n",
              "      <td>4.6810</td>\n",
              "      <td>12.3776</td>\n",
              "      <td>2.6094</td>\n",
              "      <td>0.2367</td>\n",
              "      <td>0.8109</td>\n",
              "      <td>5.1098</td>\n",
              "      <td>30.4338</td>\n",
              "      <td>21.9</td>\n",
              "      <td>&lt;2.5</td>\n",
              "    </tr>\n",
              "    <tr>\n",
              "      <th>7</th>\n",
              "      <td>Azerbaijan</td>\n",
              "      <td>Europe</td>\n",
              "      <td>792638</td>\n",
              "      <td>7817.579</td>\n",
              "      <td>53</td>\n",
              "      <td>0.523</td>\n",
              "      <td>6</td>\n",
              "      <td>9709</td>\n",
              "      <td>95.757</td>\n",
              "      <td>0</td>\n",
              "      <td>...</td>\n",
              "      <td>4.7988</td>\n",
              "      <td>2.1513</td>\n",
              "      <td>8.3212</td>\n",
              "      <td>1.5523</td>\n",
              "      <td>0.1906</td>\n",
              "      <td>0.2235</td>\n",
              "      <td>10.0755</td>\n",
              "      <td>38.3584</td>\n",
              "      <td>19.9</td>\n",
              "      <td>&lt;2.5</td>\n",
              "    </tr>\n",
              "    <tr>\n",
              "      <th>8</th>\n",
              "      <td>Bangladesh</td>\n",
              "      <td>South-East Asia</td>\n",
              "      <td>1952855</td>\n",
              "      <td>1185.781</td>\n",
              "      <td>112</td>\n",
              "      <td>0.068</td>\n",
              "      <td>0</td>\n",
              "      <td>29127</td>\n",
              "      <td>17.686</td>\n",
              "      <td>0</td>\n",
              "      <td>...</td>\n",
              "      <td>2.8655</td>\n",
              "      <td>0.4191</td>\n",
              "      <td>1.8778</td>\n",
              "      <td>0.9285</td>\n",
              "      <td>0.0934</td>\n",
              "      <td>0.7615</td>\n",
              "      <td>3.6405</td>\n",
              "      <td>44.8033</td>\n",
              "      <td>3.4</td>\n",
              "      <td>14.7</td>\n",
              "    </tr>\n",
              "    <tr>\n",
              "      <th>9</th>\n",
              "      <td>Barbados</td>\n",
              "      <td>Americas</td>\n",
              "      <td>73856</td>\n",
              "      <td>25700.217</td>\n",
              "      <td>3363</td>\n",
              "      <td>1170.248</td>\n",
              "      <td>264</td>\n",
              "      <td>430</td>\n",
              "      <td>149.630</td>\n",
              "      <td>32</td>\n",
              "      <td>...</td>\n",
              "      <td>5.8723</td>\n",
              "      <td>5.8477</td>\n",
              "      <td>2.2041</td>\n",
              "      <td>4.3344</td>\n",
              "      <td>0.0852</td>\n",
              "      <td>0.8677</td>\n",
              "      <td>5.4725</td>\n",
              "      <td>37.5167</td>\n",
              "      <td>24.8</td>\n",
              "      <td>3.9</td>\n",
              "    </tr>\n",
              "    <tr>\n",
              "      <th>10</th>\n",
              "      <td>Belarus</td>\n",
              "      <td>Europe</td>\n",
              "      <td>982867</td>\n",
              "      <td>10401.456</td>\n",
              "      <td>1999</td>\n",
              "      <td>21.155</td>\n",
              "      <td>58</td>\n",
              "      <td>6978</td>\n",
              "      <td>73.847</td>\n",
              "      <td>24</td>\n",
              "      <td>...</td>\n",
              "      <td>3.5665</td>\n",
              "      <td>4.1893</td>\n",
              "      <td>6.2104</td>\n",
              "      <td>4.0155</td>\n",
              "      <td>0.1399</td>\n",
              "      <td>0.8804</td>\n",
              "      <td>8.7859</td>\n",
              "      <td>37.2904</td>\n",
              "      <td>26.6</td>\n",
              "      <td>&lt;2.5</td>\n",
              "    </tr>\n",
              "    <tr>\n",
              "      <th>11</th>\n",
              "      <td>Belgium</td>\n",
              "      <td>Europe</td>\n",
              "      <td>4102082</td>\n",
              "      <td>35600.810</td>\n",
              "      <td>17516</td>\n",
              "      <td>152.016</td>\n",
              "      <td>0</td>\n",
              "      <td>31580</td>\n",
              "      <td>274.074</td>\n",
              "      <td>45</td>\n",
              "      <td>...</td>\n",
              "      <td>4.1623</td>\n",
              "      <td>3.2370</td>\n",
              "      <td>11.6344</td>\n",
              "      <td>3.6514</td>\n",
              "      <td>0.1309</td>\n",
              "      <td>0.5640</td>\n",
              "      <td>6.8161</td>\n",
              "      <td>32.2637</td>\n",
              "      <td>24.5</td>\n",
              "      <td>&lt;2.5</td>\n",
              "    </tr>\n",
              "    <tr>\n",
              "      <th>12</th>\n",
              "      <td>Belize</td>\n",
              "      <td>Americas</td>\n",
              "      <td>57675</td>\n",
              "      <td>14504.763</td>\n",
              "      <td>184</td>\n",
              "      <td>46.274</td>\n",
              "      <td>63</td>\n",
              "      <td>676</td>\n",
              "      <td>170.008</td>\n",
              "      <td>0</td>\n",
              "      <td>...</td>\n",
              "      <td>12.6094</td>\n",
              "      <td>3.4890</td>\n",
              "      <td>3.6317</td>\n",
              "      <td>3.9798</td>\n",
              "      <td>0.0340</td>\n",
              "      <td>1.0198</td>\n",
              "      <td>4.7721</td>\n",
              "      <td>41.3122</td>\n",
              "      <td>22.4</td>\n",
              "      <td>7.5</td>\n",
              "    </tr>\n",
              "    <tr>\n",
              "      <th>13</th>\n",
              "      <td>Botswana</td>\n",
              "      <td>Africa</td>\n",
              "      <td>306200</td>\n",
              "      <td>13020.772</td>\n",
              "      <td>0</td>\n",
              "      <td>0.000</td>\n",
              "      <td>0</td>\n",
              "      <td>2690</td>\n",
              "      <td>114.389</td>\n",
              "      <td>0</td>\n",
              "      <td>...</td>\n",
              "      <td>2.8465</td>\n",
              "      <td>2.2840</td>\n",
              "      <td>11.0217</td>\n",
              "      <td>4.7857</td>\n",
              "      <td>0.0150</td>\n",
              "      <td>1.0065</td>\n",
              "      <td>4.0558</td>\n",
              "      <td>35.5491</td>\n",
              "      <td>16.1</td>\n",
              "      <td>26.4</td>\n",
              "    </tr>\n",
              "    <tr>\n",
              "      <th>14</th>\n",
              "      <td>Brazil</td>\n",
              "      <td>Americas</td>\n",
              "      <td>30574245</td>\n",
              "      <td>14383.858</td>\n",
              "      <td>113248</td>\n",
              "      <td>53.278</td>\n",
              "      <td>9709</td>\n",
              "      <td>664192</td>\n",
              "      <td>312.474</td>\n",
              "      <td>590</td>\n",
              "      <td>...</td>\n",
              "      <td>6.0936</td>\n",
              "      <td>6.4784</td>\n",
              "      <td>9.3416</td>\n",
              "      <td>2.7755</td>\n",
              "      <td>0.0513</td>\n",
              "      <td>1.2823</td>\n",
              "      <td>3.3070</td>\n",
              "      <td>32.6537</td>\n",
              "      <td>22.3</td>\n",
              "      <td>&lt;2.5</td>\n",
              "    </tr>\n",
              "  </tbody>\n",
              "</table>\n",
              "<p>15 rows × 43 columns</p>\n",
              "</div>"
            ],
            "text/plain": [
              "       COUNTRY       WHO Region  Cases - cumulative total  \\\n",
              "0      Albania           Europe                    275416   \n",
              "1      Algeria           Africa                    265800   \n",
              "2       Angola           Africa                     99287   \n",
              "3    Argentina         Americas                   9101319   \n",
              "4      Armenia           Europe                    422900   \n",
              "5    Australia  Western Pacific                   6328508   \n",
              "6      Austria           Europe                   4231050   \n",
              "7   Azerbaijan           Europe                    792638   \n",
              "8   Bangladesh  South-East Asia                   1952855   \n",
              "9     Barbados         Americas                     73856   \n",
              "10     Belarus           Europe                    982867   \n",
              "11     Belgium           Europe                   4102082   \n",
              "12      Belize         Americas                     57675   \n",
              "13    Botswana           Africa                    306200   \n",
              "14      Brazil         Americas                  30574245   \n",
              "\n",
              "    Cases - cumulative total per 100000 population  \\\n",
              "0                                         9570.366   \n",
              "1                                          606.143   \n",
              "2                                          302.094   \n",
              "3                                        20137.544   \n",
              "4                                        14271.570   \n",
              "5                                        24817.791   \n",
              "6                                        47534.205   \n",
              "7                                         7817.579   \n",
              "8                                         1185.781   \n",
              "9                                        25700.217   \n",
              "10                                       10401.456   \n",
              "11                                       35600.810   \n",
              "12                                       14504.763   \n",
              "13                                       13020.772   \n",
              "14                                       14383.858   \n",
              "\n",
              "    Cases - newly reported in last 7 days  \\\n",
              "0                                     225   \n",
              "1                                      18   \n",
              "2                                       0   \n",
              "3                                   17646   \n",
              "4                                      23   \n",
              "5                                  305766   \n",
              "6                                   36813   \n",
              "7                                      53   \n",
              "8                                     112   \n",
              "9                                    3363   \n",
              "10                                   1999   \n",
              "11                                  17516   \n",
              "12                                    184   \n",
              "13                                      0   \n",
              "14                                 113248   \n",
              "\n",
              "    Cases - newly reported in last 7 days per 100000 population  \\\n",
              "0                                               7.818             \n",
              "1                                               0.041             \n",
              "2                                               0.000             \n",
              "3                                              39.043             \n",
              "4                                               0.776             \n",
              "5                                            1199.088             \n",
              "6                                             413.580             \n",
              "7                                               0.523             \n",
              "8                                               0.068             \n",
              "9                                            1170.248             \n",
              "10                                             21.155             \n",
              "11                                            152.016             \n",
              "12                                             46.274             \n",
              "13                                              0.000             \n",
              "14                                             53.278             \n",
              "\n",
              "    Cases - newly reported in last 24 hours  Deaths - cumulative total  \\\n",
              "0                                        44                       3497   \n",
              "1                                         0                       6875   \n",
              "2                                         0                       1900   \n",
              "3                                         0                     128729   \n",
              "4                                         0                       8623   \n",
              "5                                     48015                       7565   \n",
              "6                                      4787                      19816   \n",
              "7                                         6                       9709   \n",
              "8                                         0                      29127   \n",
              "9                                       264                        430   \n",
              "10                                       58                       6978   \n",
              "11                                        0                      31580   \n",
              "12                                       63                        676   \n",
              "13                                        0                       2690   \n",
              "14                                     9709                     664192   \n",
              "\n",
              "    Deaths - cumulative total per 100000 population  \\\n",
              "0                                           121.516   \n",
              "1                                            15.678   \n",
              "2                                             5.781   \n",
              "3                                           284.825   \n",
              "4                                           291.000   \n",
              "5                                            29.667   \n",
              "6                                           222.625   \n",
              "7                                            95.757   \n",
              "8                                            17.686   \n",
              "9                                           149.630   \n",
              "10                                           73.847   \n",
              "11                                          274.074   \n",
              "12                                          170.008   \n",
              "13                                          114.389   \n",
              "14                                          312.474   \n",
              "\n",
              "    Deaths - newly reported in last 7 days  ...  Fruits - Excluding Wine  \\\n",
              "0                                        1  ...                   6.7861   \n",
              "1                                        0  ...                   6.3801   \n",
              "2                                        0  ...                   6.0005   \n",
              "3                                       76  ...                   6.0435   \n",
              "4                                        1  ...                   6.0989   \n",
              "5                                      254  ...                   4.1883   \n",
              "6                                       51  ...                   4.6069   \n",
              "7                                        0  ...                   4.7988   \n",
              "8                                        0  ...                   2.8655   \n",
              "9                                       32  ...                   5.8723   \n",
              "10                                      24  ...                   3.5665   \n",
              "11                                      45  ...                   4.1623   \n",
              "12                                       0  ...                  12.6094   \n",
              "13                                       0  ...                   2.8465   \n",
              "14                                     590  ...                   6.0936   \n",
              "\n",
              "      Meat  Milk - Excluding Butter Sugar & Sweeteners Treenuts  \\\n",
              "0   1.8845                  15.7213             1.5367   0.1515   \n",
              "1   1.1305                   7.6189             1.8342   0.1152   \n",
              "2   2.0571                   0.8311             1.8495   0.0061   \n",
              "3   7.0421                  10.2328             3.0536   0.0200   \n",
              "4   2.2675                   9.9407             2.6579   0.1108   \n",
              "5   6.7049                  12.1018             2.5364   0.3176   \n",
              "6   4.6810                  12.3776             2.6094   0.2367   \n",
              "7   2.1513                   8.3212             1.5523   0.1906   \n",
              "8   0.4191                   1.8778             0.9285   0.0934   \n",
              "9   5.8477                   2.2041             4.3344   0.0852   \n",
              "10  4.1893                   6.2104             4.0155   0.1399   \n",
              "11  3.2370                  11.6344             3.6514   0.1309   \n",
              "12  3.4890                   3.6317             3.9798   0.0340   \n",
              "13  2.2840                  11.0217             4.7857   0.0150   \n",
              "14  6.4784                   9.3416             2.7755   0.0513   \n",
              "\n",
              "   Vegetable Oils Vegetables  Vegetal Products  Obesity  Undernourished  \n",
              "0          0.3261    11.7753           31.2304     22.3             6.2  \n",
              "1          1.0310    11.6484           40.3651     26.6             3.9  \n",
              "2          0.6463     2.3041           45.0722      6.8              25  \n",
              "3          0.9541     4.3503           30.6559     28.5             4.6  \n",
              "4          0.4705    16.7019           36.4358     20.9             4.3  \n",
              "5          1.2798     5.1406           28.5806     30.4            <2.5  \n",
              "6          0.8109     5.1098           30.4338     21.9            <2.5  \n",
              "7          0.2235    10.0755           38.3584     19.9            <2.5  \n",
              "8          0.7615     3.6405           44.8033      3.4            14.7  \n",
              "9          0.8677     5.4725           37.5167     24.8             3.9  \n",
              "10         0.8804     8.7859           37.2904     26.6            <2.5  \n",
              "11         0.5640     6.8161           32.2637     24.5            <2.5  \n",
              "12         1.0198     4.7721           41.3122     22.4             7.5  \n",
              "13         1.0065     4.0558           35.5491     16.1            26.4  \n",
              "14         1.2823     3.3070           32.6537     22.3            <2.5  \n",
              "\n",
              "[15 rows x 43 columns]"
            ]
          },
          "execution_count": 105,
          "metadata": {},
          "output_type": "execute_result"
        }
      ],
      "source": [
        "# Preview the Data\n",
        "dataframe.head(15)"
      ]
    },
    {
      "cell_type": "markdown",
      "metadata": {
        "id": "MMuAPwgua0Rh"
      },
      "source": [
        "## Connect to Database"
      ]
    },
    {
      "cell_type": "code",
      "execution_count": null,
      "metadata": {
        "id": "mUy2CUAmkhv-"
      },
      "outputs": [],
      "source": []
    },
    {
      "cell_type": "code",
      "execution_count": 106,
      "metadata": {
        "id": "xpRKc-ADa4KY"
      },
      "outputs": [],
      "source": [
        "# # Install Postgres Driver\n",
        "# !wget https://jdbc.postgresql.org/download/postgresql-42.2.16.jar"
      ]
    },
    {
      "cell_type": "markdown",
      "metadata": {
        "id": "m0iR3nMLdi-J"
      },
      "source": [
        "##### Build Database Connection"
      ]
    },
    {
      "cell_type": "code",
      "execution_count": 107,
      "metadata": {
        "id": "BFJwsLQDlnnx"
      },
      "outputs": [],
      "source": [
        "# # Import Module to Communicate with PostgreSQL\n",
        "# import psycopg2 as pg\n",
        "\n",
        "# # Import Password Protector\n",
        "# from getpass import getpass\n",
        "\n",
        "# # Build Engine for Connection\n",
        "# engine = pg.connect(\n",
        "#     \"\n",
        "#     dbname='my_db_name' \n",
        "#     user='pguser' \n",
        "#     host='127.0.0.1' \n",
        "#     port='15432' \n",
        "#     password=getpass('pgpassword')\n",
        "#     \"\n",
        "# )\n",
        "\n",
        "# dataframe = pd.read_sql('select * from Stat_Table', con=engine)"
      ]
    },
    {
      "cell_type": "code",
      "execution_count": 108,
      "metadata": {
        "id": "4fy62w3ea4aA"
      },
      "outputs": [],
      "source": [
        "# # Import Module to Communicate with PostgreSQL\n",
        "# import psycopg2\n",
        "\n",
        "# # Connection parameters - yours will be different\n",
        "# param_dic = {\n",
        "#     \"host\"      : \"localhost\",\n",
        "#     \"database\"  : \"globaldata\",\n",
        "#     \"user\"      : \"myuser\",\n",
        "#     \"password\"  : \"Passw0rd\"\n",
        "# }\n",
        "\n",
        "# # Define the connection function\n",
        "# def connect(params_dic):\n",
        "#     \"\"\" Connect to the PostgreSQL database server \"\"\"\n",
        "#     conn = None\n",
        "#     try:\n",
        "#         # connect to the PostgreSQL server\n",
        "#         print('Connecting to the PostgreSQL database...')\n",
        "#         conn = psycopg2.connect(**params_dic)\n",
        "#     except (Exception, psycopg2.DatabaseError) as error:\n",
        "#         print(error)\n",
        "#         sys.exit(1) \n",
        "#     print(\"Connection successful\")\n",
        "#     return conn\n"
      ]
    },
    {
      "cell_type": "code",
      "execution_count": 109,
      "metadata": {
        "id": "5SeMmlz1eqYU"
      },
      "outputs": [],
      "source": [
        "# # Connect to Database\n",
        "# connect(param_dic)"
      ]
    },
    {
      "cell_type": "markdown",
      "metadata": {
        "id": "h_u6scq8dlnx"
      },
      "source": [
        "##### Retrieve Table/DataFrame from Database"
      ]
    },
    {
      "cell_type": "code",
      "execution_count": 110,
      "metadata": {
        "id": "WkPK6X6Jda4v"
      },
      "outputs": [],
      "source": [
        "# # Define our Data Table Retreival Function\n",
        "# def postgresql_to_dataframe(conn, select_query, column_names):\n",
        "#     \"\"\"\n",
        "#     Tranform a SELECT query into a pandas dataframe\n",
        "#     \"\"\"\n",
        "#     cursor = conn.cursor()\n",
        "#     try:\n",
        "#         cursor.execute(select_query)\n",
        "#     except (Exception, psycopg2.DatabaseError) as error:\n",
        "#         print(\"Error: %s\" % error)\n",
        "#         cursor.close()\n",
        "#         return 1\n",
        "    \n",
        "#     # Naturally we get a list of tupples\n",
        "#     tupples = cursor.fetchall()\n",
        "#     cursor.close()\n",
        "    \n",
        "#     # We just need to turn it into a pandas dataframe\n",
        "#     df = pd.DataFrame(tupples, columns=column_names)\n",
        "#               # *** Potentially change this ^ so that we don't have to input column names by hand ***\n",
        "#     return df"
      ]
    },
    {
      "cell_type": "code",
      "execution_count": 111,
      "metadata": {
        "id": "2TGt-FvIe63s"
      },
      "outputs": [],
      "source": [
        "# # Retreive Data\n",
        "# postgresql_to_dataframe(conn, select_query, column_names)\n",
        "\n",
        "# # Rename DataFrame Variable\n",
        "# dataframe = df"
      ]
    },
    {
      "cell_type": "markdown",
      "metadata": {
        "id": "aWQrK58vaEfy"
      },
      "source": [
        "## Process & Preprocess the Data"
      ]
    },
    {
      "cell_type": "markdown",
      "metadata": {
        "id": "r22ScicytP3H"
      },
      "source": [
        "### Clean the Data"
      ]
    },
    {
      "cell_type": "markdown",
      "metadata": {
        "id": "3Zfg6vM83f1e"
      },
      "source": [
        "##### Identify Categorical Variables/Columns"
      ]
    },
    {
      "cell_type": "code",
      "execution_count": 112,
      "metadata": {
        "id": "LEa0UEd93SpC"
      },
      "outputs": [
        {
          "data": {
            "text/plain": [
              "COUNTRY               131\n",
              "WHO Region              6\n",
              "ISO3                  131\n",
              "WHO_REGION              6\n",
              "DATA_SOURCE             1\n",
              "DATE_UPDATED           16\n",
              "VACCINES_USED          80\n",
              "FIRST_VACCINE_DATE     67\n",
              "Undernourished         78\n",
              "dtype: int64"
            ]
          },
          "execution_count": 112,
          "metadata": {},
          "output_type": "execute_result"
        }
      ],
      "source": [
        "# Generate our categorical variable list\n",
        "categorical_columns = dataframe.dtypes[dataframe.dtypes == \"object\"].index.tolist()\n",
        "\n",
        "# Check the number of unique values in each column\n",
        "dataframe[categorical_columns].nunique()"
      ]
    },
    {
      "cell_type": "code",
      "execution_count": 113,
      "metadata": {},
      "outputs": [
        {
          "data": {
            "text/plain": [
              "Index(['COUNTRY', 'WHO Region', 'Cases - cumulative total',\n",
              "       'Cases - cumulative total per 100000 population',\n",
              "       'Cases - newly reported in last 7 days',\n",
              "       'Cases - newly reported in last 7 days per 100000 population',\n",
              "       'Cases - newly reported in last 24 hours', 'Deaths - cumulative total',\n",
              "       'Deaths - cumulative total per 100000 population',\n",
              "       'Deaths - newly reported in last 7 days',\n",
              "       'Deaths - newly reported in last 7 days per 100000 population',\n",
              "       'Deaths - newly reported in last 24 hours', 'Case_Fatality_Ratio',\n",
              "       'ISO3', 'WHO_REGION', 'DATA_SOURCE', 'DATE_UPDATED',\n",
              "       'TOTAL_VACCINATIONS', 'PERSONS_VACCINATED_1PLUS_DOSE',\n",
              "       'TOTAL_VACCINATIONS_PER100', 'PERSONS_VACCINATED_1PLUS_DOSE_PER100',\n",
              "       'PERSONS_FULLY_VACCINATED', 'PERSONS_FULLY_VACCINATED_PER100',\n",
              "       'VACCINES_USED', 'FIRST_VACCINE_DATE', 'NUMBER_VACCINES_TYPES_USED',\n",
              "       'PERSONS_BOOSTER_ADD_DOSE', 'PERSONS_BOOSTER_ADD_DOSE_PER100',\n",
              "       'Alcoholic Beverages', 'Animal Products', 'Cereals - Excluding Beer',\n",
              "       'Eggs', 'Fish, Seafood', 'Fruits - Excluding Wine', 'Meat',\n",
              "       'Milk - Excluding Butter', 'Sugar & Sweeteners', 'Treenuts',\n",
              "       'Vegetable Oils', 'Vegetables', 'Vegetal Products', 'Obesity',\n",
              "       'Undernourished'],\n",
              "      dtype='object')"
            ]
          },
          "execution_count": 113,
          "metadata": {},
          "output_type": "execute_result"
        }
      ],
      "source": [
        "dataframe.columns"
      ]
    },
    {
      "cell_type": "code",
      "execution_count": 114,
      "metadata": {},
      "outputs": [],
      "source": [
        "droppable = [\"WHO Region\", \"COUNTRY\", \"ISO3\", \"WHO_REGION\", \"DATA_SOURCE\", \"DATE_UPDATED\", \"VACCINES_USED\", \"FIRST_VACCINE_DATE\", \"Undernourished\"]"
      ]
    },
    {
      "cell_type": "markdown",
      "metadata": {
        "id": "seoCFUDA9AY3"
      },
      "source": [
        "##### Determing Bucketing - if categorical column has more than 10 unique values, consider binning!\n"
      ]
    },
    {
      "cell_type": "code",
      "execution_count": 115,
      "metadata": {
        "id": "IeA0LvGE9Ld5"
      },
      "outputs": [],
      "source": [
        "## OPTIONAL ##\n",
        "\n",
        "## Analyze frequencies of unique values in categorical column(s)\n",
        "# column1_counts = dataframe.insert_column_name_here.value_counts()\n",
        "\n",
        "## Plot the value counts - then determine the cut off(s) for binning\n",
        "# column1_counts.plot.density()"
      ]
    },
    {
      "cell_type": "code",
      "execution_count": 116,
      "metadata": {
        "id": "VF7Sh5-Z-KQl"
      },
      "outputs": [],
      "source": [
        "## OPTIONAL ##\n",
        "\n",
        "## Determine which values to replace\n",
        "# replace_column1 = list(column1_counts[column1_counts < cutoff_value].index)\n",
        "\n",
        "## Replace the column values you'd like to bucket together in the DataFrame\n",
        "# for value in replace_column1:\n",
        "  # dataframe.insert_column_name_here = dataframe.insert_column_name_here.replace(value,\"New_Bucketed_Value_Name-Ex:'Other'\")\n",
        "\n",
        "## Check to make sure the bucketing/binning was successful\n",
        "# dataframe.insert_column_name_here.value_counts()"
      ]
    },
    {
      "cell_type": "markdown",
      "metadata": {
        "id": "H5ALN5Nc4O6c"
      },
      "source": [
        "##### Encode the Categorical Values"
      ]
    },
    {
      "cell_type": "code",
      "execution_count": 117,
      "metadata": {
        "id": "5zbcZ41v4haH"
      },
      "outputs": [],
      "source": [
        "# Import the LabelEncoder\n",
        "from sklearn.preprocessing import LabelEncoder"
      ]
    },
    {
      "cell_type": "code",
      "execution_count": 118,
      "metadata": {
        "id": "JMC9wR5g6tGA"
      },
      "outputs": [],
      "source": [
        "# # Instantiate LabelEncoder\n",
        "# encoder = LabelEncoder()\n",
        "\n",
        "# # Create a copy of the dataframe and encode the data\n",
        "# dataframe_copy = dataframe.copy()\n",
        "\n",
        "# # Train the LabelEncoder, convert the text columns to string columns\n",
        "# for x in categorical_columns:\n",
        "#   dataframe_copy[f\"{x}\"] = encoder.fit_transform(dataframe_copy[f\"{x}\"])\n",
        "\n",
        "# # Preview the converted tables\n",
        "# dataframe_copy.head(15)"
      ]
    },
    {
      "cell_type": "markdown",
      "metadata": {
        "id": "3p13h1isguD2"
      },
      "source": [
        "### Dataset Training & Test Splitting"
      ]
    },
    {
      "cell_type": "markdown",
      "metadata": {
        "id": "0Tr21vybhAyP"
      },
      "source": [
        "##### Separate Features from Outcomes"
      ]
    },
    {
      "cell_type": "markdown",
      "metadata": {
        "id": "ladDlXmYhWIj"
      },
      "source": [
        "##### Features(X)"
      ]
    },
    {
      "cell_type": "code",
      "execution_count": 119,
      "metadata": {
        "id": "AX9e213SaOEF"
      },
      "outputs": [
        {
          "data": {
            "text/html": [
              "<div>\n",
              "<style scoped>\n",
              "    .dataframe tbody tr th:only-of-type {\n",
              "        vertical-align: middle;\n",
              "    }\n",
              "\n",
              "    .dataframe tbody tr th {\n",
              "        vertical-align: top;\n",
              "    }\n",
              "\n",
              "    .dataframe thead th {\n",
              "        text-align: right;\n",
              "    }\n",
              "</style>\n",
              "<table border=\"1\" class=\"dataframe\">\n",
              "  <thead>\n",
              "    <tr style=\"text-align: right;\">\n",
              "      <th></th>\n",
              "      <th>Cases - cumulative total</th>\n",
              "      <th>Cases - cumulative total per 100000 population</th>\n",
              "      <th>Cases - newly reported in last 7 days</th>\n",
              "      <th>Cases - newly reported in last 7 days per 100000 population</th>\n",
              "      <th>Cases - newly reported in last 24 hours</th>\n",
              "      <th>Deaths - cumulative total</th>\n",
              "      <th>Deaths - cumulative total per 100000 population</th>\n",
              "      <th>Deaths - newly reported in last 7 days</th>\n",
              "      <th>Deaths - newly reported in last 7 days per 100000 population</th>\n",
              "      <th>Deaths - newly reported in last 24 hours</th>\n",
              "      <th>...</th>\n",
              "      <th>Fish, Seafood</th>\n",
              "      <th>Fruits - Excluding Wine</th>\n",
              "      <th>Meat</th>\n",
              "      <th>Milk - Excluding Butter</th>\n",
              "      <th>Sugar &amp; Sweeteners</th>\n",
              "      <th>Treenuts</th>\n",
              "      <th>Vegetable Oils</th>\n",
              "      <th>Vegetables</th>\n",
              "      <th>Vegetal Products</th>\n",
              "      <th>Obesity</th>\n",
              "    </tr>\n",
              "  </thead>\n",
              "  <tbody>\n",
              "    <tr>\n",
              "      <th>0</th>\n",
              "      <td>275416</td>\n",
              "      <td>9570.366</td>\n",
              "      <td>225</td>\n",
              "      <td>7.818</td>\n",
              "      <td>44</td>\n",
              "      <td>3497</td>\n",
              "      <td>121.516</td>\n",
              "      <td>1</td>\n",
              "      <td>0.035</td>\n",
              "      <td>0</td>\n",
              "      <td>...</td>\n",
              "      <td>0.2126</td>\n",
              "      <td>6.7861</td>\n",
              "      <td>1.8845</td>\n",
              "      <td>15.7213</td>\n",
              "      <td>1.5367</td>\n",
              "      <td>0.1515</td>\n",
              "      <td>0.3261</td>\n",
              "      <td>11.7753</td>\n",
              "      <td>31.2304</td>\n",
              "      <td>22.3</td>\n",
              "    </tr>\n",
              "    <tr>\n",
              "      <th>1</th>\n",
              "      <td>265800</td>\n",
              "      <td>606.143</td>\n",
              "      <td>18</td>\n",
              "      <td>0.041</td>\n",
              "      <td>0</td>\n",
              "      <td>6875</td>\n",
              "      <td>15.678</td>\n",
              "      <td>0</td>\n",
              "      <td>0.000</td>\n",
              "      <td>0</td>\n",
              "      <td>...</td>\n",
              "      <td>0.2416</td>\n",
              "      <td>6.3801</td>\n",
              "      <td>1.1305</td>\n",
              "      <td>7.6189</td>\n",
              "      <td>1.8342</td>\n",
              "      <td>0.1152</td>\n",
              "      <td>1.0310</td>\n",
              "      <td>11.6484</td>\n",
              "      <td>40.3651</td>\n",
              "      <td>26.6</td>\n",
              "    </tr>\n",
              "    <tr>\n",
              "      <th>2</th>\n",
              "      <td>99287</td>\n",
              "      <td>302.094</td>\n",
              "      <td>0</td>\n",
              "      <td>0.000</td>\n",
              "      <td>0</td>\n",
              "      <td>1900</td>\n",
              "      <td>5.781</td>\n",
              "      <td>0</td>\n",
              "      <td>0.000</td>\n",
              "      <td>0</td>\n",
              "      <td>...</td>\n",
              "      <td>1.7707</td>\n",
              "      <td>6.0005</td>\n",
              "      <td>2.0571</td>\n",
              "      <td>0.8311</td>\n",
              "      <td>1.8495</td>\n",
              "      <td>0.0061</td>\n",
              "      <td>0.6463</td>\n",
              "      <td>2.3041</td>\n",
              "      <td>45.0722</td>\n",
              "      <td>6.8</td>\n",
              "    </tr>\n",
              "    <tr>\n",
              "      <th>3</th>\n",
              "      <td>9101319</td>\n",
              "      <td>20137.544</td>\n",
              "      <td>17646</td>\n",
              "      <td>39.043</td>\n",
              "      <td>0</td>\n",
              "      <td>128729</td>\n",
              "      <td>284.825</td>\n",
              "      <td>76</td>\n",
              "      <td>0.168</td>\n",
              "      <td>0</td>\n",
              "      <td>...</td>\n",
              "      <td>0.4693</td>\n",
              "      <td>6.0435</td>\n",
              "      <td>7.0421</td>\n",
              "      <td>10.2328</td>\n",
              "      <td>3.0536</td>\n",
              "      <td>0.0200</td>\n",
              "      <td>0.9541</td>\n",
              "      <td>4.3503</td>\n",
              "      <td>30.6559</td>\n",
              "      <td>28.5</td>\n",
              "    </tr>\n",
              "    <tr>\n",
              "      <th>4</th>\n",
              "      <td>422900</td>\n",
              "      <td>14271.570</td>\n",
              "      <td>23</td>\n",
              "      <td>0.776</td>\n",
              "      <td>0</td>\n",
              "      <td>8623</td>\n",
              "      <td>291.000</td>\n",
              "      <td>1</td>\n",
              "      <td>0.034</td>\n",
              "      <td>0</td>\n",
              "      <td>...</td>\n",
              "      <td>0.2896</td>\n",
              "      <td>6.0989</td>\n",
              "      <td>2.2675</td>\n",
              "      <td>9.9407</td>\n",
              "      <td>2.6579</td>\n",
              "      <td>0.1108</td>\n",
              "      <td>0.4705</td>\n",
              "      <td>16.7019</td>\n",
              "      <td>36.4358</td>\n",
              "      <td>20.9</td>\n",
              "    </tr>\n",
              "    <tr>\n",
              "      <th>5</th>\n",
              "      <td>6328508</td>\n",
              "      <td>24817.791</td>\n",
              "      <td>305766</td>\n",
              "      <td>1199.088</td>\n",
              "      <td>48015</td>\n",
              "      <td>7565</td>\n",
              "      <td>29.667</td>\n",
              "      <td>254</td>\n",
              "      <td>0.996</td>\n",
              "      <td>49</td>\n",
              "      <td>...</td>\n",
              "      <td>1.4264</td>\n",
              "      <td>4.1883</td>\n",
              "      <td>6.7049</td>\n",
              "      <td>12.1018</td>\n",
              "      <td>2.5364</td>\n",
              "      <td>0.3176</td>\n",
              "      <td>1.2798</td>\n",
              "      <td>5.1406</td>\n",
              "      <td>28.5806</td>\n",
              "      <td>30.4</td>\n",
              "    </tr>\n",
              "    <tr>\n",
              "      <th>6</th>\n",
              "      <td>4231050</td>\n",
              "      <td>47534.205</td>\n",
              "      <td>36813</td>\n",
              "      <td>413.580</td>\n",
              "      <td>4787</td>\n",
              "      <td>19816</td>\n",
              "      <td>222.625</td>\n",
              "      <td>51</td>\n",
              "      <td>0.573</td>\n",
              "      <td>3</td>\n",
              "      <td>...</td>\n",
              "      <td>0.7562</td>\n",
              "      <td>4.6069</td>\n",
              "      <td>4.6810</td>\n",
              "      <td>12.3776</td>\n",
              "      <td>2.6094</td>\n",
              "      <td>0.2367</td>\n",
              "      <td>0.8109</td>\n",
              "      <td>5.1098</td>\n",
              "      <td>30.4338</td>\n",
              "      <td>21.9</td>\n",
              "    </tr>\n",
              "    <tr>\n",
              "      <th>7</th>\n",
              "      <td>792638</td>\n",
              "      <td>7817.579</td>\n",
              "      <td>53</td>\n",
              "      <td>0.523</td>\n",
              "      <td>6</td>\n",
              "      <td>9709</td>\n",
              "      <td>95.757</td>\n",
              "      <td>0</td>\n",
              "      <td>0.000</td>\n",
              "      <td>0</td>\n",
              "      <td>...</td>\n",
              "      <td>0.2020</td>\n",
              "      <td>4.7988</td>\n",
              "      <td>2.1513</td>\n",
              "      <td>8.3212</td>\n",
              "      <td>1.5523</td>\n",
              "      <td>0.1906</td>\n",
              "      <td>0.2235</td>\n",
              "      <td>10.0755</td>\n",
              "      <td>38.3584</td>\n",
              "      <td>19.9</td>\n",
              "    </tr>\n",
              "    <tr>\n",
              "      <th>8</th>\n",
              "      <td>1952855</td>\n",
              "      <td>1185.781</td>\n",
              "      <td>112</td>\n",
              "      <td>0.068</td>\n",
              "      <td>0</td>\n",
              "      <td>29127</td>\n",
              "      <td>17.686</td>\n",
              "      <td>0</td>\n",
              "      <td>0.000</td>\n",
              "      <td>0</td>\n",
              "      <td>...</td>\n",
              "      <td>2.5221</td>\n",
              "      <td>2.8655</td>\n",
              "      <td>0.4191</td>\n",
              "      <td>1.8778</td>\n",
              "      <td>0.9285</td>\n",
              "      <td>0.0934</td>\n",
              "      <td>0.7615</td>\n",
              "      <td>3.6405</td>\n",
              "      <td>44.8033</td>\n",
              "      <td>3.4</td>\n",
              "    </tr>\n",
              "    <tr>\n",
              "      <th>9</th>\n",
              "      <td>73856</td>\n",
              "      <td>25700.217</td>\n",
              "      <td>3363</td>\n",
              "      <td>1170.248</td>\n",
              "      <td>264</td>\n",
              "      <td>430</td>\n",
              "      <td>149.630</td>\n",
              "      <td>32</td>\n",
              "      <td>11.135</td>\n",
              "      <td>24</td>\n",
              "      <td>...</td>\n",
              "      <td>3.2750</td>\n",
              "      <td>5.8723</td>\n",
              "      <td>5.8477</td>\n",
              "      <td>2.2041</td>\n",
              "      <td>4.3344</td>\n",
              "      <td>0.0852</td>\n",
              "      <td>0.8677</td>\n",
              "      <td>5.4725</td>\n",
              "      <td>37.5167</td>\n",
              "      <td>24.8</td>\n",
              "    </tr>\n",
              "    <tr>\n",
              "      <th>10</th>\n",
              "      <td>982867</td>\n",
              "      <td>10401.456</td>\n",
              "      <td>1999</td>\n",
              "      <td>21.155</td>\n",
              "      <td>58</td>\n",
              "      <td>6978</td>\n",
              "      <td>73.847</td>\n",
              "      <td>24</td>\n",
              "      <td>0.254</td>\n",
              "      <td>4</td>\n",
              "      <td>...</td>\n",
              "      <td>0.8372</td>\n",
              "      <td>3.5665</td>\n",
              "      <td>4.1893</td>\n",
              "      <td>6.2104</td>\n",
              "      <td>4.0155</td>\n",
              "      <td>0.1399</td>\n",
              "      <td>0.8804</td>\n",
              "      <td>8.7859</td>\n",
              "      <td>37.2904</td>\n",
              "      <td>26.6</td>\n",
              "    </tr>\n",
              "    <tr>\n",
              "      <th>11</th>\n",
              "      <td>4102082</td>\n",
              "      <td>35600.810</td>\n",
              "      <td>17516</td>\n",
              "      <td>152.016</td>\n",
              "      <td>0</td>\n",
              "      <td>31580</td>\n",
              "      <td>274.074</td>\n",
              "      <td>45</td>\n",
              "      <td>0.391</td>\n",
              "      <td>0</td>\n",
              "      <td>...</td>\n",
              "      <td>1.1325</td>\n",
              "      <td>4.1623</td>\n",
              "      <td>3.2370</td>\n",
              "      <td>11.6344</td>\n",
              "      <td>3.6514</td>\n",
              "      <td>0.1309</td>\n",
              "      <td>0.5640</td>\n",
              "      <td>6.8161</td>\n",
              "      <td>32.2637</td>\n",
              "      <td>24.5</td>\n",
              "    </tr>\n",
              "    <tr>\n",
              "      <th>12</th>\n",
              "      <td>57675</td>\n",
              "      <td>14504.763</td>\n",
              "      <td>184</td>\n",
              "      <td>46.274</td>\n",
              "      <td>63</td>\n",
              "      <td>676</td>\n",
              "      <td>170.008</td>\n",
              "      <td>0</td>\n",
              "      <td>0.000</td>\n",
              "      <td>0</td>\n",
              "      <td>...</td>\n",
              "      <td>1.0325</td>\n",
              "      <td>12.6094</td>\n",
              "      <td>3.4890</td>\n",
              "      <td>3.6317</td>\n",
              "      <td>3.9798</td>\n",
              "      <td>0.0340</td>\n",
              "      <td>1.0198</td>\n",
              "      <td>4.7721</td>\n",
              "      <td>41.3122</td>\n",
              "      <td>22.4</td>\n",
              "    </tr>\n",
              "    <tr>\n",
              "      <th>13</th>\n",
              "      <td>306200</td>\n",
              "      <td>13020.772</td>\n",
              "      <td>0</td>\n",
              "      <td>0.000</td>\n",
              "      <td>0</td>\n",
              "      <td>2690</td>\n",
              "      <td>114.389</td>\n",
              "      <td>0</td>\n",
              "      <td>0.000</td>\n",
              "      <td>0</td>\n",
              "      <td>...</td>\n",
              "      <td>0.3551</td>\n",
              "      <td>2.8465</td>\n",
              "      <td>2.2840</td>\n",
              "      <td>11.0217</td>\n",
              "      <td>4.7857</td>\n",
              "      <td>0.0150</td>\n",
              "      <td>1.0065</td>\n",
              "      <td>4.0558</td>\n",
              "      <td>35.5491</td>\n",
              "      <td>16.1</td>\n",
              "    </tr>\n",
              "    <tr>\n",
              "      <th>14</th>\n",
              "      <td>30574245</td>\n",
              "      <td>14383.858</td>\n",
              "      <td>113248</td>\n",
              "      <td>53.278</td>\n",
              "      <td>9709</td>\n",
              "      <td>664192</td>\n",
              "      <td>312.474</td>\n",
              "      <td>590</td>\n",
              "      <td>0.278</td>\n",
              "      <td>53</td>\n",
              "      <td>...</td>\n",
              "      <td>0.5899</td>\n",
              "      <td>6.0936</td>\n",
              "      <td>6.4784</td>\n",
              "      <td>9.3416</td>\n",
              "      <td>2.7755</td>\n",
              "      <td>0.0513</td>\n",
              "      <td>1.2823</td>\n",
              "      <td>3.3070</td>\n",
              "      <td>32.6537</td>\n",
              "      <td>22.3</td>\n",
              "    </tr>\n",
              "  </tbody>\n",
              "</table>\n",
              "<p>15 rows × 34 columns</p>\n",
              "</div>"
            ],
            "text/plain": [
              "    Cases - cumulative total  Cases - cumulative total per 100000 population  \\\n",
              "0                     275416                                        9570.366   \n",
              "1                     265800                                         606.143   \n",
              "2                      99287                                         302.094   \n",
              "3                    9101319                                       20137.544   \n",
              "4                     422900                                       14271.570   \n",
              "5                    6328508                                       24817.791   \n",
              "6                    4231050                                       47534.205   \n",
              "7                     792638                                        7817.579   \n",
              "8                    1952855                                        1185.781   \n",
              "9                      73856                                       25700.217   \n",
              "10                    982867                                       10401.456   \n",
              "11                   4102082                                       35600.810   \n",
              "12                     57675                                       14504.763   \n",
              "13                    306200                                       13020.772   \n",
              "14                  30574245                                       14383.858   \n",
              "\n",
              "    Cases - newly reported in last 7 days  \\\n",
              "0                                     225   \n",
              "1                                      18   \n",
              "2                                       0   \n",
              "3                                   17646   \n",
              "4                                      23   \n",
              "5                                  305766   \n",
              "6                                   36813   \n",
              "7                                      53   \n",
              "8                                     112   \n",
              "9                                    3363   \n",
              "10                                   1999   \n",
              "11                                  17516   \n",
              "12                                    184   \n",
              "13                                      0   \n",
              "14                                 113248   \n",
              "\n",
              "    Cases - newly reported in last 7 days per 100000 population  \\\n",
              "0                                               7.818             \n",
              "1                                               0.041             \n",
              "2                                               0.000             \n",
              "3                                              39.043             \n",
              "4                                               0.776             \n",
              "5                                            1199.088             \n",
              "6                                             413.580             \n",
              "7                                               0.523             \n",
              "8                                               0.068             \n",
              "9                                            1170.248             \n",
              "10                                             21.155             \n",
              "11                                            152.016             \n",
              "12                                             46.274             \n",
              "13                                              0.000             \n",
              "14                                             53.278             \n",
              "\n",
              "    Cases - newly reported in last 24 hours  Deaths - cumulative total  \\\n",
              "0                                        44                       3497   \n",
              "1                                         0                       6875   \n",
              "2                                         0                       1900   \n",
              "3                                         0                     128729   \n",
              "4                                         0                       8623   \n",
              "5                                     48015                       7565   \n",
              "6                                      4787                      19816   \n",
              "7                                         6                       9709   \n",
              "8                                         0                      29127   \n",
              "9                                       264                        430   \n",
              "10                                       58                       6978   \n",
              "11                                        0                      31580   \n",
              "12                                       63                        676   \n",
              "13                                        0                       2690   \n",
              "14                                     9709                     664192   \n",
              "\n",
              "    Deaths - cumulative total per 100000 population  \\\n",
              "0                                           121.516   \n",
              "1                                            15.678   \n",
              "2                                             5.781   \n",
              "3                                           284.825   \n",
              "4                                           291.000   \n",
              "5                                            29.667   \n",
              "6                                           222.625   \n",
              "7                                            95.757   \n",
              "8                                            17.686   \n",
              "9                                           149.630   \n",
              "10                                           73.847   \n",
              "11                                          274.074   \n",
              "12                                          170.008   \n",
              "13                                          114.389   \n",
              "14                                          312.474   \n",
              "\n",
              "    Deaths - newly reported in last 7 days  \\\n",
              "0                                        1   \n",
              "1                                        0   \n",
              "2                                        0   \n",
              "3                                       76   \n",
              "4                                        1   \n",
              "5                                      254   \n",
              "6                                       51   \n",
              "7                                        0   \n",
              "8                                        0   \n",
              "9                                       32   \n",
              "10                                      24   \n",
              "11                                      45   \n",
              "12                                       0   \n",
              "13                                       0   \n",
              "14                                     590   \n",
              "\n",
              "    Deaths - newly reported in last 7 days per 100000 population  \\\n",
              "0                                               0.035              \n",
              "1                                               0.000              \n",
              "2                                               0.000              \n",
              "3                                               0.168              \n",
              "4                                               0.034              \n",
              "5                                               0.996              \n",
              "6                                               0.573              \n",
              "7                                               0.000              \n",
              "8                                               0.000              \n",
              "9                                              11.135              \n",
              "10                                              0.254              \n",
              "11                                              0.391              \n",
              "12                                              0.000              \n",
              "13                                              0.000              \n",
              "14                                              0.278              \n",
              "\n",
              "    Deaths - newly reported in last 24 hours  ...  Fish, Seafood  \\\n",
              "0                                          0  ...         0.2126   \n",
              "1                                          0  ...         0.2416   \n",
              "2                                          0  ...         1.7707   \n",
              "3                                          0  ...         0.4693   \n",
              "4                                          0  ...         0.2896   \n",
              "5                                         49  ...         1.4264   \n",
              "6                                          3  ...         0.7562   \n",
              "7                                          0  ...         0.2020   \n",
              "8                                          0  ...         2.5221   \n",
              "9                                         24  ...         3.2750   \n",
              "10                                         4  ...         0.8372   \n",
              "11                                         0  ...         1.1325   \n",
              "12                                         0  ...         1.0325   \n",
              "13                                         0  ...         0.3551   \n",
              "14                                        53  ...         0.5899   \n",
              "\n",
              "    Fruits - Excluding Wine    Meat  Milk - Excluding Butter  \\\n",
              "0                    6.7861  1.8845                  15.7213   \n",
              "1                    6.3801  1.1305                   7.6189   \n",
              "2                    6.0005  2.0571                   0.8311   \n",
              "3                    6.0435  7.0421                  10.2328   \n",
              "4                    6.0989  2.2675                   9.9407   \n",
              "5                    4.1883  6.7049                  12.1018   \n",
              "6                    4.6069  4.6810                  12.3776   \n",
              "7                    4.7988  2.1513                   8.3212   \n",
              "8                    2.8655  0.4191                   1.8778   \n",
              "9                    5.8723  5.8477                   2.2041   \n",
              "10                   3.5665  4.1893                   6.2104   \n",
              "11                   4.1623  3.2370                  11.6344   \n",
              "12                  12.6094  3.4890                   3.6317   \n",
              "13                   2.8465  2.2840                  11.0217   \n",
              "14                   6.0936  6.4784                   9.3416   \n",
              "\n",
              "    Sugar & Sweeteners  Treenuts  Vegetable Oils  Vegetables  \\\n",
              "0               1.5367    0.1515          0.3261     11.7753   \n",
              "1               1.8342    0.1152          1.0310     11.6484   \n",
              "2               1.8495    0.0061          0.6463      2.3041   \n",
              "3               3.0536    0.0200          0.9541      4.3503   \n",
              "4               2.6579    0.1108          0.4705     16.7019   \n",
              "5               2.5364    0.3176          1.2798      5.1406   \n",
              "6               2.6094    0.2367          0.8109      5.1098   \n",
              "7               1.5523    0.1906          0.2235     10.0755   \n",
              "8               0.9285    0.0934          0.7615      3.6405   \n",
              "9               4.3344    0.0852          0.8677      5.4725   \n",
              "10              4.0155    0.1399          0.8804      8.7859   \n",
              "11              3.6514    0.1309          0.5640      6.8161   \n",
              "12              3.9798    0.0340          1.0198      4.7721   \n",
              "13              4.7857    0.0150          1.0065      4.0558   \n",
              "14              2.7755    0.0513          1.2823      3.3070   \n",
              "\n",
              "    Vegetal Products  Obesity  \n",
              "0            31.2304     22.3  \n",
              "1            40.3651     26.6  \n",
              "2            45.0722      6.8  \n",
              "3            30.6559     28.5  \n",
              "4            36.4358     20.9  \n",
              "5            28.5806     30.4  \n",
              "6            30.4338     21.9  \n",
              "7            38.3584     19.9  \n",
              "8            44.8033      3.4  \n",
              "9            37.5167     24.8  \n",
              "10           37.2904     26.6  \n",
              "11           32.2637     24.5  \n",
              "12           41.3122     22.4  \n",
              "13           35.5491     16.1  \n",
              "14           32.6537     22.3  \n",
              "\n",
              "[15 rows x 34 columns]"
            ]
          },
          "execution_count": 119,
          "metadata": {},
          "output_type": "execute_result"
        }
      ],
      "source": [
        "# Create Features Dataset\n",
        "# X = dataframe_copy.copy()\n",
        "\n",
        "X = dataframe.copy()\n",
        "X = X.drop([\"WHO Region\", \"COUNTRY\", \"ISO3\", \"WHO_REGION\", \"DATA_SOURCE\", \"DATE_UPDATED\", \"VACCINES_USED\", \"FIRST_VACCINE_DATE\", \"Undernourished\"], axis=1)\n",
        "\n",
        "# Preview the Dataset\n",
        "X.head(15)"
      ]
    },
    {
      "cell_type": "markdown",
      "metadata": {
        "id": "a28At8K2haKK"
      },
      "source": [
        "##### Outcomes (y)"
      ]
    },
    {
      "cell_type": "code",
      "execution_count": 120,
      "metadata": {
        "id": "U7nHMbYfaOMs"
      },
      "outputs": [
        {
          "data": {
            "text/plain": [
              "0     1.269711\n",
              "1     2.586518\n",
              "2     1.913643\n",
              "3     1.414398\n",
              "4     2.039019\n",
              "5     0.119539\n",
              "6     0.468347\n",
              "7     1.224893\n",
              "8     1.491506\n",
              "9     0.582213\n",
              "10    0.709968\n",
              "11    0.769853\n",
              "12    1.172084\n",
              "13    0.878512\n",
              "14    2.172394\n",
              "Name: Case_Fatality_Ratio, dtype: float64"
            ]
          },
          "execution_count": 120,
          "metadata": {},
          "output_type": "execute_result"
        }
      ],
      "source": [
        "# Create Outcomes Dataset\n",
        "y = dataframe[\"Case_Fatality_Ratio\"]\n",
        "\n",
        "# Preview the data\n",
        "y.head(15)"
      ]
    },
    {
      "cell_type": "markdown",
      "metadata": {
        "id": "Mb09NGwPiMkt"
      },
      "source": [
        "#### Create Training & Testing Splits"
      ]
    },
    {
      "cell_type": "code",
      "execution_count": 121,
      "metadata": {
        "id": "5fv4iIKIaOTL"
      },
      "outputs": [],
      "source": [
        "# Split Data into Training & Testing (Default: 75%/25% Split)\n",
        "X_train, X_test, y_train, y_test = train_test_split(X, y, random_state=615, train_size=None)\n",
        "\n",
        "# | Change the split % by editting the \"train_size parameter to your training split percentage\" |\n",
        "      # Example: train_size = 0.80 results in an 80%/20% split"
      ]
    },
    {
      "cell_type": "code",
      "execution_count": 122,
      "metadata": {
        "id": "Ufw80XLMio3J"
      },
      "outputs": [
        {
          "name": "stdout",
          "output_type": "stream",
          "text": [
            "(98, 34)\n",
            "(33, 34)\n",
            "(98,)\n",
            "(33,)\n"
          ]
        }
      ],
      "source": [
        "# Preview the shapes of the Split Datasets\n",
        "print(X_train.shape)\n",
        "print(X_test.shape)\n",
        "print(y_train.shape)\n",
        "print(y_test.shape)"
      ]
    },
    {
      "cell_type": "markdown",
      "metadata": {
        "id": "eVDrBgP9jzxd"
      },
      "source": [
        "#### Standardizing/Scaling the Data"
      ]
    },
    {
      "cell_type": "code",
      "execution_count": 123,
      "metadata": {
        "id": "zo9piI1vj54G"
      },
      "outputs": [],
      "source": [
        "# Instantiate the Scaler\n",
        "scaler = StandardScaler()"
      ]
    },
    {
      "cell_type": "code",
      "execution_count": 124,
      "metadata": {
        "id": "DE3tWGt4j-Xf"
      },
      "outputs": [],
      "source": [
        "# Fit/Train Scaler to the Training Data\n",
        "X_scaler = scaler.fit(X_train)"
      ]
    },
    {
      "cell_type": "code",
      "execution_count": 125,
      "metadata": {
        "id": "J3Kt5FE_WYKD"
      },
      "outputs": [],
      "source": [
        "# Scale / Transform the X data\n",
        "X_train_scaled = X_scaler.transform(X_train)\n",
        "X_test_scaled = X_scaler.transform(X_test)"
      ]
    },
    {
      "cell_type": "markdown",
      "metadata": {
        "id": "6k1fNJ1dy-4P"
      },
      "source": [
        "## Apply the Model"
      ]
    },
    {
      "cell_type": "markdown",
      "metadata": {
        "id": "-0_KVTcClao8"
      },
      "source": [
        "#### Instantiate, Fit, & Evaluate the Model"
      ]
    },
    {
      "cell_type": "code",
      "execution_count": 126,
      "metadata": {
        "id": "ns71bmTvmSyQ"
      },
      "outputs": [],
      "source": [
        "# Instantiate the Model\n",
        "lr_model = LinearRegression()"
      ]
    },
    {
      "cell_type": "code",
      "execution_count": 127,
      "metadata": {
        "id": "Ra6SG3t_mhZz"
      },
      "outputs": [
        {
          "data": {
            "text/plain": [
              "LinearRegression()"
            ]
          },
          "execution_count": 127,
          "metadata": {},
          "output_type": "execute_result"
        }
      ],
      "source": [
        "# Fit the Model to the Training Data\n",
        "lr_model.fit(X_train_scaled,y_train)"
      ]
    },
    {
      "cell_type": "code",
      "execution_count": 128,
      "metadata": {
        "id": "lh-IucbAmadi"
      },
      "outputs": [
        {
          "name": "stdout",
          "output_type": "stream",
          "text": [
            "(33,)\n"
          ]
        }
      ],
      "source": [
        "# Create predictions with the model using X_test Data.\n",
        "y_pred = lr_model.predict(X_test)\n",
        "\n",
        "# View the Data\n",
        "print(y_pred.shape)"
      ]
    },
    {
      "cell_type": "markdown",
      "metadata": {
        "id": "3NNMAECTsEVS"
      },
      "source": [
        "#### Evaluate the Model"
      ]
    },
    {
      "cell_type": "code",
      "execution_count": 132,
      "metadata": {
        "id": "W555vhaFsGu8"
      },
      "outputs": [],
      "source": [
        "# Import the Evaluation Metrics & Dependencies\n",
        "import matplotlib.pyplot as plt"
      ]
    },
    {
      "cell_type": "markdown",
      "metadata": {
        "id": "baaLM3znwfwO"
      },
      "source": [
        "##### Display Evaluation"
      ]
    },
    {
      "cell_type": "code",
      "execution_count": 139,
      "metadata": {},
      "outputs": [
        {
          "name": "stdout",
          "output_type": "stream",
          "text": [
            "model score on training data: -1.3223803566346786\n",
            "model score on testing data: -1.136954568002523\n"
          ]
        }
      ],
      "source": [
        "print(f'model score on training data: {lr_model.score(X_train, y_train)}')\n",
        "print(f'model score on testing data: {lr_model.score(X_test, y_test)}')"
      ]
    },
    {
      "cell_type": "code",
      "execution_count": 135,
      "metadata": {},
      "outputs": [
        {
          "name": "stdout",
          "output_type": "stream",
          "text": [
            "R2 Score: -1.260207342290474\n"
          ]
        }
      ],
      "source": [
        "# Use R2 Score to determine the model's validity\n",
        "score = lr_model.score(X, y)\n",
        "print(f\"R2 Score: {score}\")"
      ]
    },
    {
      "cell_type": "code",
      "execution_count": 137,
      "metadata": {
        "id": "WSPrseepwcMm"
      },
      "outputs": [
        {
          "data": {
            "image/png": "[encoded data removed]",
            "text/plain": [
              "<Figure size 432x288 with 1 Axes>"
            ]
          },
          "metadata": {
            "needs_background": "light"
          },
          "output_type": "display_data"
        }
      ],
      "source": [
        "# Plot the results. The best fit line is red.\n",
        "# Plot Residuals\n",
        "plt.scatter(y_pred, y_pred - y_test)\n",
        "plt.hlines(y=0, xmin=y_pred.min(), xmax=y_pred.max())\n",
        "plt.show()\n"
      ]
    },
    {
      "cell_type": "markdown",
      "metadata": {
        "id": "roNwO-APzGcZ"
      },
      "source": [
        "## Results & Takeaways"
      ]
    },
    {
      "cell_type": "markdown",
      "metadata": {
        "id": "FELQkd6X_T4w"
      },
      "source": [
        "#### Model Effectiveness & Applications Summary"
      ]
    },
    {
      "cell_type": "markdown",
      "metadata": {
        "id": "waC7oMu4_bY7"
      },
      "source": [
        "*Insert Model Summary & Results Write-Up Here*"
      ]
    },
    {
      "cell_type": "markdown",
      "metadata": {
        "id": "odWd9rPPz5hg"
      },
      "source": [
        "#### Feature Importances & *Weights*"
      ]
    },
    {
      "cell_type": "code",
      "execution_count": 144,
      "metadata": {},
      "outputs": [],
      "source": [
        "import numpy as np"
      ]
    },
    {
      "cell_type": "code",
      "execution_count": 149,
      "metadata": {},
      "outputs": [],
      "source": [
        "def get_score_after_permutation(model, X, y, curr_feat):\n",
        "    \"\"\" return the score of model when curr_feat is permuted \"\"\"\n",
        "\n",
        "    X_permuted = X.copy()\n",
        "    col_idx = list(X.columns).index(curr_feat)\n",
        "    # permute one column\n",
        "    X_permuted.iloc[:, col_idx] = np.random.permutation(\n",
        "        X_permuted[curr_feat].values)\n",
        "\n",
        "    permuted_score = model.score(X_permuted, y)\n",
        "    return permuted_score"
      ]
    },
    {
      "cell_type": "code",
      "execution_count": 150,
      "metadata": {},
      "outputs": [],
      "source": [
        "def get_feature_importance(model, X, y, curr_feat):\n",
        "    \"\"\" compare the score when curr_feat is permuted \"\"\"\n",
        "\n",
        "    baseline_score_train = model.score(X, y)\n",
        "    permuted_score_train = get_score_after_permutation(model, X, y, curr_feat)\n",
        "\n",
        "    # feature importance is the difference between the two scores\n",
        "    feature_importance = baseline_score_train - permuted_score_train\n",
        "    return feature_importance"
      ]
    },
    {
      "cell_type": "code",
      "execution_count": 151,
      "metadata": {
        "id": "q9ED9dGOzKTi"
      },
      "outputs": [],
      "source": [
        "# Create a sorted list of features from most important to overall outcome to least important!\n",
        "def permutation_importance(model, X, y, n_repeats=10):\n",
        "    \"\"\"Calculate importance score for each feature.\"\"\"\n",
        "\n",
        "    importances = []\n",
        "    for curr_feat in X.columns:\n",
        "        list_feature_importance = []\n",
        "        for n_round in range(n_repeats):\n",
        "            list_feature_importance.append(\n",
        "                get_feature_importance(model, X, y, curr_feat))\n",
        "\n",
        "        importances.append(list_feature_importance)\n",
        "\n",
        "    return {'importances_mean': np.mean(importances, axis=1),\n",
        "            'importances_std': np.std(importances, axis=1),\n",
        "            'importances': importances}"
      ]
    },
    {
      "cell_type": "code",
      "execution_count": 152,
      "metadata": {},
      "outputs": [],
      "source": [
        "def plot_feature_importances(perm_importance_result, feat_name):\n",
        "    \"\"\" bar plot the feature importance \"\"\"\n",
        "\n",
        "    fig, ax = plt.subplots()\n",
        "\n",
        "    indices = perm_importance_result['importances_mean'].argsort()\n",
        "    plt.barh(range(len(indices)),\n",
        "             perm_importance_result['importances_mean'][indices],\n",
        "             xerr=perm_importance_result['importances_std'][indices])\n",
        "\n",
        "    ax.set_yticks(range(len(indices)))\n",
        "    _ = ax.set_yticklabels(feat_name[indices])"
      ]
    },
    {
      "cell_type": "code",
      "execution_count": 153,
      "metadata": {},
      "outputs": [
        {
          "data": {
            "image/png": "[encoded data removed]",
            "text/plain": [
              "<Figure size 432x288 with 1 Axes>"
            ]
          },
          "metadata": {
            "needs_background": "light"
          },
          "output_type": "display_data"
        }
      ],
      "source": [
        "perm_importance_result_train = permutation_importance(\n",
        "    lr_model, X_train, y_train, n_repeats=10)\n",
        "\n",
        "plot_feature_importances(perm_importance_result_train, X_train.columns)"
      ]
    },
    {
      "cell_type": "markdown",
      "metadata": {
        "id": "KMIiCo40_zkr"
      },
      "source": [
        "*Insert Feature Importances Summary & Results Write-Up Here*"
      ]
    }
  ],
  "metadata": {
    "colab": {
      "collapsed_sections": [],
      "name": "DBFP_Machine_Learning_Model_v0.2.ipynb",
      "provenance": []
    },
    "interpreter": {
      "hash": "5dcbbc4e758a8563a411e33997fa6453c969304658d2f289ec8bb04cba5dc17a"
    },
    "kernelspec": {
      "display_name": "Python 3.7.11 ('mlenv')",
      "language": "python",
      "name": "python3"
    },
    "language_info": {
      "codemirror_mode": {
        "name": "ipython",
        "version": 3
      },
      "file_extension": ".py",
      "mimetype": "text/x-python",
      "name": "python",
      "nbconvert_exporter": "python",
      "pygments_lexer": "ipython3",
      "version": "3.7.11"
    }
  },
  "nbformat": 4,
  "nbformat_minor": 0
}
